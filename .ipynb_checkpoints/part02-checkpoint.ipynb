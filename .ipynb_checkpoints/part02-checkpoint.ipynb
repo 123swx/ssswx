{
 "cells": [
  {
   "cell_type": "code",
   "execution_count": 7,
   "metadata": {},
   "outputs": [],
   "source": [
    "import numpy as np\n",
    "import pandas as pd"
   ]
  },
  {
   "cell_type": "code",
   "execution_count": 5,
   "metadata": {},
   "outputs": [
    {
     "name": "stdout",
     "output_type": "stream",
     "text": [
      "2018-10-03 <class 'datetime.date'>\n",
      "2018-10-03\n",
      "2018-10-03\n"
     ]
    }
   ],
   "source": [
    "import datetime\n",
    "today = datetime.date.today()\n",
    "print(today,type(today))\n",
    "print(str(today))\n",
    "\n",
    "date=datetime.date(2018,10,3)\n",
    "print(date)"
   ]
  },
  {
   "cell_type": "code",
   "execution_count": 10,
   "metadata": {},
   "outputs": [
    {
     "name": "stdout",
     "output_type": "stream",
     "text": [
      "2018-10-03 10:45:20.072483 <class 'datetime.datetime'>\n",
      "2018-10-03 00:00:00\n",
      "2018-10-03 10:43:00\n",
      "10:43:00 <class 'datetime.timedelta'>\n"
     ]
    }
   ],
   "source": [
    "now = datetime.datetime.now()\n",
    "print(now,type(now))\n",
    "\n",
    "\n",
    "print(datetime.datetime(2018,10,3))\n",
    "print(datetime.datetime(2018,10,3,10,43,0))\n",
    "d1 = datetime.datetime(2018,10,3)\n",
    "d2 = datetime.datetime(2018,10,3,10,43,0)\n",
    "print(d2-d1,type(d2-d1))"
   ]
  },
  {
   "cell_type": "code",
   "execution_count": 19,
   "metadata": {},
   "outputs": [
    {
     "name": "stdout",
     "output_type": "stream",
     "text": [
      "2019-01-11 01:00:00\n",
      "2018-06-24 23:00:00\n"
     ]
    }
   ],
   "source": [
    "#datetime.timedelta时间差,默认为天\n",
    "t1 = datetime.datetime(2018,10,3)\n",
    "t2 = datetime.timedelta(100,3600)\n",
    " \n",
    "print(t1+t2)\n",
    "print(t1-t2)"
   ]
  },
  {
   "cell_type": "code",
   "execution_count": 21,
   "metadata": {},
   "outputs": [
    {
     "name": "stdout",
     "output_type": "stream",
     "text": [
      "2018-12-21 00:00:00 <class 'datetime.datetime'>\n",
      "2018-12-21 00:00:00\n",
      "2000-01-01 00:00:00 \n",
      " 2014-05-01 00:00:00 \n",
      " 2014-01-05 00:00:00 \n",
      " 2014-01-22 00:00:00 \n",
      " 1997-01-31 22:45:00\n"
     ]
    }
   ],
   "source": [
    "#日期和字符串\n",
    "from  dateutil.parser import parse\n",
    "\n",
    "date =' 2018 12 21'\n",
    "date1 = '12/21/2018'\n",
    "print(parse(date),type(parse(date)))\n",
    "print(parse(date1))\n",
    "\n",
    "\n",
    "print(parse('2000-1-1'),'\\n',\n",
    "     parse('5/1/2014'),'\\n',\n",
    "     parse('5/1/2014', dayfirst = True),'\\n',  # 国际通用格式中，日在月之前，可以通过dayfirst来设置\n",
    "     parse('22/1/2014'),'\\n',\n",
    "     parse('Jan 31, 1997 10:45 PM'))\n",
    "# 各种格式可以解析，但无法支持中文"
   ]
  },
  {
   "cell_type": "code",
   "execution_count": 28,
   "metadata": {},
   "outputs": [
    {
     "name": "stdout",
     "output_type": "stream",
     "text": [
      "请输出当前时间: 2018-10-03 11:27:42.782849\n",
      "----------------\n",
      "请输出时间: 2017-05-01 12:30:00\n",
      "----------------\n",
      "请输出时间: 2000-12-01 00:00:00\n"
     ]
    }
   ],
   "source": [
    "#2.8作业1\n",
    "now = datetime.datetime.now()\n",
    "print(\"请输出当前时间:\",now)\n",
    "print('----------------')\n",
    "print(\"请输出时间:\", datetime.datetime(2017,5,1,12,30,0))\n",
    "print('----------------')\n",
    "print(\"请输出时间:\", datetime.datetime(2000,12,1 ))"
   ]
  },
  {
   "cell_type": "code",
   "execution_count": 31,
   "metadata": {
    "scrolled": true
   },
   "outputs": [
    {
     "name": "stdout",
     "output_type": "stream",
     "text": [
      "2003-01-26 00:00:00\n",
      "1997-08-05 00:00:00\n"
     ]
    }
   ],
   "source": [
    "#2.8作业2\n",
    "d1 = datetime.datetime(2000,5,1)\n",
    "d2 = datetime.timedelta(1000)\n",
    "print(d1+d2)\n",
    "print(d1-d2)"
   ]
  },
  {
   "cell_type": "code",
   "execution_count": 8,
   "metadata": {},
   "outputs": [
    {
     "name": "stdout",
     "output_type": "stream",
     "text": [
      "2017-01-02 13:05:07 <class 'pandas._libs.tslibs.timestamps.Timestamp'>\n",
      "2016-10-01 15:00:00 <class 'pandas._libs.tslibs.timestamps.Timestamp'>\n",
      "2016-10-01 15:00:00\n"
     ]
    }
   ],
   "source": [
    "# pd.Timestamp()\n",
    "import datetime\n",
    "date1 = '2017 01 02 13:5:07'\n",
    "date2 = datetime.datetime(2016,10,1,15,0)\n",
    "t1 = pd.Timestamp(date1)\n",
    "t2 = pd.Timestamp(date2)\n",
    "print(t1,type(t1))\n",
    "print(t2,type(t2))\n",
    "print(date2)\n",
    "# 直接生成pandas的时刻数据 → 时间戳\n",
    "# 数据类型为 pandas的Timestamp"
   ]
  },
  {
   "cell_type": "code",
   "execution_count": 10,
   "metadata": {},
   "outputs": [
    {
     "name": "stdout",
     "output_type": "stream",
     "text": [
      "2017-01-02 13:05:07 <class 'pandas._libs.tslibs.timestamps.Timestamp'>\n",
      "2016-10-01 15:00:00 <class 'pandas._libs.tslibs.timestamps.Timestamp'>\n",
      "DatetimeIndex(['2017-12-21', '2017-12-22', '2017-12-23'], dtype='datetime64[ns]', freq=None) <class 'pandas.core.indexes.datetimes.DatetimeIndex'>\n"
     ]
    }
   ],
   "source": [
    "# pd.to_datetime  \n",
    "from datetime import datetime\n",
    "\n",
    "date1 = '2017 01 02 13:5:07'\n",
    "date2 = datetime(2016,10,1,15,0)\n",
    "t1 = pd.to_datetime(date1)\n",
    "t2 = pd.to_datetime(date2)\n",
    "print(t1,type(t1))\n",
    "print(t2,type(t2))\n",
    "\n",
    "lst_date = [ '2017-12-21', '2017-12-22', '2017-12-23']\n",
    "t3 = pd.to_datetime(lst_date)\n",
    "print(t3,type(t3))\n",
    "# 多个时间数据，将会转换为pandas的DatetimeIndex \n",
    "\n",
    "\n",
    " "
   ]
  },
  {
   "cell_type": "code",
   "execution_count": 18,
   "metadata": {},
   "outputs": [
    {
     "name": "stdout",
     "output_type": "stream",
     "text": [
      "[datetime.datetime(2015, 6, 1, 0, 0), datetime.datetime(2015, 7, 1, 0, 0), datetime.datetime(2015, 8, 1, 0, 0), datetime.datetime(2015, 9, 1, 0, 0), datetime.datetime(2015, 10, 1, 0, 0)]\n",
      "['2017-2-1', '2017-2-2', '2017-2-3', '2017-2-4', '2017-2-5', '2017-2-6']\n",
      "---------------\n",
      "DatetimeIndex(['2015-06-01', '2015-07-01', '2015-08-01', '2015-09-01',\n",
      "               '2015-10-01'],\n",
      "              dtype='datetime64[ns]', freq=None)\n",
      "DatetimeIndex(['2017-02-01', '2017-02-02', '2017-02-03', '2017-02-04',\n",
      "               '2017-02-05', '2017-02-06'],\n",
      "              dtype='datetime64[ns]', freq=None)\n",
      "['2017-2-1' '2017-2-2' '2017-2-3' 'hello world!' '2017-2-5' '2017-2-6'] <class 'numpy.ndarray'>\n",
      "DatetimeIndex(['2017-02-01', '2017-02-02', '2017-02-03', 'NaT', '2017-02-05',\n",
      "               '2017-02-06'],\n",
      "              dtype='datetime64[ns]', freq=None) <class 'pandas.core.indexes.datetimes.DatetimeIndex'>\n"
     ]
    }
   ],
   "source": [
    "# pd.to_datetime → 多个时间数据转换时间戳索引\n",
    "#from datetime import datetime\n",
    "date1 = [datetime(2015,6,1),datetime(2015,7,1),datetime(2015,8,1),datetime(2015,9,1),datetime(2015,10,1)]\n",
    "date2 = ['2017-2-1','2017-2-2','2017-2-3','2017-2-4','2017-2-5','2017-2-6']\n",
    "print(date1)\n",
    "print(date2)\n",
    "t1 = pd.to_datetime(date1)\n",
    "t2 = pd.to_datetime(date2)\n",
    "print('---------------')\n",
    "print(t1)\n",
    "print(t2)\n",
    "# 多个时间数据转换为 DatetimeIndex\n",
    "\n",
    "date3 = ['2017-2-1','2017-2-2','2017-2-3','hello world!','2017-2-5','2017-2-6']\n",
    "t3 = pd.to_datetime(date3, errors = 'ignore')\n",
    "print(t3,type(t3))\n",
    "# 当一组时间序列中夹杂其他格式数据，可用errors参数返回\n",
    "# errors = 'ignore':不可解析时返回原始输入，这里就是直接生成一般数组\n",
    " \n",
    "t4 = pd.to_datetime(date3, errors = 'coerce')\n",
    "print(t4,type(t4))\n",
    "# errors = 'coerce':不可扩展，缺失值返回NaT（Not a Time），结果认为DatetimeIndex \n",
    " "
   ]
  },
  {
   "cell_type": "code",
   "execution_count": 38,
   "metadata": {},
   "outputs": [
    {
     "name": "stdout",
     "output_type": "stream",
     "text": [
      "创建时间列表为:\n",
      " ['2017-12-1', '2017-12-2', '2017-12-3', '2017-12-4', '2017-12-5', '2017-12-6', '2017-12-7', '2017-12-8', '2017-12-9', '2017-12-10', '2017-12-11', '2017-12-12', '2017-12-13', '2017-12-14', '2017-12-15', '2017-12-16', '2017-12-17', '2017-12-18', '2017-12-19', '2017-12-20', '2017-12-21', '2017-12-22', '2017-12-23', '2017-12-24', '2017-12-25', '2017-12-26', '2017-12-27', '2017-12-28', '2017-12-29', '2017-12-30', '2017-12-31']\n",
      "转化成DatetimeIndex为:\n",
      " DatetimeIndex(['2017-12-01', '2017-12-02', '2017-12-03', '2017-12-04',\n",
      "               '2017-12-05', '2017-12-06', '2017-12-07', '2017-12-08',\n",
      "               '2017-12-09', '2017-12-10', '2017-12-11', '2017-12-12',\n",
      "               '2017-12-13', '2017-12-14', '2017-12-15', '2017-12-16',\n",
      "               '2017-12-17', '2017-12-18', '2017-12-19', '2017-12-20',\n",
      "               '2017-12-21', '2017-12-22', '2017-12-23', '2017-12-24',\n",
      "               '2017-12-25', '2017-12-26', '2017-12-27', '2017-12-28',\n",
      "               '2017-12-29', '2017-12-30', '2017-12-31'],\n",
      "              dtype='datetime64[ns]', freq=None)\n",
      "月中日期为:\n",
      " 2017-12-16 00:00:00\n"
     ]
    }
   ],
   "source": [
    "#2.9作业1\n",
    "from datetime import datetime\n",
    "datelist = []\n",
    "for i in range(1,32):\n",
    "    datelist.append('2017-12-%i'%i)\n",
    "print('创建时间列表为:\\n',datelist)    \n",
    "d1 = pd.to_datetime(datelist)\n",
    "print('转化成DatetimeIndex为:\\n',d1)\n",
    "n = (len(d1)+ 1)/2 - 1\n",
    "print('月中日期为:\\n', d1[int(n)])\n",
    "# = (len(t) + 1)/2 - 1\n",
    "#rint('月中日期为：\\n',t[int(n)],'\\n------')"
   ]
  },
  {
   "cell_type": "code",
   "execution_count": 49,
   "metadata": {},
   "outputs": [
    {
     "name": "stdout",
     "output_type": "stream",
     "text": [
      "20150101,20150102,20150103,20150104,20150105,20150106,20150107,20150108\n",
      "读取txt文件为:\n",
      " ['20150101', '20150102', '20150103', '20150104', '20150105', '20150106', '20150107', '20150108']\n",
      "转化成DatetimeIndex为:\n",
      " DatetimeIndex(['2015-01-01', '2015-01-02', '2015-01-03', '2015-01-04',\n",
      "               '2015-01-05', '2015-01-06', '2015-01-07', '2015-01-08'],\n",
      "              dtype='datetime64[ns]', freq=None)\n"
     ]
    }
   ],
   "source": [
    "#2.9作业2\n",
    "f = open('C:\\\\Users\\\\swx\\\\Desktop\\\\a.txt','r')\n",
    "s = f.readline()\n",
    "print(s)\n",
    "datelist = s.split(',')  #注意这个\n",
    "print('读取txt文件为:\\n',  datelist)\n",
    "d1 = pd.to_datetime(datelist)\n",
    "print('转化成DatetimeIndex为:\\n',d1)"
   ]
  },
  {
   "cell_type": "code",
   "execution_count": 53,
   "metadata": {
    "scrolled": true
   },
   "outputs": [
    {
     "name": "stdout",
     "output_type": "stream",
     "text": [
      "DatetimeIndex(['2017-12-01', '2017-12-02', '2017-12-03', '2017-12-04',\n",
      "               '2017-12-05'],\n",
      "              dtype='datetime64[ns]', freq=None) <class 'pandas.core.indexes.datetimes.DatetimeIndex'>\n",
      "2017-12-01 00:00:00 <class 'pandas._libs.tslibs.timestamps.Timestamp'>\n",
      "\n",
      "\n",
      "2017-12-01    0.246241\n",
      "2017-12-02    0.650989\n",
      "2017-12-03    0.960152\n",
      "2017-12-04    0.443767\n",
      "2017-12-05    0.785122\n",
      "dtype: float64 <class 'pandas.core.series.Series'>\n",
      "DatetimeIndex(['2017-12-01', '2017-12-02', '2017-12-03', '2017-12-04',\n",
      "               '2017-12-05'],\n",
      "              dtype='datetime64[ns]', freq=None)\n"
     ]
    }
   ],
   "source": [
    "# pd.DatetimeIndex()与TimeSeries时间序列\n",
    "\n",
    "rng = pd.DatetimeIndex(['12/1/2017','12/2/2017','12/3/2017','12/4/2017','12/5/2017'])\n",
    "print(rng,type(rng))\n",
    "print(rng[0],type(rng[0]))\n",
    "print('\\n')\n",
    "# 直接生成时间戳索引，支持str、datetime.datetime\n",
    "# 单个时间戳为Timestamp，多个时间戳为DatetimeIndex\n",
    "\n",
    "st = pd.Series(np.random.rand(len(rng)), index = rng)\n",
    "print(st,type(st))\n",
    "print(st.index)\n",
    "# 以DatetimeIndex为index的Series，为TimeSries，时间序列"
   ]
  },
  {
   "cell_type": "code",
   "execution_count": 57,
   "metadata": {},
   "outputs": [
    {
     "name": "stdout",
     "output_type": "stream",
     "text": [
      "DatetimeIndex(['2017-01-01', '2017-01-02', '2017-01-03', '2017-01-04',\n",
      "               '2017-01-05', '2017-01-06', '2017-01-07', '2017-01-08',\n",
      "               '2017-01-09', '2017-01-10'],\n",
      "              dtype='datetime64[ns]', freq='D') <class 'pandas.core.indexes.datetimes.DatetimeIndex'>\n",
      "DatetimeIndex(['2017-01-01', '2017-01-02', '2017-01-03', '2017-01-04',\n",
      "               '2017-01-05', '2017-01-06', '2017-01-07', '2017-01-08',\n",
      "               '2017-01-09', '2017-01-10'],\n",
      "              dtype='datetime64[ns]', freq='D')\n",
      "DatetimeIndex(['2017-01-21 15:00:00', '2017-01-22 15:00:00',\n",
      "               '2017-01-23 15:00:00', '2017-01-24 15:00:00',\n",
      "               '2017-01-25 15:00:00', '2017-01-26 15:00:00',\n",
      "               '2017-01-27 15:00:00', '2017-01-28 15:00:00',\n",
      "               '2017-01-29 15:00:00', '2017-01-30 15:00:00'],\n",
      "              dtype='datetime64[ns]', freq='D')\n",
      "-------\n",
      "DatetimeIndex(['2017-01-01', '2017-01-02', '2017-01-03', '2017-01-04',\n",
      "               '2017-01-05', '2017-01-06', '2017-01-07', '2017-01-08',\n",
      "               '2017-01-09', '2017-01-10'],\n",
      "              dtype='datetime64[ns]', name='hello world!', freq='D')\n",
      "-------\n",
      "DatetimeIndex(['2017-01-01', '2017-01-02', '2017-01-03', '2017-01-04'], dtype='datetime64[ns]', freq='D')\n",
      "DatetimeIndex(['2017-01-02', '2017-01-03', '2017-01-04'], dtype='datetime64[ns]', freq='D')\n",
      "DatetimeIndex(['2017-01-01', '2017-01-02', '2017-01-03'], dtype='datetime64[ns]', freq='D')\n",
      "-------\n",
      "DatetimeIndex(['2017-01-02', '2017-01-03', '2017-01-04', '2017-01-05',\n",
      "               '2017-01-06'],\n",
      "              dtype='datetime64[ns]', freq='B')\n",
      "[Timestamp('2017-01-01 00:00:00', freq='D'), Timestamp('2017-01-02 00:00:00', freq='D'), Timestamp('2017-01-03 00:00:00', freq='D'), Timestamp('2017-01-04 00:00:00', freq='D'), Timestamp('2017-01-05 00:00:00', freq='D'), Timestamp('2017-01-06 00:00:00', freq='D'), Timestamp('2017-01-07 00:00:00', freq='D'), Timestamp('2017-01-08 00:00:00', freq='D'), Timestamp('2017-01-09 00:00:00', freq='D'), Timestamp('2017-01-10 00:00:00', freq='D')]\n"
     ]
    }
   ],
   "source": [
    "# pd.date_range()-日期范围：生成日期范围\n",
    "# 2种生成方式：①start + end； ②start/end + periods\n",
    "# 默认频率：day\n",
    "\n",
    "rng1 = pd.date_range('1/1/2017','1/10/2017', normalize=True)\n",
    "rng2 = pd.date_range(start = '1/1/2017', periods = 10)\n",
    "rng3 = pd.date_range(end = '1/30/2017 15:00:00', periods = 10)  # 增加了时、分、秒\n",
    "print(rng1,type(rng1))\n",
    "print(rng2)\n",
    "print(rng3)\n",
    "print('-------')\n",
    "# 直接生成DatetimeIndex\n",
    "# pd.date_range(start=None, end=None, periods=None, freq='D', tz=None, normalize=False, name=None, closed=None, **kwargs)\n",
    "# start：开始时间\n",
    "# end：结束时间\n",
    "# periods：偏移量\n",
    "# freq：频率，默认天，pd.date_range()默认频率为日历日，pd.bdate_range()默认频率为工作日\n",
    "# tz：时区\n",
    "\n",
    "\n",
    "rng4 = pd.date_range(start = '1/1/2017 15:30', periods = 10, name = 'hello world!', normalize = True)\n",
    "print(rng4)\n",
    "print('-------')\n",
    "# normalize：时间参数值正则化到午夜时间戳（这里最后就直接变成0:00:00，并不是15:30:00）\n",
    "# name：索引对象名称\n",
    "\n",
    "\n",
    "print(pd.date_range('20170101','20170104'))  # 20170101也可读取\n",
    "print(pd.date_range('20170101','20170104',closed = 'right'))\n",
    "print(pd.date_range('20170101','20170104',closed = 'left'))\n",
    "print('-------')\n",
    "# closed：默认为None的情况下，左闭右闭，left则左闭右开，right则左开右闭\n",
    "\n",
    "print(pd.bdate_range('20170101','20170107'))\n",
    "# pd.bdate_range()默认频率为工作日\n",
    "\n",
    "print(list(pd.date_range(start = '1/1/2017', periods = 10)))\n",
    "# 直接转化为list，元素为Timestamp"
   ]
  },
  {
   "cell_type": "code",
   "execution_count": 59,
   "metadata": {
    "scrolled": true
   },
   "outputs": [
    {
     "name": "stdout",
     "output_type": "stream",
     "text": [
      "DatetimeIndex(['2017-01-01', '2017-01-02', '2017-01-03', '2017-01-04'], dtype='datetime64[ns]', freq='D')\n",
      "DatetimeIndex(['2017-01-02', '2017-01-03', '2017-01-04'], dtype='datetime64[ns]', freq='B')\n",
      "DatetimeIndex(['2017-01-01 00:00:00', '2017-01-01 01:00:00',\n",
      "               '2017-01-01 02:00:00', '2017-01-01 03:00:00',\n",
      "               '2017-01-01 04:00:00', '2017-01-01 05:00:00',\n",
      "               '2017-01-01 06:00:00', '2017-01-01 07:00:00',\n",
      "               '2017-01-01 08:00:00', '2017-01-01 09:00:00',\n",
      "               '2017-01-01 10:00:00', '2017-01-01 11:00:00',\n",
      "               '2017-01-01 12:00:00', '2017-01-01 13:00:00',\n",
      "               '2017-01-01 14:00:00', '2017-01-01 15:00:00',\n",
      "               '2017-01-01 16:00:00', '2017-01-01 17:00:00',\n",
      "               '2017-01-01 18:00:00', '2017-01-01 19:00:00',\n",
      "               '2017-01-01 20:00:00', '2017-01-01 21:00:00',\n",
      "               '2017-01-01 22:00:00', '2017-01-01 23:00:00',\n",
      "               '2017-01-02 00:00:00'],\n",
      "              dtype='datetime64[ns]', freq='H')\n",
      "DatetimeIndex(['2017-01-01 12:00:00', '2017-01-01 12:01:00',\n",
      "               '2017-01-01 12:02:00', '2017-01-01 12:03:00',\n",
      "               '2017-01-01 12:04:00', '2017-01-01 12:05:00',\n",
      "               '2017-01-01 12:06:00', '2017-01-01 12:07:00',\n",
      "               '2017-01-01 12:08:00', '2017-01-01 12:09:00',\n",
      "               '2017-01-01 12:10:00'],\n",
      "              dtype='datetime64[ns]', freq='T')\n",
      "DatetimeIndex(['2017-01-01 12:00:00', '2017-01-01 12:00:01',\n",
      "               '2017-01-01 12:00:02', '2017-01-01 12:00:03',\n",
      "               '2017-01-01 12:00:04', '2017-01-01 12:00:05',\n",
      "               '2017-01-01 12:00:06', '2017-01-01 12:00:07',\n",
      "               '2017-01-01 12:00:08', '2017-01-01 12:00:09',\n",
      "               '2017-01-01 12:00:10'],\n",
      "              dtype='datetime64[ns]', freq='S')\n",
      "DatetimeIndex([       '2017-01-01 12:00:00', '2017-01-01 12:00:00.001000',\n",
      "               '2017-01-01 12:00:00.002000', '2017-01-01 12:00:00.003000',\n",
      "               '2017-01-01 12:00:00.004000', '2017-01-01 12:00:00.005000',\n",
      "               '2017-01-01 12:00:00.006000', '2017-01-01 12:00:00.007000',\n",
      "               '2017-01-01 12:00:00.008000', '2017-01-01 12:00:00.009000',\n",
      "               ...\n",
      "               '2017-01-01 12:00:09.991000', '2017-01-01 12:00:09.992000',\n",
      "               '2017-01-01 12:00:09.993000', '2017-01-01 12:00:09.994000',\n",
      "               '2017-01-01 12:00:09.995000', '2017-01-01 12:00:09.996000',\n",
      "               '2017-01-01 12:00:09.997000', '2017-01-01 12:00:09.998000',\n",
      "               '2017-01-01 12:00:09.999000',        '2017-01-01 12:00:10'],\n",
      "              dtype='datetime64[ns]', length=10001, freq='L')\n",
      "DatetimeIndex([       '2017-01-01 12:00:00', '2017-01-01 12:00:00.000001',\n",
      "               '2017-01-01 12:00:00.000002', '2017-01-01 12:00:00.000003',\n",
      "               '2017-01-01 12:00:00.000004', '2017-01-01 12:00:00.000005',\n",
      "               '2017-01-01 12:00:00.000006', '2017-01-01 12:00:00.000007',\n",
      "               '2017-01-01 12:00:00.000008', '2017-01-01 12:00:00.000009',\n",
      "               ...\n",
      "               '2017-01-01 12:00:09.999991', '2017-01-01 12:00:09.999992',\n",
      "               '2017-01-01 12:00:09.999993', '2017-01-01 12:00:09.999994',\n",
      "               '2017-01-01 12:00:09.999995', '2017-01-01 12:00:09.999996',\n",
      "               '2017-01-01 12:00:09.999997', '2017-01-01 12:00:09.999998',\n",
      "               '2017-01-01 12:00:09.999999',        '2017-01-01 12:00:10'],\n",
      "              dtype='datetime64[ns]', length=10000001, freq='U')\n",
      "DatetimeIndex(['2017-01-02', '2017-01-09', '2017-01-16', '2017-01-23',\n",
      "               '2017-01-30'],\n",
      "              dtype='datetime64[ns]', freq='W-MON')\n",
      "DatetimeIndex(['2017-01-09', '2017-02-13', '2017-03-13', '2017-04-10'], dtype='datetime64[ns]', freq='WOM-2MON')\n"
     ]
    }
   ],
   "source": [
    "# pd.date_range()-日期范围：频率(1)\n",
    "\n",
    "print(pd.date_range('2017/1/1','2017/1/4'))  # 默认freq = 'D'：每日历日\n",
    "print(pd.date_range('2017/1/1','2017/1/4', freq = 'B'))  # B：每工作日\n",
    "print(pd.date_range('2017/1/1','2017/1/2', freq = 'H'))  # H：每小时\n",
    "print(pd.date_range('2017/1/1 12:00','2017/1/1 12:10', freq = 'T'))  # T/MIN：每分\n",
    "print(pd.date_range('2017/1/1 12:00:00','2017/1/1 12:00:10', freq = 'S'))  # S：每秒\n",
    "print(pd.date_range('2017/1/1 12:00:00','2017/1/1 12:00:10', freq = 'L'))  # L：每毫秒（千分之一秒）\n",
    "print(pd.date_range('2017/1/1 12:00:00','2017/1/1 12:00:10', freq = 'U'))  # U：每微秒（百万分之一秒）\n",
    "\n",
    "print(pd.date_range('2017/1/1','2017/2/1', freq = 'W-MON'))  \n",
    "# W-MON：从指定星期几开始算起，每周\n",
    "# 星期几缩写：MON/TUE/WED/THU/FRI/SAT/SUN\n",
    "\n",
    "print(pd.date_range('2017/1/1','2017/5/1', freq = 'WOM-2MON'))  \n",
    "# WOM-2MON：每月的第几个星期几开始算，这里是每月第二个星期一"
   ]
  },
  {
   "cell_type": "code",
   "execution_count": 65,
   "metadata": {
    "scrolled": true
   },
   "outputs": [
    {
     "name": "stdout",
     "output_type": "stream",
     "text": [
      "DatetimeIndex(['2017-01-31', '2017-02-28', '2017-03-31', '2017-04-30',\n",
      "               '2017-05-31', '2017-06-30', '2017-07-31', '2017-08-31',\n",
      "               '2017-09-30', '2017-10-31', '2017-11-30', '2017-12-31'],\n",
      "              dtype='datetime64[ns]', freq='M')\n",
      "------\n",
      "DatetimeIndex(['2017-01-31', '2017-04-30', '2017-07-31', '2017-10-31',\n",
      "               '2018-01-31', '2018-04-30', '2018-07-31', '2018-10-31',\n",
      "               '2019-01-31', '2019-04-30', '2019-07-31', '2019-10-31'],\n",
      "              dtype='datetime64[ns]', freq='Q-JAN')\n",
      "------\n",
      "DatetimeIndex(['2017-02-28', '2017-05-31', '2017-08-31', '2017-11-30',\n",
      "               '2018-02-28', '2018-05-31', '2018-08-31', '2018-11-30',\n",
      "               '2019-02-28', '2019-05-31', '2019-08-31', '2019-11-30'],\n",
      "              dtype='datetime64[ns]', freq='Q-FEB')\n",
      "------\n",
      "DatetimeIndex(['2017-03-31', '2017-06-30', '2017-09-30', '2017-12-31',\n",
      "               '2018-03-31', '2018-06-30', '2018-09-30', '2018-12-31',\n",
      "               '2019-03-31', '2019-06-30', '2019-09-30', '2019-12-31'],\n",
      "              dtype='datetime64[ns]', freq='Q-MAR')\n",
      "------\n",
      "DatetimeIndex(['2017-12-31', '2018-12-31', '2019-12-31'], dtype='datetime64[ns]', freq='A-DEC')\n",
      "------\n",
      "DatetimeIndex(['2017-09-30', '2018-09-30', '2019-09-30'], dtype='datetime64[ns]', freq='A-SEP')\n",
      "------\n",
      "--------------------------------------\n",
      "DatetimeIndex(['2017-01-31', '2017-02-28', '2017-03-31', '2017-04-28',\n",
      "               '2017-05-31', '2017-06-30', '2017-07-31', '2017-08-31',\n",
      "               '2017-09-29', '2017-10-31', '2017-11-30', '2017-12-29'],\n",
      "              dtype='datetime64[ns]', freq='BM')\n",
      "DatetimeIndex(['2017-03-31', '2017-06-30', '2017-09-29', '2017-12-29',\n",
      "               '2018-03-30', '2018-06-29', '2018-09-28', '2018-12-31',\n",
      "               '2019-03-29', '2019-06-28', '2019-09-30', '2019-12-31'],\n",
      "              dtype='datetime64[ns]', freq='BQ-DEC')\n",
      "DatetimeIndex(['2017-12-29', '2018-12-31', '2019-12-31'], dtype='datetime64[ns]', freq='BA-DEC')\n",
      "------\n",
      "--------------------------------------\n",
      "DatetimeIndex(['2017-01-01', '2017-02-01', '2017-03-01', '2017-04-01',\n",
      "               '2017-05-01', '2017-06-01', '2017-07-01', '2017-08-01',\n",
      "               '2017-09-01', '2017-10-01', '2017-11-01', '2017-12-01',\n",
      "               '2018-01-01'],\n",
      "              dtype='datetime64[ns]', freq='MS')\n",
      "DatetimeIndex(['2017-03-01', '2017-06-01', '2017-09-01', '2017-12-01',\n",
      "               '2018-03-01', '2018-06-01', '2018-09-01', '2018-12-01',\n",
      "               '2019-03-01', '2019-06-01', '2019-09-01', '2019-12-01'],\n",
      "              dtype='datetime64[ns]', freq='QS-DEC')\n",
      "DatetimeIndex(['2017-12-01', '2018-12-01', '2019-12-01'], dtype='datetime64[ns]', freq='AS-DEC')\n",
      "------\n",
      "--------------------------------------\n",
      "DatetimeIndex(['2017-01-02', '2017-02-01', '2017-03-01', '2017-04-03',\n",
      "               '2017-05-01', '2017-06-01', '2017-07-03', '2017-08-01',\n",
      "               '2017-09-01', '2017-10-02', '2017-11-01', '2017-12-01',\n",
      "               '2018-01-01'],\n",
      "              dtype='datetime64[ns]', freq='BMS')\n",
      "DatetimeIndex(['2017-03-01', '2017-06-01', '2017-09-01', '2017-12-01',\n",
      "               '2018-03-01', '2018-06-01', '2018-09-03', '2018-12-03',\n",
      "               '2019-03-01', '2019-06-03', '2019-09-02', '2019-12-02'],\n",
      "              dtype='datetime64[ns]', freq='BQS-DEC')\n",
      "DatetimeIndex(['2017-12-01', '2018-12-03', '2019-12-02'], dtype='datetime64[ns]', freq='BAS-DEC')\n",
      "------\n"
     ]
    }
   ],
   "source": [
    "# pd.date_range()-日期范围：频率(2)\n",
    "\n",
    "print(pd.date_range('2017','2018', freq = 'M'))\n",
    "print('------')\n",
    "print(pd.date_range('2017','2020', freq = 'Q-JAN'))  \n",
    "print('------')\n",
    "print(pd.date_range('2017','2020', freq = 'Q-FEB'))  \n",
    "print('------')\n",
    "print(pd.date_range('2017','2020', freq = 'Q-MAR'))  \n",
    "print('------')\n",
    "print(pd.date_range('2017','2020', freq = 'A-DEC')) \n",
    "print('------')\n",
    "print(pd.date_range('2017','2020', freq = 'A-SEP')) \n",
    "print('------')\n",
    "# M：每月最后一个日历日\n",
    "# Q-月：指定月为季度末，每个季度末最后一月的最后一个日历日\n",
    "# A-月：每年指定月份的最后一个日历日\n",
    "# 月缩写：JAN/FEB/MAR/APR/MAY/JUN/JUL/AUG/SEP/OCT/NOV/DEC\n",
    "# 所以Q-月只有三种情况：1-4-7-10,2-5-8-11,3-6-9-12\n",
    "\n",
    "\n",
    "print('--------------------------------------')\n",
    "print(pd.date_range('2017','2018', freq = 'BM'))  \n",
    "print(pd.date_range('2017','2020', freq = 'BQ-DEC'))  \n",
    "print(pd.date_range('2017','2020', freq = 'BA-DEC')) \n",
    "print('------')\n",
    "# BM：每月最后一个工作日\n",
    "# BQ-月：指定月为季度末，每个季度末最后一月的最后一个工作日\n",
    "# BA-月：每年指定月份的最后一个工作日\n",
    "print('--------------------------------------')\n",
    "print(pd.date_range('2017','2018', freq = 'MS'))  \n",
    "print(pd.date_range('2017','2020', freq = 'QS-DEC'))  \n",
    "print(pd.date_range('2017','2020', freq = 'AS-DEC')) \n",
    "print('------')\n",
    "# M：每月第一个日历日\n",
    "# Q-月：指定月为季度末，每个季度末最后一月的第一个日历日\n",
    "# A-月：每年指定月份的第一个日历日\n",
    "print('--------------------------------------')\n",
    "print(pd.date_range('2017','2018', freq = 'BMS'))  \n",
    "print(pd.date_range('2017','2020', freq = 'BQS-DEC'))  \n",
    "print(pd.date_range('2017','2020', freq = 'BAS-DEC')) \n",
    "print('------')\n",
    "# BM：每月第一个工作日\n",
    "# BQ-月：指定月为季度末，每个季度末最后一月的第一个工作日\n",
    "# BA-月：每年指定月份的第一个工作日"
   ]
  },
  {
   "cell_type": "code",
   "execution_count": 71,
   "metadata": {},
   "outputs": [
    {
     "name": "stdout",
     "output_type": "stream",
     "text": [
      "DatetimeIndex(['2017-01-01', '2017-01-08', '2017-01-15', '2017-01-22',\n",
      "               '2017-01-29'],\n",
      "              dtype='datetime64[ns]', freq='7D')\n",
      "DatetimeIndex(['2017-01-01 00:00:00', '2017-01-01 02:30:00',\n",
      "               '2017-01-01 05:00:00', '2017-01-01 07:30:00',\n",
      "               '2017-01-01 10:00:00', '2017-01-01 12:30:00',\n",
      "               '2017-01-01 15:00:00', '2017-01-01 17:30:00',\n",
      "               '2017-01-01 20:00:00', '2017-01-01 22:30:00'],\n",
      "              dtype='datetime64[ns]', freq='150T')\n",
      "DatetimeIndex(['2017-01-02', '2017-03-01', '2017-05-01', '2017-07-03',\n",
      "               '2017-09-01', '2017-11-01', '2018-01-01'],\n",
      "              dtype='datetime64[ns]', freq='2BMS')\n"
     ]
    }
   ],
   "source": [
    "# pd.date_range()-日期范围：复合频率\n",
    "\n",
    "print(pd.date_range('2017/1/1','2017/2/1', freq = '7D'))  # 7天\n",
    "print(pd.date_range('2017/1/1','2017/1/2', freq = '2h30min'))  # 2小时30分钟\n",
    "print(pd.date_range('2017','2018', freq = '2BMS'))  # 2月，每月第一个工作日"
   ]
  },
  {
   "cell_type": "code",
   "execution_count": 79,
   "metadata": {},
   "outputs": [
    {
     "name": "stdout",
     "output_type": "stream",
     "text": [
      "2017-01-01    0.422949\n",
      "2017-01-02    0.329776\n",
      "2017-01-03    0.420567\n",
      "2017-01-04    0.949500\n",
      "Freq: D, dtype: float64\n",
      "2017-01-01 00:00:00    0.422949\n",
      "2017-01-01 04:00:00    0.329776\n",
      "2017-01-01 08:00:00    0.329776\n",
      "2017-01-01 12:00:00    0.329776\n",
      "2017-01-01 16:00:00    0.329776\n",
      "2017-01-01 20:00:00    0.329776\n",
      "2017-01-02 00:00:00    0.329776\n",
      "2017-01-02 04:00:00    0.420567\n",
      "2017-01-02 08:00:00    0.420567\n",
      "2017-01-02 12:00:00    0.420567\n",
      "2017-01-02 16:00:00    0.420567\n",
      "2017-01-02 20:00:00    0.420567\n",
      "2017-01-03 00:00:00    0.420567\n",
      "2017-01-03 04:00:00    0.949500\n",
      "2017-01-03 08:00:00    0.949500\n",
      "2017-01-03 12:00:00    0.949500\n",
      "2017-01-03 16:00:00    0.949500\n",
      "2017-01-03 20:00:00    0.949500\n",
      "2017-01-04 00:00:00    0.949500\n",
      "Freq: 4H, dtype: float64\n"
     ]
    }
   ],
   "source": [
    "# asfreq：时期频率转换\n",
    "\n",
    "ts = pd.Series(np.random.rand(4),\n",
    "              index = pd.date_range('20170101','20170104'))\n",
    "print(ts)\n",
    "print(ts.asfreq('4H' ,method = 'bfill'))\n",
    "# 改变频率，这里是D改为4H\n",
    "# method：插值模式，None不插值，ffill用之前值填充，bfill用之后值填充"
   ]
  },
  {
   "cell_type": "code",
   "execution_count": 83,
   "metadata": {},
   "outputs": [
    {
     "name": "stdout",
     "output_type": "stream",
     "text": [
      "2017-01-01    0.996288\n",
      "2017-01-02    0.284749\n",
      "2017-01-03    0.758823\n",
      "2017-01-04    0.353567\n",
      "Freq: D, dtype: float64\n",
      "2017-01-01         NaN\n",
      "2017-01-02         NaN\n",
      "2017-01-03    0.996288\n",
      "2017-01-04    0.284749\n",
      "Freq: D, dtype: float64\n",
      "2017-01-01    0.758823\n",
      "2017-01-02    0.353567\n",
      "2017-01-03         NaN\n",
      "2017-01-04         NaN\n",
      "Freq: D, dtype: float64\n",
      "------\n",
      "2017-01-01         NaN\n",
      "2017-01-02   -0.714190\n",
      "2017-01-03    1.664883\n",
      "2017-01-04   -0.534058\n",
      "Freq: D, dtype: float64\n",
      "------\n",
      "2017-01-03    0.996288\n",
      "2017-01-04    0.284749\n",
      "2017-01-05    0.758823\n",
      "2017-01-06    0.353567\n",
      "Freq: D, dtype: float64\n",
      "2017-01-01 00:02:00    0.996288\n",
      "2017-01-02 00:02:00    0.284749\n",
      "2017-01-03 00:02:00    0.758823\n",
      "2017-01-04 00:02:00    0.353567\n",
      "Freq: D, dtype: float64\n"
     ]
    }
   ],
   "source": [
    "# pd.date_range()-日期范围：超前/滞后数据\n",
    "\n",
    "ts = pd.Series(np.random.rand(4),\n",
    "              index = pd.date_range('20170101','20170104'))\n",
    "print(ts)\n",
    "\n",
    "print(ts.shift(2))\n",
    "print(ts.shift(-2))\n",
    "print('------')\n",
    "# 正数：数值后移（滞后）；负数：数值前移（超前）\n",
    "\n",
    "per = ts/ts.shift(1) - 1\n",
    "print(per)\n",
    "print('------')\n",
    "# 计算变化百分比，这里计算：该时间戳与上一个时间戳相比，变化百分比\n",
    "\n",
    "print(ts.shift(2, freq = 'D'))\n",
    "print(ts.shift(2, freq = 'T'))\n",
    "# 加上freq参数：对时间戳进行位移，而不是对数值进行位移,对索引移"
   ]
  },
  {
   "cell_type": "code",
   "execution_count": 102,
   "metadata": {},
   "outputs": [
    {
     "name": "stdout",
     "output_type": "stream",
     "text": [
      "时间序列1:\n",
      " 2017-01-01    0.042827\n",
      "2017-01-02    0.577717\n",
      "2017-01-03    0.332288\n",
      "2017-01-04    0.984257\n",
      "2017-01-05    0.461237\n",
      "Freq: D, dtype: float64\n",
      "时间序列2:\n",
      " 2017-01-31    0.511102\n",
      "2017-04-30    0.614237\n",
      "2017-07-31    0.977493\n",
      "2017-10-31    0.791123\n",
      "Freq: Q-JAN, dtype: float64\n",
      "时间序列2:\n",
      " 2017-01-31    0.498925\n",
      "2017-04-30    0.785690\n",
      "2017-07-31    0.757985\n",
      "2017-10-31    0.111862\n",
      "Freq: 3M, dtype: float64\n",
      "时间序列3:\n",
      "                       values1   values2   values3   values4\n",
      "2017-12-01 00:00:00  0.571930  0.399666  0.714139  0.267773\n",
      "2017-12-01 00:10:00  0.785451  0.990051  0.965615  0.797619\n",
      "2017-12-01 00:20:00  0.281280  0.954479  0.732167  0.526010\n",
      "2017-12-01 00:30:00  0.346700  0.027698  0.144351  0.158400\n"
     ]
    }
   ],
   "source": [
    "#2.10作业1\n",
    "import numpy as np\n",
    "t = pd.Series(np.random.rand(5),index=pd.date_range('20170101','20170105'))\n",
    "print('时间序列1:\\n',t)\n",
    "t1 = pd.Series(np.random.rand(4),index=pd.date_range('2017','2018',freq='Q-JAN'))\n",
    "t4 = pd.Series(np.random.rand(4),index=pd.date_range('2017','2018',freq=' 3M'))\n",
    "print('时间序列2:\\n',t1)\n",
    "print('时间序列2:\\n',t4)\n",
    "t2 = pd.DataFrame(np.random.rand(16).reshape(4,4),\n",
    "               index = pd.date_range('20171201',periods=4,freq='10T'),\n",
    "               columns=['values1','values2','values3','values4'])\n",
    "print('时间序列3:\\n',t2)"
   ]
  },
  {
   "cell_type": "code",
   "execution_count": 108,
   "metadata": {
    "scrolled": true
   },
   "outputs": [
    {
     "name": "stdout",
     "output_type": "stream",
     "text": [
      "创建时间序列ts1:\n",
      " 2017-05-01 12:00:00    0.965299\n",
      "2017-05-01 12:10:00    0.309106\n",
      "2017-05-01 12:20:00    0.959642\n",
      "2017-05-01 12:30:00    0.794145\n",
      "2017-05-01 12:40:00    0.806256\n",
      "Freq: 10T, dtype: float64\n",
      "转换成ts1:\n",
      " 2017-05-01 12:00:00    0.965299\n",
      "2017-05-01 12:05:00    0.965299\n",
      "2017-05-01 12:10:00    0.309106\n",
      "2017-05-01 12:15:00    0.309106\n",
      "2017-05-01 12:20:00    0.959642\n",
      "2017-05-01 12:25:00    0.959642\n",
      "2017-05-01 12:30:00    0.794145\n",
      "2017-05-01 12:35:00    0.794145\n",
      "2017-05-01 12:40:00    0.806256\n",
      "Freq: 5T, dtype: float64\n"
     ]
    }
   ],
   "source": [
    "#2.10作业2\n",
    "ts1 = pd.Series(np.random.rand(5),index = pd.date_range('20170501 12:00:00',\n",
    "    periods = 5,freq= '10T'))\n",
    "print('创建时间序列ts1:\\n',ts1)\n",
    "ts2 =  ts1.asfreq('5T',method ='ffill' )\n",
    "print('转换成ts1:\\n',ts2)\n"
   ]
  },
  {
   "cell_type": "code",
   "execution_count": 126,
   "metadata": {},
   "outputs": [
    {
     "name": "stdout",
     "output_type": "stream",
     "text": [
      "2017-01-01 <class 'pandas._libs.tslibs.period.Period'>\n",
      "DatetimeIndex(['2017-01-01'], dtype='datetime64[ns]', freq=None) <class 'pandas.core.indexes.datetimes.DatetimeIndex'>\n",
      "2017-01-02\n",
      "2016-12-30\n",
      "2010\n"
     ]
    }
   ],
   "source": [
    "# pd.Period()创建时期\n",
    "\n",
    "p = pd.Period('2017', freq = 'D')\n",
    "t = pd.DatetimeIndex(['2017-1-1'])\n",
    "print(p, type(p))\n",
    "print(t, type(t))\n",
    "# 生成一个以2017-01开始，月为频率的时间构造器\n",
    "# pd.Period()参数：一个时间戳 + freq 参数 → freq 用于指明该 period 的长度，时间戳则说明该 period 在时间轴上的位置\n",
    "\n",
    "print(p + 1)\n",
    "print(p - 2)\n",
    "print(pd.Period('2012', freq = 'A-DEC') - 2)\n",
    "# 通过加减整数，将周期整体移动\n",
    "# 这里是按照 月、年 移动"
   ]
  },
  {
   "cell_type": "code",
   "execution_count": 114,
   "metadata": {
    "scrolled": true
   },
   "outputs": [
    {
     "name": "stdout",
     "output_type": "stream",
     "text": [
      "PeriodIndex(['2011-01', '2011-02', '2011-03', '2011-04', '2011-05', '2011-06',\n",
      "             '2011-07', '2011-08', '2011-09', '2011-10', '2011-11', '2011-12',\n",
      "             '2012-01'],\n",
      "            dtype='period[M]', freq='M') <class 'pandas.core.indexes.period.PeriodIndex'>\n",
      "DatetimeIndex(['2011-01-31', '2011-02-28', '2011-03-31', '2011-04-30',\n",
      "               '2011-05-31', '2011-06-30', '2011-07-31', '2011-08-31',\n",
      "               '2011-09-30', '2011-10-31', '2011-11-30', '2011-12-31'],\n",
      "              dtype='datetime64[ns]', freq='M') <class 'pandas.core.indexes.datetimes.DatetimeIndex'>\n",
      "2011-01 <class 'pandas._libs.tslibs.period.Period'>\n",
      "2011-01    0.722811\n",
      "2011-02    0.908185\n",
      "2011-03    0.921946\n",
      "2011-04    0.051923\n",
      "2011-05    0.866431\n",
      "2011-06    0.067262\n",
      "2011-07    0.423050\n",
      "2011-08    0.001647\n",
      "2011-09    0.758964\n",
      "2011-10    0.873546\n",
      "2011-11    0.540019\n",
      "2011-12    0.985295\n",
      "2012-01    0.955760\n",
      "Freq: M, dtype: float64 <class 'pandas.core.series.Series'>\n",
      "PeriodIndex(['2011-01', '2011-02', '2011-03', '2011-04', '2011-05', '2011-06',\n",
      "             '2011-07', '2011-08', '2011-09', '2011-10', '2011-11', '2011-12',\n",
      "             '2012-01'],\n",
      "            dtype='period[M]', freq='M')\n",
      "2011-01-31    0.040997\n",
      "2011-02-28    0.734825\n",
      "2011-03-31    0.635650\n",
      "2011-04-30    0.128421\n",
      "2011-05-31    0.703514\n",
      "2011-06-30    0.644077\n",
      "2011-07-31    0.603996\n",
      "2011-08-31    0.038982\n",
      "2011-09-30    0.378689\n",
      "2011-10-31    0.005625\n",
      "2011-11-30    0.465517\n",
      "2011-12-31    0.203490\n",
      "Freq: M, dtype: float64 <class 'pandas.core.series.Series'>\n",
      "DatetimeIndex(['2011-01-31', '2011-02-28', '2011-03-31', '2011-04-30',\n",
      "               '2011-05-31', '2011-06-30', '2011-07-31', '2011-08-31',\n",
      "               '2011-09-30', '2011-10-31', '2011-11-30', '2011-12-31'],\n",
      "              dtype='datetime64[ns]', freq='M')\n",
      "PeriodIndex(['2011-01', '2011-02', '2011-03', '2011-04', '2011-05', '2011-06',\n",
      "             '2011-07', '2011-08', '2011-09', '2011-10', '2011-11', '2011-12',\n",
      "             '2012-01'],\n",
      "            dtype='period[M]', freq='M') <class 'pandas.core.indexes.period.PeriodIndex'>\n",
      "2011-01 <class 'pandas._libs.tslibs.period.Period'>\n",
      "2011-01    0.374752\n",
      "2011-02    0.065761\n",
      "2011-03    0.916334\n",
      "2011-04    0.326601\n",
      "2011-05    0.006567\n",
      "2011-06    0.133698\n",
      "2011-07    0.656499\n",
      "2011-08    0.571829\n",
      "2011-09    0.853410\n",
      "2011-10    0.329359\n",
      "2011-11    0.367450\n",
      "2011-12    0.754611\n",
      "2012-01    0.463756\n",
      "Freq: M, dtype: float64 <class 'pandas.core.series.Series'>\n",
      "PeriodIndex(['2011-01', '2011-02', '2011-03', '2011-04', '2011-05', '2011-06',\n",
      "             '2011-07', '2011-08', '2011-09', '2011-10', '2011-11', '2011-12',\n",
      "             '2012-01'],\n",
      "            dtype='period[M]', freq='M')\n"
     ]
    }
   ],
   "source": [
    " \n",
    "# pd.period_range()创建时期范围\n",
    "\n",
    "prng = pd.period_range('1/1/2011', '1/1/2012', freq='M')\n",
    "rng = pd.date_range('1/1/2011', '1/1/2012', freq='M')\n",
    "print(prng,type(prng))\n",
    "print(rng,type(rng))\n",
    "print(prng[0],type(prng[0]))\n",
    "# 数据格式为PeriodIndex，单个数值为Period\n",
    "\n",
    "ts = pd.Series(np.random.rand(len(prng)), index = prng)\n",
    "print(ts,type(ts))\n",
    "print(ts.index)\n",
    "ts1 = pd.Series(np.random.rand(len(rng)), index = rng)\n",
    "print(ts1,type(ts1))\n",
    "print(ts1.index)\n",
    "# 时间序列\n",
    "\n",
    "# Period('2011', freq = 'A-DEC')可以看成多个时间期的时间段中的游标\n",
    "# Timestamp表示一个时间戳，是一个时间截面；Period是一个时期，是一个时间段！！但两者作为index时区别不大\n",
    "print(prng,type(prng))\n",
    "print(prng[0],type(prng[0]))\n",
    "# 数据格式为PeriodIndex，单个数值为Period\n",
    "\n",
    "  "
   ]
  },
  {
   "cell_type": "code",
   "execution_count": 119,
   "metadata": {},
   "outputs": [
    {
     "name": "stdout",
     "output_type": "stream",
     "text": [
      "2017\n",
      "2017-01\n",
      "2017-12-31\n",
      "2017-01    0.929242\n",
      "2017-02    0.813467\n",
      "2017-03    0.531032\n",
      "2017-04    0.777775\n",
      "2017-05    0.968778\n",
      "2017-06    0.788351\n",
      "2017-07    0.638184\n",
      "2017-08    0.789859\n",
      "2017-09    0.692732\n",
      "2017-10    0.594451\n",
      "2017-11    0.999825\n",
      "2017-12    0.209581\n",
      "2018-01    0.088970\n",
      "Freq: M, dtype: float64 13\n",
      "2017-01-01    0.148012\n",
      "2017-02-01    0.095475\n",
      "2017-03-01    0.510973\n",
      "2017-04-01    0.359918\n",
      "2017-05-01    0.031032\n",
      "2017-06-01    0.778182\n",
      "2017-07-01    0.003785\n",
      "2017-08-01    0.560195\n",
      "2017-09-01    0.203239\n",
      "2017-10-01    0.230312\n",
      "2017-11-01    0.722956\n",
      "2017-12-01    0.240176\n",
      "2018-01-01    0.670427\n",
      "Freq: D, dtype: float64 13\n"
     ]
    }
   ],
   "source": [
    "# asfreq：频率转换\n",
    "\n",
    "p = pd.Period('2017','A-DEC')\n",
    "print(p)\n",
    "print(p.asfreq('M', how = 'start'))  # 也可写 how = 's'\n",
    "print(p.asfreq('D', how = 'end'))  # 也可写 how = 'e'\n",
    "# 通过.asfreq(freq, method=None, how=None)方法转换成别的频率\n",
    "\n",
    "prng = pd.period_range('2017','2018',freq = 'M')\n",
    "ts1 = pd.Series(np.random.rand(len(prng)), index = prng)\n",
    "ts2 = pd.Series(np.random.rand(len(prng)), index = prng.asfreq('D', how = 'start'))\n",
    "print(ts1 ,len(ts1))\n",
    "print(ts2 ,len(ts2))\n",
    "# asfreq也可以转换TIMESeries的index"
   ]
  },
  {
   "cell_type": "code",
   "execution_count": 128,
   "metadata": {},
   "outputs": [
    {
     "name": "stdout",
     "output_type": "stream",
     "text": [
      "DatetimeIndex(['2017-01-31', '2017-02-28', '2017-03-31', '2017-04-30',\n",
      "               '2017-05-31', '2017-06-30', '2017-07-31', '2017-08-31',\n",
      "               '2017-09-30', '2017-10-31'],\n",
      "              dtype='datetime64[ns]', freq='M')\n",
      "PeriodIndex(['2017-01', '2017-02', '2017-03', '2017-04', '2017-05', '2017-06',\n",
      "             '2017-07', '2017-08', '2017-09', '2017-10', '2017-11', '2017-12',\n",
      "             '2018-01'],\n",
      "            dtype='period[M]', freq='M')\n",
      "-----------------------------------\n",
      "2017-01-31    0.478609\n",
      "2017-02-28    0.530332\n",
      "2017-03-31    0.616739\n",
      "2017-04-30    0.759258\n",
      "2017-05-31    0.802835\n",
      "Freq: M, dtype: float64\n",
      "2017-01    0.478609\n",
      "2017-02    0.530332\n",
      "2017-03    0.616739\n",
      "2017-04    0.759258\n",
      "2017-05    0.802835\n",
      "Freq: M, dtype: float64\n",
      "-----------------------\n",
      "2017-01    0.622558\n",
      "2017-02    0.845277\n",
      "2017-03    0.320892\n",
      "2017-04    0.180603\n",
      "2017-05    0.752741\n",
      "Freq: M, dtype: float64\n",
      "2017-01-01    0.622558\n",
      "2017-02-01    0.845277\n",
      "2017-03-01    0.320892\n",
      "2017-04-01    0.180603\n",
      "2017-05-01    0.752741\n",
      "Freq: MS, dtype: float64\n"
     ]
    }
   ],
   "source": [
    "# 时间戳与时期之间的转换：pd.to_period()、pd.to_timestamp()\n",
    "\n",
    "rng = pd.date_range('2017/1/1', periods = 10, freq = 'M')\n",
    "prng = pd.period_range('2017','2018', freq = 'M')\n",
    "print(rng)\n",
    "print(prng)\n",
    "print('-----------------------------------')\n",
    "ts1 = pd.Series(np.random.rand(len(rng)), index = rng)\n",
    "print(ts1.head())\n",
    "print(ts1.to_period().head())\n",
    "# 每月最后一日，转化为每月\n",
    "print('-----------------------')\n",
    "ts2 = pd.Series(np.random.rand(len(prng)), index = prng)\n",
    "print(ts2.head())\n",
    "print(ts2.to_timestamp().head())\n",
    "# 每月，转化为每月第一天"
   ]
  },
  {
   "cell_type": "code",
   "execution_count": 1,
   "metadata": {
    "scrolled": true
   },
   "outputs": [
    {
     "ename": "NameError",
     "evalue": "name 'pd' is not defined",
     "output_type": "error",
     "traceback": [
      "\u001b[1;31m---------------------------------------------------------------------------\u001b[0m",
      "\u001b[1;31mNameError\u001b[0m                                 Traceback (most recent call last)",
      "\u001b[1;32m<ipython-input-1-75bbb68a605f>\u001b[0m in \u001b[0;36m<module>\u001b[1;34m()\u001b[0m\n\u001b[0;32m      1\u001b[0m \u001b[1;31m#2.11作业\u001b[0m\u001b[1;33m\u001b[0m\u001b[1;33m\u001b[0m\u001b[0m\n\u001b[1;32m----> 2\u001b[1;33m \u001b[0md1\u001b[0m \u001b[1;33m=\u001b[0m  \u001b[0mpd\u001b[0m\u001b[1;33m.\u001b[0m\u001b[0mperiod_range\u001b[0m\u001b[1;33m(\u001b[0m\u001b[1;34m'201701'\u001b[0m\u001b[1;33m,\u001b[0m\u001b[0mperiods\u001b[0m \u001b[1;33m=\u001b[0m \u001b[1;36m5\u001b[0m\u001b[1;33m,\u001b[0m \u001b[0mfreq\u001b[0m \u001b[1;33m=\u001b[0m \u001b[1;34m'M'\u001b[0m\u001b[1;33m)\u001b[0m\u001b[1;33m\u001b[0m\u001b[0m\n\u001b[0m\u001b[0;32m      3\u001b[0m \u001b[0ms1\u001b[0m \u001b[1;33m=\u001b[0m \u001b[0mpd\u001b[0m\u001b[1;33m.\u001b[0m\u001b[0mSeries\u001b[0m\u001b[1;33m(\u001b[0m\u001b[0mnp\u001b[0m\u001b[1;33m.\u001b[0m\u001b[0mrandom\u001b[0m\u001b[1;33m.\u001b[0m\u001b[0mrand\u001b[0m\u001b[1;33m(\u001b[0m\u001b[0mlen\u001b[0m\u001b[1;33m(\u001b[0m\u001b[0md1\u001b[0m\u001b[1;33m)\u001b[0m\u001b[1;33m)\u001b[0m\u001b[1;33m,\u001b[0m\u001b[0mindex\u001b[0m\u001b[1;33m=\u001b[0m\u001b[0md1\u001b[0m\u001b[1;33m)\u001b[0m\u001b[1;33m\u001b[0m\u001b[0m\n\u001b[0;32m      4\u001b[0m \u001b[0mprint\u001b[0m\u001b[1;33m(\u001b[0m\u001b[1;34m'时间序列1:\\n'\u001b[0m\u001b[1;33m,\u001b[0m\u001b[0ms1\u001b[0m\u001b[1;33m)\u001b[0m\u001b[1;33m\u001b[0m\u001b[0m\n\u001b[0;32m      5\u001b[0m \u001b[0md2\u001b[0m \u001b[1;33m=\u001b[0m  \u001b[0mpd\u001b[0m\u001b[1;33m.\u001b[0m\u001b[0mperiod_range\u001b[0m\u001b[1;33m(\u001b[0m\u001b[1;34m'20170101'\u001b[0m\u001b[1;33m,\u001b[0m\u001b[0mperiods\u001b[0m \u001b[1;33m=\u001b[0m \u001b[1;36m5\u001b[0m\u001b[1;33m,\u001b[0m \u001b[0mfreq\u001b[0m \u001b[1;33m=\u001b[0m \u001b[1;34m'2H'\u001b[0m\u001b[1;33m)\u001b[0m\u001b[1;33m\u001b[0m\u001b[0m\n",
      "\u001b[1;31mNameError\u001b[0m: name 'pd' is not defined"
     ]
    }
   ],
   "source": [
    "#2.11作业\n",
    "d1 =  pd.period_range('201701',periods = 5, freq = 'M')\n",
    "s1 = pd.Series(np.random.rand(len(d1)),index=d1)\n",
    "print('时间序列1:\\n',s1)\n",
    "d2 =  pd.period_range('20170101',periods = 5, freq = '2H')\n",
    "s2 = pd.Series(np.random.rand(len(d2)),index=d2)\n",
    "print('时间序列2:\\n',s2) "
   ]
  },
  {
   "cell_type": "code",
   "execution_count": 8,
   "metadata": {
    "scrolled": true
   },
   "outputs": [
    {
     "name": "stdout",
     "output_type": "stream",
     "text": [
      "2017-01-01    0.287264\n",
      "2017-01-02    0.936956\n",
      "2017-01-03    0.434818\n",
      "2017-01-04    0.946920\n",
      "2017-01-05    0.366222\n",
      "Freq: D, dtype: float64\n",
      "0.287263815317387\n",
      "2017-01-01    0.287264\n",
      "2017-01-02    0.936956\n",
      "Freq: D, dtype: float64\n",
      "----------------\n",
      "0.9369559947444227\n",
      "0.9369559947444227\n",
      "0.9369559947444227\n",
      "0.9369559947444227\n"
     ]
    }
   ],
   "source": [
    "# 索引\n",
    "import pandas as pd\n",
    "import numpy as np\n",
    "from datetime import datetime\n",
    "rng = pd.date_range('2017/1','2017/3')\n",
    "ts = pd.Series(np.random.rand(len(rng)),index=rng)\n",
    "print(ts.head())\n",
    "print(ts[0])\n",
    "print(ts[:2])\n",
    "print('----------------')\n",
    "print(ts.loc['20170102'])\n",
    "print(ts['2017-1-2'])\n",
    "print(ts['1/2/2017'])\n",
    "print(ts[datetime(2017,1,2)])\n",
    "# 时间序列标签索引，支持各种时间字符串，以及datetime.datetime\n",
    "\n",
    "# 时间序列由于按照时间先后排序，故不用考虑顺序问题\n",
    "# 索引方法同样适用于Dataframe"
   ]
  },
  {
   "cell_type": "code",
   "execution_count": 25,
   "metadata": {
    "scrolled": true
   },
   "outputs": [
    {
     "name": "stdout",
     "output_type": "stream",
     "text": [
      "2017-01-05    0.271275\n",
      "2017-01-06    0.127378\n",
      "2017-01-07    0.724369\n",
      "2017-01-08    0.472851\n",
      "2017-01-09    0.175033\n",
      "2017-01-10    0.156466\n",
      "Freq: D, dtype: float64\n",
      "-----\n",
      "2017-02-01    0.879176\n",
      "2017-02-02    0.872200\n",
      "2017-02-03    0.539549\n",
      "2017-02-04    0.444913\n",
      "2017-02-05    0.064969\n",
      "2017-02-06    0.465538\n",
      "2017-02-07    0.202458\n",
      "2017-02-08    0.988075\n",
      "2017-02-09    0.163576\n",
      "2017-02-10    0.816000\n",
      "2017-02-11    0.798320\n",
      "2017-02-12    0.836786\n",
      "2017-02-13    0.147683\n",
      "2017-02-14    0.554160\n",
      "2017-02-15    0.644909\n",
      "2017-02-16    0.647421\n",
      "2017-02-17    0.862228\n",
      "2017-02-18    0.678873\n",
      "2017-02-19    0.832773\n",
      "2017-02-20    0.721768\n",
      "2017-02-21    0.059346\n",
      "2017-02-22    0.730711\n",
      "2017-02-23    0.721137\n",
      "2017-02-24    0.226032\n",
      "2017-02-25    0.317542\n",
      "2017-02-26    0.368954\n",
      "2017-02-27    0.357604\n",
      "2017-02-28    0.612275\n",
      "Freq: D, dtype: float64\n"
     ]
    }
   ],
   "source": [
    "# 切片\n",
    "\n",
    "rng = pd.date_range('2017/1','2017/3' )\n",
    "ts = pd.Series(np.random.rand(len(rng)), index = rng)\n",
    "\n",
    "print(ts['2017/1/5':'2017/1/10'])\n",
    "print('-----')\n",
    "# 和Series按照index索引原理一样，也是末端包含\n",
    "\n",
    "print(ts['2017/2'] )\n",
    "# 传入月，直接得到一个切片"
   ]
  },
  {
   "cell_type": "code",
   "execution_count": 27,
   "metadata": {},
   "outputs": [
    {
     "name": "stdout",
     "output_type": "stream",
     "text": [
      "2015-01-01    0.108329\n",
      "2015-01-02    0.447891\n",
      "2015-01-03    0.332881\n",
      "2015-01-04    0.452422\n",
      "2015-01-01    0.441340\n",
      "2015-01-02    0.799948\n",
      "dtype: float64\n",
      "True False\n",
      "-----\n",
      "2015-01-01    0.108329\n",
      "2015-01-01    0.441340\n",
      "dtype: float64 <class 'pandas.core.series.Series'>\n",
      "2015-01-04    0.452422\n",
      "dtype: float64 <class 'pandas.core.series.Series'>\n",
      "-----\n",
      "2015-01-01    0.274834\n",
      "2015-01-02    0.623920\n",
      "2015-01-03    0.332881\n",
      "2015-01-04    0.452422\n",
      "dtype: float64\n"
     ]
    }
   ],
   "source": [
    "# 重复索引的时间序列\n",
    "\n",
    "dates = pd.DatetimeIndex(['1/1/2015','1/2/2015','1/3/2015','1/4/2015','1/1/2015','1/2/2015'])\n",
    "ts = pd.Series(np.random.rand(6), index = dates)\n",
    "print(ts)\n",
    "print(ts.is_unique,ts.index.is_unique)\n",
    "print('-----')\n",
    "# index有重复，is_unique检查 → values唯一，index不唯一 \n",
    "\n",
    "print(ts['20150101'],type(ts['20150101']))\n",
    "print(ts['20150104'],type(ts['20150104']))\n",
    "print('-----')\n",
    "# index有重复的将返回多个值\n",
    "\n",
    "\n",
    "print(ts.groupby(level=0).mean())\n",
    "# 通过groupby做分组，重复的值这里用平均值处理"
   ]
  },
  {
   "cell_type": "code",
   "execution_count": 40,
   "metadata": {},
   "outputs": [
    {
     "name": "stdout",
     "output_type": "stream",
     "text": [
      "创建时间序列为:\n",
      "                        values1    values2    values3\n",
      "2017-12-01 00:00:00  43.362998  44.468191   7.478379\n",
      "2017-12-01 12:00:00  56.832949  95.615408  92.697053\n",
      "2017-12-02 00:00:00  38.116164  47.715045  40.269748\n",
      "2017-12-02 12:00:00  78.029736  24.279024  68.371839\n",
      "2017-12-03 00:00:00  11.699462  57.517085  63.009525\n",
      "2017-12-03 12:00:00  71.267873  71.070710  37.448607\n",
      "2017-12-04 00:00:00  38.524941  86.403318  14.451072\n",
      "2017-12-04 12:00:00  27.815829  95.492165   1.745126\n",
      "2017-12-05 00:00:00  52.073354   2.735276  53.331754\n",
      "2017-12-05 12:00:00  98.764391  38.081981  82.493330\n",
      "前4行的所有值为:\n",
      "                        values1    values2    values3\n",
      "2017-12-01 00:00:00  43.362998  44.468191   7.478379\n",
      "2017-12-01 12:00:00  56.832949  95.615408  92.697053\n",
      "2017-12-02 00:00:00  38.116164  47.715045  40.269748\n",
      "2017-12-02 12:00:00  78.029736  24.279024  68.371839\n",
      "---------------------------\n",
      "前4行的所有值为:\n",
      "                        values1    values2    values3\n",
      "2017-12-01 00:00:00  43.362998  44.468191   7.478379\n",
      "2017-12-01 12:00:00  56.832949  95.615408  92.697053\n",
      "2017-12-02 00:00:00  38.116164  47.715045  40.269748\n",
      "2017-12-02 12:00:00  78.029736  24.279024  68.371839\n",
      "---------------------------\n",
      "2107-12-04 12:00:00的数据为:\n",
      "  values1    27.815829\n",
      "values2    95.492165\n",
      "values3     1.745126\n",
      "Name: 2017-12-04 12:00:00, dtype: float64\n",
      "---------------------------\n",
      "2107-12-04 - 2017-12-05的数据为:\n",
      "                         values1    values2    values3\n",
      "2017-12-04 00:00:00  38.524941  86.403318  14.451072\n",
      "2017-12-04 12:00:00  27.815829  95.492165   1.745126\n",
      "2017-12-05 00:00:00  52.073354   2.735276  53.331754\n",
      "2017-12-05 12:00:00  98.764391  38.081981  82.493330\n"
     ]
    }
   ],
   "source": [
    "date = pd.date_range('20171201',periods = 10,freq = '12H')\n",
    "s = pd.DataFrame(np.random.rand(10,3)*100,index = date,columns = ['values1','values2','values3'])\n",
    "print('创建时间序列为:\\n',s)\n",
    "print('前4行的所有值为:\\n',s[:4])\n",
    "print('---------------------------')\n",
    "print('前4行的所有值为:\\n',s['20171201':'20171202']) \n",
    "print('---------------------------')\n",
    "print( '2107-12-04 12:00:00的数据为:\\n ',s.loc['20171204 1200'])\n",
    "print('---------------------------')\n",
    "print( '2107-12-04 - 2017-12-05的数据为:\\n ',s.loc['20171204':'20171205'])"
   ]
  },
  {
   "cell_type": "code",
   "execution_count": 45,
   "metadata": {},
   "outputs": [
    {
     "name": "stdout",
     "output_type": "stream",
     "text": [
      "2017-01-01     0\n",
      "2017-01-02     1\n",
      "2017-01-03     2\n",
      "2017-01-04     3\n",
      "2017-01-05     4\n",
      "2017-01-06     5\n",
      "2017-01-07     6\n",
      "2017-01-08     7\n",
      "2017-01-09     8\n",
      "2017-01-10     9\n",
      "2017-01-11    10\n",
      "2017-01-12    11\n",
      "Freq: D, dtype: int32\n",
      "DatetimeIndexResampler [freq=<5 * Days>, axis=0, closed=left, label=left, convention=start, base=0]\n",
      "----------------------\n",
      "2017-01-01    10\n",
      "2017-01-06    35\n",
      "2017-01-11    21\n",
      "dtype: int32 <class 'pandas.core.series.Series'>\n",
      "----------------------\n",
      "2017-01-01     2.0\n",
      "2017-01-06     7.0\n",
      "2017-01-11    10.5\n",
      "dtype: float64 → 求平均值\n",
      "\n",
      "2017-01-01     4\n",
      "2017-01-06     9\n",
      "2017-01-11    11\n",
      "dtype: int32 → 求最大值\n",
      "\n",
      "2017-01-01     0\n",
      "2017-01-06     5\n",
      "2017-01-11    10\n",
      "dtype: int32 → 求最小值\n",
      "\n",
      "2017-01-01     2.0\n",
      "2017-01-06     7.0\n",
      "2017-01-11    10.5\n",
      "dtype: float64 → 求中值\n",
      "\n",
      "2017-01-01     0\n",
      "2017-01-06     5\n",
      "2017-01-11    10\n",
      "dtype: int32 → 返回第一个值\n",
      "\n",
      "2017-01-01     4\n",
      "2017-01-06     9\n",
      "2017-01-11    11\n",
      "dtype: int32 → 返回最后一个值\n",
      "\n",
      "            open  high  low  close\n",
      "2017-01-01     0     4    0      4\n",
      "2017-01-06     5     9    5      9\n",
      "2017-01-11    10    11   10     11 → OHLC重采样\n",
      "\n"
     ]
    }
   ],
   "source": [
    " #重采样：.resample()\n",
    "# 创建一个以天为频率的TimeSeries，重采样为按2天为频率\n",
    "\n",
    "rng = pd.date_range('20170101', periods = 12)\n",
    "ts = pd.Series(np.arange(12), index = rng)\n",
    "print(ts)\n",
    "\n",
    "ts_re = ts.resample('5D')\n",
    "ts_re2 = ts.resample('5D').sum()\n",
    "print(ts_re)\n",
    "print('----------------------')\n",
    "print(ts_re2, type(ts_re2))\n",
    "print('----------------------')\n",
    "# ts.resample('5D')：得到一个重采样构建器，频率改为5天\n",
    "# ts.resample('5D').sum():得到一个新的聚合后的Series，聚合方式为求和\n",
    "# freq：重采样频率 → ts.resample('5D')\n",
    "# .sum()：聚合方法\n",
    "\n",
    "\n",
    "print(ts.resample('5D').mean(),'→ 求平均值\\n')\n",
    "print(ts.resample('5D').max(),'→ 求最大值\\n')\n",
    "print(ts.resample('5D').min(),'→ 求最小值\\n')\n",
    "print(ts.resample('5D').median(),'→ 求中值\\n')\n",
    "print(ts.resample('5D').first(),'→ 返回第一个值\\n')\n",
    "print(ts.resample('5D').last(),'→ 返回最后一个值\\n')\n",
    "print(ts.resample('5D').ohlc(),'→ OHLC重采样\\n')\n",
    "# OHLC:金融领域的时间序列聚合方式 → open开盘、high最大值、low最小值、close收盘"
   ]
  },
  {
   "cell_type": "code",
   "execution_count": 50,
   "metadata": {},
   "outputs": [
    {
     "name": "stdout",
     "output_type": "stream",
     "text": [
      "2017-01-01     1\n",
      "2017-01-02     2\n",
      "2017-01-03     3\n",
      "2017-01-04     4\n",
      "2017-01-05     5\n",
      "2017-01-06     6\n",
      "2017-01-07     7\n",
      "2017-01-08     8\n",
      "2017-01-09     9\n",
      "2017-01-10    10\n",
      "2017-01-11    11\n",
      "2017-01-12    12\n",
      "Freq: D, dtype: int32\n",
      "2017-01-01    15\n",
      "2017-01-06    40\n",
      "2017-01-11    23\n",
      "dtype: int32 → 默认\n",
      "\n",
      "---------------------\n",
      "2017-01-01    15\n",
      "2017-01-06    40\n",
      "2017-01-11    23\n",
      "dtype: int32 → left\n",
      "\n",
      "---------------------\n",
      "2016-12-27     1\n",
      "2017-01-01    20\n",
      "2017-01-06    45\n",
      "2017-01-11    12\n",
      "dtype: int32 → right\n",
      "\n",
      "---------------------\n",
      "2017-01-01    15\n",
      "2017-01-06    40\n",
      "2017-01-11    23\n",
      "dtype: int32 → leftlabel\n",
      "\n",
      "2017-01-06    15\n",
      "2017-01-11    40\n",
      "2017-01-16    23\n",
      "dtype: int32 → rightlabel\n",
      "\n"
     ]
    }
   ],
   "source": [
    "# 降采样\n",
    "\n",
    "rng = pd.date_range('20170101', periods = 12)\n",
    "ts = pd.Series(np.arange(1,13), index = rng)\n",
    "print(ts)\n",
    "\n",
    "print(ts.resample('5D').sum(),'→ 默认\\n')\n",
    "print('---------------------')\n",
    "print(ts.resample('5D', closed = 'left').sum(),'→ left\\n')\n",
    "print('---------------------')\n",
    "print(ts.resample('5D', closed = 'right').sum(),'→ right\\n')\n",
    "print('---------------------')\n",
    "# closed：各时间段哪一端是闭合（即包含）的，默认 左闭右闭\n",
    "# 详解：这里values为0-11，按照5D重采样 → [1,2,3,4,5],[6,7,8,9,10],[11,12]\n",
    "# left指定间隔左边为结束 → [1,2,3,4,5],[6,7,8,9,10],[11,12]\n",
    "# right指定间隔右边为结束 → [1],[2,3,4,5,6],[7,8,9,10,11],[12]\n",
    "\n",
    "print(ts.resample('5D', label = 'left').sum(),'→ leftlabel\\n')\n",
    "print(ts.resample('5D', label = 'right').sum(),'→ rightlabel\\n')\n",
    "# label：聚合值的index，默认为取左\n",
    "# 值采样认为默认（这里closed默认） "
   ]
  },
  {
   "cell_type": "code",
   "execution_count": 52,
   "metadata": {},
   "outputs": [
    {
     "name": "stdout",
     "output_type": "stream",
     "text": [
      "                      a   b   c\n",
      "2017-01-01 00:00:00   0   1   2\n",
      "2017-01-01 01:00:00   3   4   5\n",
      "2017-01-01 02:00:00   6   7   8\n",
      "2017-01-01 03:00:00   9  10  11\n",
      "2017-01-01 04:00:00  12  13  14\n",
      "                        a     b     c\n",
      "2017-01-01 00:00:00   0.0   1.0   2.0\n",
      "2017-01-01 00:15:00   NaN   NaN   NaN\n",
      "2017-01-01 00:30:00   NaN   NaN   NaN\n",
      "2017-01-01 00:45:00   NaN   NaN   NaN\n",
      "2017-01-01 01:00:00   3.0   4.0   5.0\n",
      "2017-01-01 01:15:00   NaN   NaN   NaN\n",
      "2017-01-01 01:30:00   NaN   NaN   NaN\n",
      "2017-01-01 01:45:00   NaN   NaN   NaN\n",
      "2017-01-01 02:00:00   6.0   7.0   8.0\n",
      "2017-01-01 02:15:00   NaN   NaN   NaN\n",
      "2017-01-01 02:30:00   NaN   NaN   NaN\n",
      "2017-01-01 02:45:00   NaN   NaN   NaN\n",
      "2017-01-01 03:00:00   9.0  10.0  11.0\n",
      "2017-01-01 03:15:00   NaN   NaN   NaN\n",
      "2017-01-01 03:30:00   NaN   NaN   NaN\n",
      "2017-01-01 03:45:00   NaN   NaN   NaN\n",
      "2017-01-01 04:00:00  12.0  13.0  14.0\n",
      "                      a   b   c\n",
      "2017-01-01 00:00:00   0   1   2\n",
      "2017-01-01 00:15:00   0   1   2\n",
      "2017-01-01 00:30:00   0   1   2\n",
      "2017-01-01 00:45:00   0   1   2\n",
      "2017-01-01 01:00:00   3   4   5\n",
      "2017-01-01 01:15:00   3   4   5\n",
      "2017-01-01 01:30:00   3   4   5\n",
      "2017-01-01 01:45:00   3   4   5\n",
      "2017-01-01 02:00:00   6   7   8\n",
      "2017-01-01 02:15:00   6   7   8\n",
      "2017-01-01 02:30:00   6   7   8\n",
      "2017-01-01 02:45:00   6   7   8\n",
      "2017-01-01 03:00:00   9  10  11\n",
      "2017-01-01 03:15:00   9  10  11\n",
      "2017-01-01 03:30:00   9  10  11\n",
      "2017-01-01 03:45:00   9  10  11\n",
      "2017-01-01 04:00:00  12  13  14\n",
      "                      a   b   c\n",
      "2017-01-01 00:00:00   0   1   2\n",
      "2017-01-01 00:15:00   3   4   5\n",
      "2017-01-01 00:30:00   3   4   5\n",
      "2017-01-01 00:45:00   3   4   5\n",
      "2017-01-01 01:00:00   3   4   5\n",
      "2017-01-01 01:15:00   6   7   8\n",
      "2017-01-01 01:30:00   6   7   8\n",
      "2017-01-01 01:45:00   6   7   8\n",
      "2017-01-01 02:00:00   6   7   8\n",
      "2017-01-01 02:15:00   9  10  11\n",
      "2017-01-01 02:30:00   9  10  11\n",
      "2017-01-01 02:45:00   9  10  11\n",
      "2017-01-01 03:00:00   9  10  11\n",
      "2017-01-01 03:15:00  12  13  14\n",
      "2017-01-01 03:30:00  12  13  14\n",
      "2017-01-01 03:45:00  12  13  14\n",
      "2017-01-01 04:00:00  12  13  14\n"
     ]
    }
   ],
   "source": [
    "# 升采样及插值\n",
    "\n",
    "rng = pd.date_range('2017/1/1 0:0:0', periods = 5, freq = 'H')\n",
    "ts = pd.DataFrame(np.arange(15).reshape(5,3),\n",
    "                  index = rng,\n",
    "                  columns = ['a','b','c'])\n",
    "print(ts)\n",
    "\n",
    "print(ts.resample('15T').asfreq())\n",
    "print(ts.resample('15T').ffill())\n",
    "print(ts.resample('15T').bfill())\n",
    "# 低频转高频，主要是如何插值\n",
    "# .asfreq()：不做填充，返回Nan\n",
    "# .ffill()：向上填充\n",
    "# .bfill()：向下填充"
   ]
  },
  {
   "cell_type": "code",
   "execution_count": 57,
   "metadata": {
    "scrolled": true
   },
   "outputs": [
    {
     "name": "stdout",
     "output_type": "stream",
     "text": [
      "2016-01     0\n",
      "2016-02     1\n",
      "2016-03     2\n",
      "2016-04     3\n",
      "2016-05     4\n",
      "2016-06     5\n",
      "2016-07     6\n",
      "2016-08     7\n",
      "2016-09     8\n",
      "2016-10     9\n",
      "2016-11    10\n",
      "2016-12    11\n",
      "2017-01    12\n",
      "Freq: M, dtype: int32\n",
      "----------------\n"
     ]
    },
    {
     "ename": "IncompatibleFrequency",
     "evalue": "Frequency <MonthEnd> cannot be resampled to <3 * MonthEnds>, as they are not sub or super periods",
     "output_type": "error",
     "traceback": [
      "\u001b[1;31m---------------------------------------------------------------------------\u001b[0m",
      "\u001b[1;31mIncompatibleFrequency\u001b[0m                     Traceback (most recent call last)",
      "\u001b[1;32m<ipython-input-57-defaa1184959>\u001b[0m in \u001b[0;36m<module>\u001b[1;34m()\u001b[0m\n\u001b[0;32m      5\u001b[0m \u001b[0mprint\u001b[0m\u001b[1;33m(\u001b[0m\u001b[0mts\u001b[0m\u001b[1;33m)\u001b[0m\u001b[1;33m\u001b[0m\u001b[0m\n\u001b[0;32m      6\u001b[0m \u001b[0mprint\u001b[0m\u001b[1;33m(\u001b[0m\u001b[1;34m'----------------'\u001b[0m\u001b[1;33m)\u001b[0m\u001b[1;33m\u001b[0m\u001b[0m\n\u001b[1;32m----> 7\u001b[1;33m \u001b[0mprint\u001b[0m\u001b[1;33m(\u001b[0m\u001b[0mts\u001b[0m\u001b[1;33m.\u001b[0m\u001b[0mresample\u001b[0m\u001b[1;33m(\u001b[0m\u001b[1;34m'3M'\u001b[0m\u001b[1;33m)\u001b[0m\u001b[1;33m.\u001b[0m\u001b[0msum\u001b[0m\u001b[1;33m(\u001b[0m\u001b[1;33m)\u001b[0m\u001b[1;33m)\u001b[0m  \u001b[1;31m# 降采样\u001b[0m\u001b[1;33m\u001b[0m\u001b[0m\n\u001b[0m\u001b[0;32m      8\u001b[0m \u001b[0mprint\u001b[0m\u001b[1;33m(\u001b[0m\u001b[1;34m'----------------'\u001b[0m\u001b[1;33m)\u001b[0m\u001b[1;33m\u001b[0m\u001b[0m\n\u001b[0;32m      9\u001b[0m \u001b[0mprint\u001b[0m\u001b[1;33m(\u001b[0m\u001b[0mts\u001b[0m\u001b[1;33m.\u001b[0m\u001b[0mresample\u001b[0m\u001b[1;33m(\u001b[0m\u001b[1;34m'15D'\u001b[0m\u001b[1;33m)\u001b[0m\u001b[1;33m.\u001b[0m\u001b[0mffill\u001b[0m\u001b[1;33m(\u001b[0m\u001b[1;33m)\u001b[0m\u001b[1;33m)\u001b[0m  \u001b[1;31m# 升采样\u001b[0m\u001b[1;33m\u001b[0m\u001b[0m\n",
      "\u001b[1;32mD:\\ANA\\lib\\site-packages\\pandas\\core\\resample.py\u001b[0m in \u001b[0;36mf\u001b[1;34m(self, _method, min_count, *args, **kwargs)\u001b[0m\n\u001b[0;32m    756\u001b[0m     \u001b[1;32mdef\u001b[0m \u001b[0mf\u001b[0m\u001b[1;33m(\u001b[0m\u001b[0mself\u001b[0m\u001b[1;33m,\u001b[0m \u001b[0m_method\u001b[0m\u001b[1;33m=\u001b[0m\u001b[0mmethod\u001b[0m\u001b[1;33m,\u001b[0m \u001b[0mmin_count\u001b[0m\u001b[1;33m=\u001b[0m\u001b[1;36m0\u001b[0m\u001b[1;33m,\u001b[0m \u001b[1;33m*\u001b[0m\u001b[0margs\u001b[0m\u001b[1;33m,\u001b[0m \u001b[1;33m**\u001b[0m\u001b[0mkwargs\u001b[0m\u001b[1;33m)\u001b[0m\u001b[1;33m:\u001b[0m\u001b[1;33m\u001b[0m\u001b[0m\n\u001b[0;32m    757\u001b[0m         \u001b[0mnv\u001b[0m\u001b[1;33m.\u001b[0m\u001b[0mvalidate_resampler_func\u001b[0m\u001b[1;33m(\u001b[0m\u001b[0m_method\u001b[0m\u001b[1;33m,\u001b[0m \u001b[0margs\u001b[0m\u001b[1;33m,\u001b[0m \u001b[0mkwargs\u001b[0m\u001b[1;33m)\u001b[0m\u001b[1;33m\u001b[0m\u001b[0m\n\u001b[1;32m--> 758\u001b[1;33m         \u001b[1;32mreturn\u001b[0m \u001b[0mself\u001b[0m\u001b[1;33m.\u001b[0m\u001b[0m_downsample\u001b[0m\u001b[1;33m(\u001b[0m\u001b[0m_method\u001b[0m\u001b[1;33m,\u001b[0m \u001b[0mmin_count\u001b[0m\u001b[1;33m=\u001b[0m\u001b[0mmin_count\u001b[0m\u001b[1;33m)\u001b[0m\u001b[1;33m\u001b[0m\u001b[0m\n\u001b[0m\u001b[0;32m    759\u001b[0m     \u001b[0mf\u001b[0m\u001b[1;33m.\u001b[0m\u001b[0m__doc__\u001b[0m \u001b[1;33m=\u001b[0m \u001b[0mgetattr\u001b[0m\u001b[1;33m(\u001b[0m\u001b[0mGroupBy\u001b[0m\u001b[1;33m,\u001b[0m \u001b[0mmethod\u001b[0m\u001b[1;33m)\u001b[0m\u001b[1;33m.\u001b[0m\u001b[0m__doc__\u001b[0m\u001b[1;33m\u001b[0m\u001b[0m\n\u001b[0;32m    760\u001b[0m     \u001b[0msetattr\u001b[0m\u001b[1;33m(\u001b[0m\u001b[0mResampler\u001b[0m\u001b[1;33m,\u001b[0m \u001b[0mmethod\u001b[0m\u001b[1;33m,\u001b[0m \u001b[0mf\u001b[0m\u001b[1;33m)\u001b[0m\u001b[1;33m\u001b[0m\u001b[0m\n",
      "\u001b[1;32mD:\\ANA\\lib\\site-packages\\pandas\\core\\resample.py\u001b[0m in \u001b[0;36m_downsample\u001b[1;34m(self, how, **kwargs)\u001b[0m\n\u001b[0;32m   1059\u001b[0m         raise IncompatibleFrequency(\n\u001b[0;32m   1060\u001b[0m             \u001b[1;34m'Frequency {} cannot be resampled to {}, as they are not '\u001b[0m\u001b[1;33m\u001b[0m\u001b[0m\n\u001b[1;32m-> 1061\u001b[1;33m             'sub or super periods'.format(ax.freq, self.freq))\n\u001b[0m\u001b[0;32m   1062\u001b[0m \u001b[1;33m\u001b[0m\u001b[0m\n\u001b[0;32m   1063\u001b[0m     \u001b[1;32mdef\u001b[0m \u001b[0m_upsample\u001b[0m\u001b[1;33m(\u001b[0m\u001b[0mself\u001b[0m\u001b[1;33m,\u001b[0m \u001b[0mmethod\u001b[0m\u001b[1;33m,\u001b[0m \u001b[0mlimit\u001b[0m\u001b[1;33m=\u001b[0m\u001b[1;32mNone\u001b[0m\u001b[1;33m,\u001b[0m \u001b[0mfill_value\u001b[0m\u001b[1;33m=\u001b[0m\u001b[1;32mNone\u001b[0m\u001b[1;33m)\u001b[0m\u001b[1;33m:\u001b[0m\u001b[1;33m\u001b[0m\u001b[0m\n",
      "\u001b[1;31mIncompatibleFrequency\u001b[0m: Frequency <MonthEnd> cannot be resampled to <3 * MonthEnds>, as they are not sub or super periods"
     ]
    }
   ],
   "source": [
    "# 时期重采样 - Period\n",
    "\n",
    "prng = pd.period_range('2016','2017',freq = 'M')\n",
    "ts = pd.Series(np.arange(len(prng)), index = prng)\n",
    "print(ts)\n",
    "print('----------------')\n",
    "print(ts.resample('3M').sum())  # 降采样\n",
    "print('----------------')\n",
    "print(ts.resample('15D').ffill())  # 升采样"
   ]
  },
  {
   "cell_type": "code",
   "execution_count": 62,
   "metadata": {},
   "outputs": [
    {
     "name": "stdout",
     "output_type": "stream",
     "text": [
      "创建时间序列ts1:\n",
      " 2017-01-01    0.522013\n",
      "2017-01-02    0.551667\n",
      "2017-01-03    0.416265\n",
      "2017-01-04    0.179495\n",
      "2017-01-05    0.330524\n",
      "2017-01-06    0.837200\n",
      "2017-01-07    0.403902\n",
      "2017-01-08    0.399244\n",
      "2017-01-09    0.711666\n",
      "2017-01-10    0.118852\n",
      "Freq: D, dtype: float64\n",
      "转换成ts2:\n",
      " 2017-01-01    0.496648\n",
      "2017-01-04    0.449073\n",
      "2017-01-07    0.504937\n",
      "2017-01-10    0.118852\n",
      "Freq: 3D, dtype: float64\n",
      "转换成ts3:\n",
      " 2017-01-01 00:00:00    0.522013\n",
      "2017-01-01 12:00:00    0.522013\n",
      "2017-01-02 00:00:00    0.551667\n",
      "2017-01-02 12:00:00    0.551667\n",
      "2017-01-03 00:00:00    0.416265\n",
      "2017-01-03 12:00:00    0.416265\n",
      "2017-01-04 00:00:00    0.179495\n",
      "2017-01-04 12:00:00    0.179495\n",
      "2017-01-05 00:00:00    0.330524\n",
      "2017-01-05 12:00:00    0.330524\n",
      "2017-01-06 00:00:00    0.837200\n",
      "2017-01-06 12:00:00    0.837200\n",
      "2017-01-07 00:00:00    0.403902\n",
      "2017-01-07 12:00:00    0.403902\n",
      "2017-01-08 00:00:00    0.399244\n",
      "2017-01-08 12:00:00    0.399244\n",
      "2017-01-09 00:00:00    0.711666\n",
      "2017-01-09 12:00:00    0.711666\n",
      "2017-01-10 00:00:00    0.118852\n",
      "Freq: 12H, dtype: float64\n"
     ]
    }
   ],
   "source": [
    "#2.13作业\n",
    "date = pd.date_range('20170101', periods = 10)\n",
    "ts1 = pd.Series(np.random.rand(10),index = date)\n",
    "print('创建时间序列ts1:\\n',ts1)\n",
    "print('转换成ts2:\\n',ts1.resample('3D').mean())\n",
    "print('转换成ts3:\\n',ts1.resample('12H').ffill())"
   ]
  }
 ],
 "metadata": {
  "kernelspec": {
   "display_name": "Python 3",
   "language": "python",
   "name": "python3"
  },
  "language_info": {
   "codemirror_mode": {
    "name": "ipython",
    "version": 3
   },
   "file_extension": ".py",
   "mimetype": "text/x-python",
   "name": "python",
   "nbconvert_exporter": "python",
   "pygments_lexer": "ipython3",
   "version": "3.6.5"
  }
 },
 "nbformat": 4,
 "nbformat_minor": 2
}
