{
 "cells": [
  {
   "cell_type": "code",
   "execution_count": 9,
   "metadata": {},
   "outputs": [],
   "source": [
    "import numpy as np\n",
    "import pandas  as pd\n",
    "\n"
   ]
  },
  {
   "cell_type": "code",
   "execution_count": 11,
   "metadata": {},
   "outputs": [
    {
     "name": "stdout",
     "output_type": "stream",
     "text": [
      "[0.80620165 0.59720936 0.42163518 0.85619649 0.10331788]\n",
      "a    0.806202\n",
      "b    0.597209\n",
      "c    0.421635\n",
      "d    0.856196\n",
      "e    0.103318\n",
      "dtype: float64\n",
      "<class 'pandas.core.series.Series'>\n",
      "---\n",
      "Index(['a', 'b', 'c', 'd', 'e'], dtype='object')\n",
      "['a', 'b', 'c', 'd', 'e']\n",
      "[0.80620165 0.59720936 0.42163518 0.85619649 0.10331788] <class 'numpy.ndarray'>\n"
     ]
    }
   ],
   "source": [
    "ar=np.random.rand(5)\n",
    "s=pd.Series(ar,index=list(\"abcde\"))\n",
    "print(ar)\n",
    "print(s)\n",
    "print(type(s))\n",
    "print(\"---\")\n",
    "print(s.index)\n",
    "print(list(s.index))\n",
    "print(s.values,type(s.values))"
   ]
  },
  {
   "cell_type": "code",
   "execution_count": 14,
   "metadata": {},
   "outputs": [
    {
     "name": "stdout",
     "output_type": "stream",
     "text": [
      "a    1\n",
      "b    2\n",
      "c    3\n",
      "4    5\n",
      "5    6\n",
      "dtype: int64\n"
     ]
    }
   ],
   "source": [
    "#创建的第一种方法\n",
    "dic={\"a\":1,\"b\":2,\"c\":3,4:5,5:6}\n",
    "s=pd.Series(dic)\n",
    "print(s)\n"
   ]
  },
  {
   "cell_type": "code",
   "execution_count": 21,
   "metadata": {},
   "outputs": [
    {
     "name": "stdout",
     "output_type": "stream",
     "text": [
      "a    0.864524\n",
      "b    0.419353\n",
      "c    0.948061\n",
      "d    0.174043\n",
      "e    0.334689\n",
      "f    0.286876\n",
      "g    0.977706\n",
      "h    0.318427\n",
      "i    0.863980\n",
      "j    0.562068\n",
      "dtype: float64\n"
     ]
    }
   ],
   "source": [
    "#创建的第二种方法\n",
    "arr=np.random.rand(10)\n",
    "s=pd.Series(arr,index=list(\"abcdefghij\"))\n",
    "print(s)"
   ]
  },
  {
   "cell_type": "code",
   "execution_count": 23,
   "metadata": {},
   "outputs": [
    {
     "name": "stdout",
     "output_type": "stream",
     "text": [
      "0    10\n",
      "1    10\n",
      "2    10\n",
      "3    10\n",
      "4    10\n",
      "5    10\n",
      "6    10\n",
      "dtype: int64\n"
     ]
    }
   ],
   "source": [
    "#创建的第三种方法\n",
    "s=pd.Series(10,index=range(7))\n",
    "print(s)"
   ]
  },
  {
   "cell_type": "code",
   "execution_count": 29,
   "metadata": {},
   "outputs": [
    {
     "name": "stdout",
     "output_type": "stream",
     "text": [
      "Jack     90.0\n",
      "Marry    92.0\n",
      "Tom      89.0\n",
      "Zack     65.0\n",
      "Name: 作业1, dtype: float64\n",
      "-------\n",
      "Jack     90.0\n",
      "Marry    92.0\n",
      "Tom      89.0\n",
      "Zack     65.0\n",
      "Name: 作业2, dtype: float64\n"
     ]
    }
   ],
   "source": [
    "#2.2作业\n",
    "dic={\"Jack\":90.0,\"Marry\":92.0,\"Tom\":89.0,\"Zack\":65.0}\n",
    "s=pd.Series(dic, dtype = np.float,name=\"作业1\")\n",
    "print(s)\n",
    "print(\"-------\")\n",
    "\n",
    "arr=np.array([90,92,89,65])\n",
    "s1=pd.Series(arr,index=[\"Jack\",\"Marry\",\"Tom\",\"Zack\"], dtype = np.float,name=\"作业2\")\n",
    "print(s1)"
   ]
  },
  {
   "cell_type": "code",
   "execution_count": 36,
   "metadata": {},
   "outputs": [
    {
     "name": "stdout",
     "output_type": "stream",
     "text": [
      "0    0.358563\n",
      "1    0.877747\n",
      "2    0.316904\n",
      "3    0.281655\n",
      "4    0.014835\n",
      "5    0.237635\n",
      "6    0.571254\n",
      "7    0.898193\n",
      "8    0.150957\n",
      "9    0.163449\n",
      "dtype: float64\n",
      "0.23763479315564306 <class 'numpy.float64'> float64\n"
     ]
    },
    {
     "data": {
      "text/plain": [
       "<function print>"
      ]
     },
     "execution_count": 36,
     "metadata": {},
     "output_type": "execute_result"
    }
   ],
   "source": [
    "#下标索引\n",
    "s=pd.Series(np.random.rand(10))\n",
    "print(s)\n",
    "print(s[5],type(s[6]),s[7].dtype)\n",
    "print"
   ]
  },
  {
   "cell_type": "code",
   "execution_count": 37,
   "metadata": {},
   "outputs": [
    {
     "name": "stdout",
     "output_type": "stream",
     "text": [
      "a    0.115766\n",
      "b    0.245210\n",
      "c    0.624277\n",
      "d    0.169583\n",
      "e    0.438330\n",
      "dtype: float64\n",
      "0.11576617636528241 <class 'numpy.float64'> float64\n",
      "a    0.115766\n",
      "b    0.245210\n",
      "dtype: float64\n"
     ]
    }
   ],
   "source": [
    "# 标签索引\n",
    "s = pd.Series(np.random.rand(5), index = ['a','b','c','d','e'])\n",
    "print(s)\n",
    "print(s['a'],type(s['a']),s['a'].dtype)\n",
    "\n",
    "print(s[['a','b']])"
   ]
  },
  {
   "cell_type": "code",
   "execution_count": 43,
   "metadata": {},
   "outputs": [
    {
     "name": "stdout",
     "output_type": "stream",
     "text": [
      "0    0.349695\n",
      "1    0.871677\n",
      "2    0.574680\n",
      "3    0.763726\n",
      "4    0.418669\n",
      "dtype: float64\n",
      "a    0.374094\n",
      "b    0.359787\n",
      "c    0.141218\n",
      "d    0.299108\n",
      "e    0.266246\n",
      "dtype: float64\n",
      "--------\n",
      "1    0.871677\n",
      "2    0.574680\n",
      "3    0.763726\n",
      "dtype: float64 0.4186690757956535\n",
      "a    0.374094\n",
      "b    0.359787\n",
      "c    0.141218\n",
      "d    0.299108\n",
      "e    0.266246\n",
      "dtype: float64 0.1412178639826548\n",
      "a    0.374094\n",
      "b    0.359787\n",
      "dtype: float64 0.2991076505122501\n",
      "-----\n",
      "a    0.374094\n",
      "b    0.359787\n",
      "c    0.141218\n",
      "d    0.299108\n",
      "dtype: float64\n",
      "a    0.374094\n",
      "c    0.141218\n",
      "e    0.266246\n",
      "dtype: float64\n"
     ]
    }
   ],
   "source": [
    "# 切片索引\n",
    "\n",
    "s1 = pd.Series(np.random.rand(5))\n",
    "s2 = pd.Series(np.random.rand(5), index = ['a','b','c','d','e'])\n",
    "print(s1)\n",
    "print(s2)\n",
    "print('--------')\n",
    "print(s1[1:4],s1[4])\n",
    "print(s2['a':'e'],s2['c'])\n",
    "print(s2[0:2],s2[3])\n",
    "print('-----')\n",
    "\n",
    "\n",
    "print(s2[:-1])\n",
    "print(s2[::2])\n",
    "# 下标索引做切片，和list写法一样"
   ]
  },
  {
   "cell_type": "code",
   "execution_count": 48,
   "metadata": {},
   "outputs": [
    {
     "name": "stdout",
     "output_type": "stream",
     "text": [
      "0    31.334158\n",
      "1    66.442707\n",
      "2    10.697338\n",
      "4          NaN\n",
      "dtype: float64\n",
      "0    False\n",
      "1     True\n",
      "2    False\n",
      "4    False\n",
      "dtype: bool <class 'pandas.core.series.Series'> bool\n",
      "0    False\n",
      "1    False\n",
      "2    False\n",
      "4     True\n",
      "dtype: bool <class 'pandas.core.series.Series'> bool\n",
      "0     True\n",
      "1     True\n",
      "2     True\n",
      "4    False\n",
      "dtype: bool <class 'pandas.core.series.Series'> bool\n",
      "-----\n",
      "1    66.442707\n",
      "dtype: float64\n",
      "0    31.334158\n",
      "1    66.442707\n",
      "2    10.697338\n",
      "dtype: float64\n"
     ]
    }
   ],
   "source": [
    "# 布尔型索引\n",
    "\n",
    "s = pd.Series(np.random.rand(3)*100)\n",
    "#s[4] = None  # 添加一个空值\n",
    "s[4]=np.nan\n",
    "print(s)\n",
    "bs1 = s > 50\n",
    "bs2 = s.isnull()\n",
    "bs3 = s.notnull()\n",
    "print(bs1, type(bs1), bs1.dtype)\n",
    "print(bs2, type(bs2), bs2.dtype)\n",
    "print(bs3, type(bs3), bs3.dtype)\n",
    "print('-----')\n",
    "# 数组做判断之后，返回的是一个由布尔值组成的新的数组\n",
    "# .isnull() / .notnull() 判断是否为空值 (None代表空值，NaN代表有问题的数值，两个都会识别为空值)\n",
    "\n",
    "print(s[s > 50])\n",
    "print(s[bs3])\n",
    "# 布尔型索引方法：用[判断条件]表示，其中判断条件可以是 一个语句，或者是 一个布尔型数组！"
   ]
  },
  {
   "cell_type": "code",
   "execution_count": 53,
   "metadata": {},
   "outputs": [
    {
     "name": "stdout",
     "output_type": "stream",
     "text": [
      "a    70.756410\n",
      "b    12.148447\n",
      "c    39.100535\n",
      "d    86.132076\n",
      "e     8.633444\n",
      "f    99.110514\n",
      "g    10.911665\n",
      "h    71.684850\n",
      "i    46.688396\n",
      "j    29.458140\n",
      "dtype: float64\n",
      "70.75641019857868 39.10053476882437\n",
      "d    86.132076\n",
      "e     8.633444\n",
      "f    99.110514\n",
      "dtype: float64\n",
      "a    70.756410\n",
      "d    86.132076\n",
      "f    99.110514\n",
      "h    71.684850\n",
      "dtype: float64\n"
     ]
    }
   ],
   "source": [
    "#作2.3作业\n",
    "s=pd.Series(np.random.rand(10)*100,index=list(\"abcdefghij\"))\n",
    "print(s)\n",
    "print(s['a'],s['c'])\n",
    "print(s[3:6])\n",
    "print(s[s>50])"
   ]
  },
  {
   "cell_type": "code",
   "execution_count": 57,
   "metadata": {
    "scrolled": true
   },
   "outputs": [
    {
     "name": "stdout",
     "output_type": "stream",
     "text": [
      "0    0.206443\n",
      "1    0.984881\n",
      "dtype: float64\n",
      "10    0.557912\n",
      "11    0.849308\n",
      "12    0.972115\n",
      "13    0.593697\n",
      "14    0.725560\n",
      "dtype: float64\n"
     ]
    }
   ],
   "source": [
    "s=pd.Series(np.random.rand(15))\n",
    "print(s.head(2))\n",
    "print(s.tail())"
   ]
  },
  {
   "cell_type": "code",
   "execution_count": 63,
   "metadata": {},
   "outputs": [
    {
     "name": "stdout",
     "output_type": "stream",
     "text": [
      "a    0.181434\n",
      "b    0.727148\n",
      "c    0.224693\n",
      "d    0.281334\n",
      "e    0.975332\n",
      "dtype: float64\n",
      "c    0.224693\n",
      "d    0.281334\n",
      "a    0.181434\n",
      "f         NaN\n",
      "d    0.281334\n",
      "g         NaN\n",
      "dtype: float64\n",
      "----\n",
      "c    0.224693\n",
      "d    0.281334\n",
      "a    0.181434\n",
      "f    0.000000\n",
      "d    0.281334\n",
      "g    0.000000\n",
      "dtype: float64\n"
     ]
    }
   ],
   "source": [
    "#重新索引reindex\n",
    "s = pd.Series(np.random.rand(5),index=list(\"abcde\"))\n",
    "print(s)\n",
    "s1=s.reindex(list(\"cdafdg\"))\n",
    "print(s1)\n",
    "print(\"----\")\n",
    "s2 =s.reindex(list(\"cdafdg\"),fill_value=0)\n",
    "print(s2)"
   ]
  },
  {
   "cell_type": "code",
   "execution_count": 78,
   "metadata": {},
   "outputs": [
    {
     "name": "stdout",
     "output_type": "stream",
     "text": [
      "Jack     0.886385\n",
      "Marry    0.182280\n",
      "Tom      0.441852\n",
      "dtype: float64\n",
      "Wang     0.030657\n",
      "Jack     0.866827\n",
      "Marry    0.261584\n",
      "dtype: float64\n",
      "Jack     1.753212\n",
      "Marry    0.443863\n",
      "Tom           NaN\n",
      "Wang          NaN\n",
      "dtype: float64\n"
     ]
    }
   ],
   "source": [
    "# Series对齐\n",
    "\n",
    "s1 = pd.Series(np.random.rand(3), index = ['Jack','Marry','Tom'])\n",
    "s2 = pd.Series(np.random.rand(3), index = ['Wang','Jack','Marry'])\n",
    "print(s1)\n",
    "print(s2)\n",
    "print(s1+s2)\n",
    "# Series 和 ndarray 之间的主要区别是，Series 上的操作会根据标签自动对齐\n",
    "# index顺序不会影响数值计算，以标签来计算\n",
    "# 空值和任何值计算结果扔为空值"
   ]
  },
  {
   "cell_type": "code",
   "execution_count": 74,
   "metadata": {},
   "outputs": [
    {
     "name": "stdout",
     "output_type": "stream",
     "text": [
      "n    0.546524\n",
      "g    0.207711\n",
      "j    0.009831\n",
      "u    0.801561\n",
      "r    0.157657\n",
      "dtype: float64\n",
      "g    0.207711\n",
      "j    0.009831\n",
      "u    0.801561\n",
      "r    0.157657\n",
      "dtype: float64\n",
      "n    0.546524\n",
      "u    0.801561\n",
      "r    0.157657\n",
      "dtype: float64\n",
      "n    0.546524\n",
      "g    0.207711\n",
      "j    0.009831\n",
      "u    0.801561\n",
      "r    0.157657\n",
      "dtype: float64\n"
     ]
    }
   ],
   "source": [
    "# 删除：.drop\n",
    "\n",
    "s = pd.Series(np.random.rand(5), index = list('ngjur'))\n",
    "print(s)\n",
    "s1 = s.drop('n')\n",
    "s2 = s.drop(['g','j' ])\n",
    "print(s1)\n",
    "print(s2)\n",
    "print(s)\n",
    "# drop 删除元素之后返回副本(inplace=False)"
   ]
  },
  {
   "cell_type": "code",
   "execution_count": 79,
   "metadata": {
    "scrolled": true
   },
   "outputs": [
    {
     "name": "stdout",
     "output_type": "stream",
     "text": [
      "0    0.010777\n",
      "1    0.422161\n",
      "2    0.984704\n",
      "3    0.738102\n",
      "4    0.503185\n",
      "dtype: float64\n",
      "n    0.923657\n",
      "g    0.366401\n",
      "j    0.816346\n",
      "u    0.935989\n",
      "r    0.043266\n",
      "dtype: float64\n",
      "0      0.010777\n",
      "1      0.422161\n",
      "2      0.984704\n",
      "3      0.738102\n",
      "4      0.503185\n",
      "5    100.000000\n",
      "dtype: float64\n",
      "n      0.923657\n",
      "g      0.366401\n",
      "j      0.816346\n",
      "u      0.935989\n",
      "r      0.043266\n",
      "a    100.000000\n",
      "dtype: float64\n",
      "-----\n",
      "0      0.010777\n",
      "1      0.422161\n",
      "2      0.984704\n",
      "3      0.738102\n",
      "4      0.503185\n",
      "5    100.000000\n",
      "n      0.923657\n",
      "g      0.366401\n",
      "j      0.816346\n",
      "u      0.935989\n",
      "r      0.043266\n",
      "a    100.000000\n",
      "dtype: float64\n",
      "0      0.010777\n",
      "1      0.422161\n",
      "2      0.984704\n",
      "3      0.738102\n",
      "4      0.503185\n",
      "5    100.000000\n",
      "dtype: float64\n"
     ]
    }
   ],
   "source": [
    "# 添加\n",
    "\n",
    "s1 = pd.Series(np.random.rand(5))\n",
    "s2 = pd.Series(np.random.rand(5), index = list('ngjur'))\n",
    "print(s1)\n",
    "print(s2)\n",
    "s1[5] = 100\n",
    "s2['a'] = 100\n",
    "print(s1)\n",
    "print(s2)\n",
    "print('-----')\n",
    "# 直接通过下标索引/标签index添加值\n",
    "\n",
    "s3 = s1.append(s2)\n",
    "print(s3)\n",
    "print(s1)\n",
    "# 通过.append方法，直接添加一个数组\n",
    "# .append方法生成一个新的数组，不改变之前的数组"
   ]
  },
  {
   "cell_type": "code",
   "execution_count": 142,
   "metadata": {},
   "outputs": [
    {
     "name": "stdout",
     "output_type": "stream",
     "text": [
      "创建s:\n",
      "a    0\n",
      "b    1\n",
      "c    2\n",
      "d    3\n",
      "e    4\n",
      "f    5\n",
      "g    6\n",
      "h    7\n",
      "i    8\n",
      "j    9\n",
      "dtype: int32\n",
      "s修改后:\n",
      "a    100\n",
      "c      2\n",
      "d      3\n",
      "e      4\n",
      "f    100\n",
      "g    100\n",
      "h      7\n",
      "i      8\n",
      "j      9\n",
      "dtype: int32\n",
      "-------------------\n",
      "创建s1为:\n",
      "a    0.710181\n",
      "b    3.563390\n",
      "c    5.134456\n",
      "d    5.130547\n",
      "e    0.615752\n",
      "dtype: float64\n",
      "创建s2为:\n",
      "c    7.780418\n",
      "d    6.606228\n",
      "e    0.669920\n",
      "f    8.235396\n",
      "g    8.702857\n",
      "dtype: float64\n",
      "a          NaN\n",
      "b          NaN\n",
      "c    12.914873\n",
      "d    11.736775\n",
      "e     1.285672\n",
      "f          NaN\n",
      "g          NaN\n",
      "dtype: float64\n"
     ]
    }
   ],
   "source": [
    "#2.4作业\n",
    "s=list(range(10))\n",
    "s1 = pd.Series(s,index=list('abcdefghij'),dtype=int)\n",
    "print(\"创建s:\")\n",
    "print(s1)\n",
    "\n",
    "\n",
    "#用的是drop\n",
    "s1['a']=100\n",
    "s1['f']=100\n",
    "s1['g']=100\n",
    "s2=s1.drop('b')\n",
    "print(\"s修改后:\")\n",
    "print(s2) \n",
    "print('-------------------')\n",
    "\n",
    "s1=pd.Series(np.random.rand(5)*10,index=list('abcde'))\n",
    "s2=pd.Series(np.random.rand(5)*10,index=list('cdefg'))\n",
    "print(\"创建s1为:\")\n",
    "print(s1)\n",
    "\n",
    "print(\"创建s2为:\")\n",
    "print(s2)\n",
    "s=s1+s2\n",
    "print(s) \n"
   ]
  },
  {
   "cell_type": "code",
   "execution_count": 95,
   "metadata": {},
   "outputs": [
    {
     "name": "stdout",
     "output_type": "stream",
     "text": [
      "   name  age gender\n",
      "0  Jack   18      m\n",
      "1   Tom   19      m\n",
      "2  Mary   20      w\n",
      "<class 'pandas.core.frame.DataFrame'>\n",
      "RangeIndex(start=0, stop=3, step=1) \n",
      "1该数据类型为： <class 'pandas.core.indexes.range.RangeIndex'>\n",
      "Index(['name', 'age', 'gender'], dtype='object') \u0002该数据类型为： <class 'pandas.core.indexes.base.Index'>\n",
      "[['Jack' 18 'm']\n",
      " ['Tom' 19 'm']\n",
      " ['Mary' 20 'w']] \n",
      "3该数据类型为： <class 'numpy.ndarray'>\n"
     ]
    }
   ],
   "source": [
    "# Dataframe 数据结构\n",
    "# Dataframe是一个表格型的数据结构，“带有标签的二维数组”。\n",
    "# Dataframe带有index（行标签）和columns（列标签）\n",
    "\n",
    "data = {'name':['Jack','Tom','Mary'],\n",
    "        'age':[18,19,20],\n",
    "       'gender':['m','m','w']}\n",
    "frame = pd.DataFrame(data)\n",
    "print(frame)  \n",
    "print(type(frame))\n",
    "print(frame.index,'\\n1该数据类型为：',type(frame.index))\n",
    "print(frame.columns,'\\2该数据类型为：',type(frame.columns))\n",
    "print(frame.values,'\\n3该数据类型为：',type(frame.values))\n",
    "# 查看数据，数据类型为dataframe\n",
    "# .index查看行标签\n",
    "# .columns查看列标签\n",
    "# .values查看值，数据类型为ndarray"
   ]
  },
  {
   "cell_type": "code",
   "execution_count": 94,
   "metadata": {
    "scrolled": true
   },
   "outputs": [
    {
     "name": "stdout",
     "output_type": "stream",
     "text": [
      "   name  age gender\n",
      "0  Jack   18      m\n",
      "1   Tom   19      m\n",
      "2  Mary   20      w\n"
     ]
    }
   ],
   "source": [
    "data = {'name':['Jack','Tom','Mary'],\n",
    "        'age':[18,19,20],\n",
    "       'gender':['m','m','w']}\n",
    "frame = pd.DataFrame(data)\n",
    "print(frame) \n"
   ]
  },
  {
   "cell_type": "code",
   "execution_count": 103,
   "metadata": {},
   "outputs": [
    {
     "name": "stdout",
     "output_type": "stream",
     "text": [
      "{'a': [1, 2, 3], 'b': [3, 4, 5], 'c': [5, 6, 7]}\n",
      "{'one': array([0.81554889, 0.2255331 , 0.54954079, 0.04462295]), 'two': array([0.27128846, 0.71396163, 0.49744001, 0.07500131])}\n",
      "   a  b  c\n",
      "a  1  3  5\n",
      "b  2  4  6\n",
      "c  3  5  7\n",
      "        one       two\n",
      "0  0.815549  0.271288\n",
      "1  0.225533  0.713962\n",
      "2  0.549541  0.497440\n",
      "3  0.044623  0.075001\n",
      "   b  c  a    d\n",
      "0  3  5  1  NaN\n",
      "1  4  6  2  NaN\n",
      "2  5  7  3  NaN\n",
      "   b  c\n",
      "0  3  5\n",
      "1  4  6\n",
      "2  5  7\n",
      "         one       two\n",
      "f1  0.815549  0.271288\n",
      "f2  0.225533  0.713962\n",
      "f3  0.549541  0.497440\n",
      "f4  0.044623  0.075001\n"
     ]
    }
   ],
   "source": [
    "\n",
    "# Dataframe 创建方法一：由数组/list组成的字典\n",
    "# 创建方法:pandas.Dataframe()\n",
    "data1 = {'a':[1,2,3],\n",
    "        'b':[3,4,5],\n",
    "        'c':[5,6,7]}\n",
    "data2 = {'one':np.random.rand(4),\n",
    "        'two':np.random.rand(4)}   # 这里如果尝试  'two':np.random.rand(4) 会怎么样？\n",
    "print(data1)\n",
    "print(data2)\n",
    "df1 = pd.DataFrame(data1,index=list(\"abc\"))\n",
    "df2 = pd.DataFrame(data2)\n",
    "print(df1)\n",
    "print(df2)\n",
    "# 由数组/list组成的字典 创建Dataframe，columns为字典key列名，index为默认数字标签\n",
    "# 字典的值的长度必须保持一致！\n",
    "\n",
    "\n",
    "df1 = pd.DataFrame(data1, columns = ['b','c','a','d'])\n",
    "print(df1)\n",
    "df1 = pd.DataFrame(data1, columns = ['b','c'])\n",
    "print(df1)\n",
    "# columns参数：可以重新指定列的顺序，格式为list，如果现有数据中没有该列（比如'd'），则产生NaN值\n",
    "# 如果columns重新指定时候，列的数量可以少于原数据\n",
    "\n",
    "df2 = pd.DataFrame(data2, index = ['f1','f2','f3','f4',])  # 这里如果尝试  index = ['f1','f2','f3','f4'] 会怎么样？\n",
    "print(df2)\n",
    "# index参数：重新定义index，格式为list，长度必须保持一致"
   ]
  },
  {
   "cell_type": "code",
   "execution_count": 105,
   "metadata": {},
   "outputs": [
    {
     "name": "stdout",
     "output_type": "stream",
     "text": [
      "{'one': 0    0.684813\n",
      "1    0.005400\n",
      "dtype: float64, 'two': 0    0.844880\n",
      "1    0.491651\n",
      "2    0.623304\n",
      "dtype: float64}\n",
      "{'one': a    0.146764\n",
      "b    0.114088\n",
      "dtype: float64, 'two': a    0.725655\n",
      "b    0.518237\n",
      "c    0.137573\n",
      "dtype: float64}\n",
      "        one       two\n",
      "0  0.684813  0.844880\n",
      "1  0.005400  0.491651\n",
      "2       NaN  0.623304\n",
      "        one       two\n",
      "a  0.146764  0.725655\n",
      "b  0.114088  0.518237\n",
      "c       NaN  0.137573\n"
     ]
    }
   ],
   "source": [
    "# Dataframe 创建方法二：由Series组成的字典\n",
    "\n",
    "data1 = {'one':pd.Series(np.random.rand(2)),\n",
    "        'two':pd.Series(np.random.rand(3))}  # 没有设置index的Series\n",
    "data2 = {'one':pd.Series(np.random.rand(2), index = ['a','b']),\n",
    "        'two':pd.Series(np.random.rand(3),index = ['a','b','c'])}  # 设置了index的Series\n",
    "print(data1)\n",
    "print(data2)\n",
    "df1 = pd.DataFrame(data1)\n",
    "df2 = pd.DataFrame(data2) \n",
    "print(df1)\n",
    "print(df2)\n",
    "# 由Seris组成的字典 创建Dataframe，columns为字典key，index为Series的标签（如果Series没有指定标签，则是默认数字标签）\n",
    "# Series可以长度不一样，生成的Dataframe会出现NaN值"
   ]
  },
  {
   "cell_type": "code",
   "execution_count": 107,
   "metadata": {},
   "outputs": [
    {
     "name": "stdout",
     "output_type": "stream",
     "text": [
      "[[0.02301452 0.64687344 0.62979082]\n",
      " [0.0246845  0.63184554 0.29981192]\n",
      " [0.07804763 0.11371532 0.88775054]]\n",
      "          0         1         2\n",
      "0  0.023015  0.646873  0.629791\n",
      "1  0.024684  0.631846  0.299812\n",
      "2  0.078048  0.113715  0.887751\n",
      "        one       two     three\n",
      "a  0.023015  0.646873  0.629791\n",
      "b  0.024684  0.631846  0.299812\n",
      "c  0.078048  0.113715  0.887751\n"
     ]
    }
   ],
   "source": [
    "# Dataframe 创建方法三：通过二维数组直接创建\n",
    "\n",
    "ar = np.random.rand(9).reshape(3,3)\n",
    "print(ar)\n",
    "df1 = pd.DataFrame(ar)\n",
    "df2 = pd.DataFrame(ar, index = ['a', 'b', 'c'], columns = ['one','two','three'])  # 可以尝试一下index或columns长度不等于已有数组的情况\n",
    "print(df1)\n",
    "print(df2)\n",
    "# 通过二维数组直接创建Dataframe，得到一样形状的结果数据，如果不指定index和columns，两者均返回默认数字格式\n",
    "# index和colunms指定长度与原数组保持一致"
   ]
  },
  {
   "cell_type": "code",
   "execution_count": 109,
   "metadata": {},
   "outputs": [
    {
     "name": "stdout",
     "output_type": "stream",
     "text": [
      "[{'one': 1, 'two': 2}, {'one': 5, 'two': 10, 'three': 20}]\n",
      "   one  three  two\n",
      "0    1    NaN    2\n",
      "1    5   20.0   10\n",
      "   one  three  two\n",
      "a    1    NaN    2\n",
      "b    5   20.0   10\n",
      "   one  two\n",
      "0    1    2\n",
      "1    5   10\n"
     ]
    }
   ],
   "source": [
    "# Dataframe 创建方法四：由字典组成的列表\n",
    "\n",
    "data = [{'one': 1, 'two': 2}, {'one': 5, 'two': 10, 'three': 20}]#一个字典表示一行数据\n",
    "print(data)\n",
    "df1 = pd.DataFrame(data)\n",
    "df2 = pd.DataFrame(data, index = ['a','b'])\n",
    "df3 = pd.DataFrame(data, columns = ['one','two'])\n",
    "print(df1)\n",
    "print(df2)\n",
    "print(df3)\n",
    "# 由字典组成的列表创建Dataframe，columns为字典的key，index不做指定则为默认数组标签\n",
    "# colunms和index参数分别重新指定相应列及行标签"
   ]
  },
  {
   "cell_type": "code",
   "execution_count": 115,
   "metadata": {},
   "outputs": [
    {
     "name": "stdout",
     "output_type": "stream",
     "text": [
      "         Jack  Marry   Tom\n",
      "art        78     92   NaN\n",
      "english    89     95  67.0\n",
      "math       90     82  78.0\n",
      "         Jack   Tom\n",
      "art        78   NaN\n",
      "english    89  67.0\n",
      "math       90  78.0\n",
      "   one  two\n",
      "0    1    2\n",
      "1    5   10\n"
     ]
    }
   ],
   "source": [
    "# Dataframe 创建方法五：由字典组成的字典\n",
    "\n",
    "data = {'Jack':{'math':90,'english':89,'art':78},\n",
    "       'Marry':{'math':82,'english':95,'art':92},\n",
    "       'Tom':{'math':78,'english':67}}\n",
    "df1 = pd.DataFrame(data)\n",
    "print(df1)\n",
    "# 由字典组成的字典创建Dataframe，columns为字典的key，index为子字典的key\n",
    "\n",
    "df2 = pd.DataFrame(data, columns = ['Jack','Tom', ])\n",
    "#df3 = pd.DataFrame(data, index = ['a','b','c'])\n",
    "print(df2)\n",
    "print(df3)\n",
    "# columns参数可以增加和减少现有列，如出现新的列，值为NaN\n",
    "# index在这里和之前不同，并不能改变原有index，如果指向新的标签，值为NaN （非常重要！）"
   ]
  },
  {
   "cell_type": "code",
   "execution_count": 143,
   "metadata": {},
   "outputs": [
    {
     "name": "stdout",
     "output_type": "stream",
     "text": [
      "结果DataFrame为:\n",
      "   four  one  three  two\n",
      "a     4    1      3    2\n",
      "b     5    2      4    3\n",
      "c     6    3      5    4\n",
      "d     7    4      6    5\n",
      "e     8    5      7    6\n",
      "----------------------------------\n",
      "结果DataFrame为:\n",
      "       four       one     three       two\n",
      "a  7.015020  3.376551  4.643156  1.050327\n",
      "b  1.518165  4.304979  8.549739  9.267586\n",
      "c  1.001636  7.801915  2.177595  5.590400\n",
      "d  0.449556  7.953942  8.188833  2.774662\n",
      "e  0.144016  3.621742  2.057197  7.543976\n",
      "----------------------------------\n",
      "[[0.19516036 0.00179036 0.27586572 0.45465015]\n",
      " [0.67072601 0.80387608 0.89638722 0.60886949]\n",
      " [0.56101325 0.16958678 0.83128167 0.99381545]\n",
      " [0.03090388 0.74328291 0.66012192 0.68868208]\n",
      " [0.78094325 0.67540705 0.2795564  0.79645537]]\n",
      "结果DataFrame为:\n",
      "       four       one     three       two\n",
      "a  0.195160  0.001790  0.275866  0.454650\n",
      "b  0.670726  0.803876  0.896387  0.608869\n",
      "c  0.561013  0.169587  0.831282  0.993815\n",
      "d  0.030904  0.743283  0.660122  0.688682\n",
      "e  0.780943  0.675407  0.279556  0.796455\n",
      "----------------------------------\n",
      "结果DataFrame为:\n",
      "   four  one  three  two\n",
      "a     4    1      3    2\n",
      "b     5    2      4    3\n",
      "c     6    3      5    4\n",
      "d     7    4      6    5\n",
      "e     8    5      7    6\n",
      "----------------------------------\n",
      "结果DataFrame为:\n",
      "   four  one  three  two\n",
      "a     4    1      3    2\n",
      "b     5    2      4    3\n",
      "c     6    3      5    4\n",
      "d     7    4      6    5\n",
      "e     8    5      7    6\n"
     ]
    }
   ],
   "source": [
    "#2.5作业\n",
    "#方法一\n",
    "data={'four':[4,5,6,7,8],'one':[1,2,3,4,5],'three':[3,4,5,6,7],'two':[2,3,4,5,6]}\n",
    "df1=pd.DataFrame(data,index=list('abcde'))\n",
    "print( \"结果DataFrame为:\")\n",
    "print(df1)\n",
    "print(\"----------------------------------\")\n",
    "\n",
    "\n",
    "#方法二\n",
    "data={'four':pd.Series( (np.random.rand(5)*10),index=list('abcde')),\n",
    "      'one':pd.Series( (np.random.rand(5)*10),index=list('abcde')),\n",
    "      'three':pd.Series( (np.random.rand(5)*10),index=list('abcde')),\n",
    "      'two':pd.Series( (np.random.rand(5)*10),index=list('abcde'))}\n",
    "df1=pd.DataFrame(data )\n",
    "print( \"结果DataFrame为:\")\n",
    "print(df1)\n",
    "print(\"----------------------------------\")\n",
    "\n",
    "#方法三\n",
    "ar=np.random.rand(20).reshape(5,4)\n",
    "print(ar) \n",
    "df=pd.DataFrame(ar,index=['a','b','c','d','e'],columns=['four','one','three','two'])\n",
    "print( \"结果DataFrame为:\")\n",
    "print(df)\n",
    "print(\"----------------------------------\")\n",
    "\n",
    "\n",
    "#方法四,一个字典代表一行数字\n",
    "data=[{'four':4,'one':1,'three':3,'two':2},\n",
    "      {'four':5,'one':2,'three':4,'two':3},\n",
    "      {'four':6,'one':3,'three':5,'two':4},\n",
    "      {'four':7,'one':4,'three':6,'two':5},\n",
    "      {'four':8,'one':5,'three':7,'two':6}]\n",
    "df2=pd.DataFrame(data,index=list('abcde'))\n",
    "print( \"结果DataFrame为:\")\n",
    "print(df2)\n",
    "print(\"----------------------------------\")\n",
    "\n",
    "\n",
    "#方法五\n",
    "data={'four':{'a':4,'b':5,'c':6,'d':7,'e':8},\n",
    "      'one':{'a':1,'b':2,'c':3,'d':4,'e':5}, \n",
    "     'three':{'a':3,'b':4,'c':5,'d':6,'e':7},\n",
    "     'two':{'a':2,'b':3,'c':4,'d':5,'e':6},}\n",
    "df1=pd.DataFrame(data )\n",
    "print( \"结果DataFrame为:\")\n",
    "print(df1)"
   ]
  },
  {
   "cell_type": "code",
   "execution_count": 174,
   "metadata": {},
   "outputs": [
    {
     "name": "stdout",
     "output_type": "stream",
     "text": [
      "           a          b          c          d\n",
      "0  60.564589  61.271197  83.441124  63.280359\n",
      "1  51.959530  97.863848  80.283811  95.148030\n",
      "2  13.963416  55.820201   3.358034  27.122111\n",
      "0    60.564589\n",
      "1    51.959530\n",
      "2    13.963416\n",
      "Name: a, dtype: float64 <class 'pandas.core.series.Series'>\n",
      "           a          c\n",
      "0  60.564589  83.441124\n",
      "1  51.959530  80.283811\n",
      "2  13.963416   3.358034 <class 'pandas.core.frame.DataFrame'>\n",
      "           b          c\n",
      "0  61.271197  83.441124\n",
      "1  97.863848  80.283811\n",
      "2  55.820201   3.358034\n",
      "-----\n",
      "a    60.564589\n",
      "b    61.271197\n",
      "c    83.441124\n",
      "d    63.280359\n",
      "Name: 0, dtype: float64 <class 'pandas.core.series.Series'>\n"
     ]
    }
   ],
   "source": [
    "# 选择行与列\n",
    "\n",
    "df = pd.DataFrame(np.random.rand(12).reshape(3,4)*100,\n",
    "                   \n",
    "                   columns = ['a','b','c','d'])\n",
    "print(df)\n",
    "\n",
    "data1 = df['a']\n",
    "data2 = df[['a','c']]\n",
    "data3=df[['b','c']]\n",
    " \n",
    "print(data1,type(data1))\n",
    "print(data2,type(data2))\n",
    "print(data3)\n",
    " \n",
    "print('-----')\n",
    "# 按照列名选择列，只选择一列输出Series，选择多列输出Dataframe\n",
    "\n",
    "data3 = df.loc[0]\n",
    " \n",
    "print(data3,type(data3))\n",
    " \n",
    "# 按照index选择行，只选择一行输出Series，选择多行输出Dataframe"
   ]
  },
  {
   "cell_type": "code",
   "execution_count": null,
   "metadata": {},
   "outputs": [],
   "source": []
  },
  {
   "cell_type": "code",
   "execution_count": 162,
   "metadata": {},
   "outputs": [
    {
     "name": "stdout",
     "output_type": "stream",
     "text": [
      "               a          b          c          d\n",
      "one    20.625538  19.856155  60.080409  29.822251\n",
      "two     5.108611  71.218924  10.785991  75.982636\n",
      "three  67.138474  19.928302   7.694516  83.882249\n",
      "-----\n",
      "one      20.625538\n",
      "two       5.108611\n",
      "three    67.138474\n",
      "Name: a, dtype: float64\n",
      "               b          c          d\n",
      "one    19.856155  60.080409  29.822251\n",
      "two    71.218924  10.785991  75.982636\n",
      "three  19.928302   7.694516  83.882249 <class 'pandas.core.frame.DataFrame'>\n",
      "             a          b          c          d\n",
      "one  20.625538  19.856155  60.080409  29.822251\n",
      "two   5.108611  71.218924  10.785991  75.982636\n",
      "             a          b          c          d\n",
      "one  20.625538  19.856155  60.080409  29.822251\n",
      "two   5.108611  71.218924  10.785991  75.982636 <class 'pandas.core.frame.DataFrame'>\n",
      "             a          b          c          d\n",
      "one  20.625538  19.856155  60.080409  29.822251 <class 'pandas.core.frame.DataFrame'>\n",
      "            a          b          c          d\n",
      "two  5.108611  71.218924  10.785991  75.982636 <class 'pandas.core.frame.DataFrame'>\n"
     ]
    }
   ],
   "source": [
    "# df[] - 选择列\n",
    "# 一般用于选择列，也可以选择行\n",
    "\n",
    "df = pd.DataFrame(np.random.rand(12).reshape(3,4)*100,\n",
    "                   index = ['one','two','three'],\n",
    "                   columns = ['a','b','c','d'])\n",
    "print(df)\n",
    "print('-----')\n",
    "data1 = df['a']\n",
    "data2 = df[['b','c','d']]  # 尝试输入 data2 = df[['b','c','e']]\n",
    "print(data1)\n",
    "print(data2,type(data2))\n",
    "# df[]默认选择列，[]中写列名（所以一般数据colunms都会单独制定，不会用默认数字列名，以免和index冲突）\n",
    "# 单选列为Series，print结果为Series格式\n",
    "# 多选列为Dataframe，print结果为Dataframe格式\n",
    "\n",
    "\n",
    "data3=df[:2]#选择行0 .1\n",
    "print(data3)\n",
    "data4 = df[:1]\n",
    "data5=df[1:2]\n",
    "#data3 = df[0]\n",
    "#data3 = df['one']\n",
    "print(data3,type(data3))\n",
    "print(data4,type(data4))\n",
    "print(data5,type(data5))\n",
    "# df[]中为数字时，默认选择行，且只能进行切片的选择，不能单独选择（df[0]）\n",
    "# 输出结果为Dataframe，即便只选择一行\n",
    "# df[]不能通过索引标签名来选择行(df['one'])\n",
    "\n",
    "# 核心笔记：df[col]一般用于选择列，[]中写列名"
   ]
  },
  {
   "cell_type": "code",
   "execution_count": 179,
   "metadata": {},
   "outputs": [
    {
     "name": "stdout",
     "output_type": "stream",
     "text": [
      "               a          b          c          d\n",
      "one    15.785452  74.264069  49.010922  76.710663\n",
      "two    51.764924   4.337694  84.814248  76.346184\n",
      "three   9.246252   7.673366  83.067893  66.041673\n",
      "four   23.118123  74.268332  18.985181  65.371089\n",
      "           a          b          c          d\n",
      "0  91.238761  90.102306  65.128133  76.068692\n",
      "1  40.055945  89.280095  54.773634  87.570403\n",
      "2  12.176644  43.930320  37.769705  96.671902\n",
      "3  48.137353  11.385919  51.800063  37.609334\n",
      "-----\n",
      "a     9.246252\n",
      "b     7.673366\n",
      "c    83.067893\n",
      "d    66.041673\n",
      "Name: three, dtype: float64\n",
      "           a          b          c          d\n",
      "3  48.137353  11.385919  51.800063  37.609334\n",
      "2  12.176644  43.930320  37.769705  96.671902\n",
      "1  40.055945  89.280095  54.773634  87.570403\n",
      "------------------------------\n",
      "a    15.785452\n",
      "b    74.264069\n",
      "c    49.010922\n",
      "d    76.710663\n",
      "Name: one, dtype: float64\n",
      "a    40.055945\n",
      "b    89.280095\n",
      "c    54.773634\n",
      "d    87.570403\n",
      "Name: 1, dtype: float64\n",
      "单标签索引\n",
      "-----\n",
      "------------------------------\n",
      "               a         b          c          d\n",
      "two    51.764924  4.337694  84.814248  76.346184\n",
      "three   9.246252  7.673366  83.067893  66.041673\n",
      "five         NaN       NaN        NaN        NaN\n",
      "           a          b          c          d\n",
      "3  48.137353  11.385919  51.800063  37.609334\n",
      "2  12.176644  43.930320  37.769705  96.671902\n",
      "1  40.055945  89.280095  54.773634  87.570403\n",
      "多标签索引\n",
      "-----\n",
      "------------------------------\n",
      "               a          b          c          d\n",
      "one    15.785452  74.264069  49.010922  76.710663\n",
      "two    51.764924   4.337694  84.814248  76.346184\n",
      "three   9.246252   7.673366  83.067893  66.041673\n",
      "           a          b          c          d\n",
      "1  40.055945  89.280095  54.773634  87.570403\n",
      "2  12.176644  43.930320  37.769705  96.671902\n",
      "3  48.137353  11.385919  51.800063  37.609334\n",
      "------------------------------\n",
      "切片索引\n"
     ]
    },
    {
     "name": "stderr",
     "output_type": "stream",
     "text": [
      "D:\\ANA\\lib\\site-packages\\ipykernel_launcher.py:25: FutureWarning: \n",
      "Passing list-likes to .loc or [] with any missing label will raise\n",
      "KeyError in the future, you can use .reindex() as an alternative.\n",
      "\n",
      "See the documentation here:\n",
      "https://pandas.pydata.org/pandas-docs/stable/indexing.html#deprecate-loc-reindex-listlike\n"
     ]
    }
   ],
   "source": [
    "# df.loc[] - 按index选择行\n",
    "\n",
    "df1 = pd.DataFrame(np.random.rand(16).reshape(4,4)*100,\n",
    "                   index = ['one','two','three','four'],\n",
    "                   columns = ['a','b','c','d'])\n",
    "df2 = pd.DataFrame(np.random.rand(16).reshape(4,4)*100,\n",
    "                   columns = ['a','b','c','d'])\n",
    "print(df1)\n",
    "print(df2)\n",
    "print('-----')\n",
    "\n",
    "data1 = df1.loc['three']\n",
    "data2 = df2.loc[[3,2,1]]\n",
    "print(data1)\n",
    "print(data2)\n",
    "print('------------------------------')\n",
    "data1 = df1.loc['one']\n",
    "data2 = df2.loc[1]\n",
    "print(data1)\n",
    "print(data2)\n",
    "print('单标签索引\\n-----')\n",
    "# 单个标签索引，返回Series \n",
    "\n",
    "print('------------------------------')\n",
    "data3 = df1.loc[['two','three','five']]\n",
    "data4 = df2.loc[[3,2,1]]\n",
    "print(data3)\n",
    "print(data4)\n",
    "print('多标签索引\\n-----')\n",
    "# 多个标签索引，如果标签不存在，则返回NaN\n",
    "# 顺序可变\n",
    "\n",
    "\n",
    "print('------------------------------')\n",
    "data5 = df1.loc['one':'three']\n",
    " \n",
    "data6 = df2.loc[1:3]\n",
    "print(data5)\n",
    "print(data6)\n",
    " \n",
    "print('------------------------------')\n",
    " \n",
    "print('切片索引')\n",
    "# 可以做切片对象\n",
    "# 末端包含\n",
    "\n",
    "# 核心笔记：df.loc[label]主要针对index选择行，同时支持指定index，及默认数字index"
   ]
  },
  {
   "cell_type": "code",
   "execution_count": 181,
   "metadata": {
    "scrolled": true
   },
   "outputs": [
    {
     "name": "stdout",
     "output_type": "stream",
     "text": [
      "               a          b          c          d\n",
      "one    60.495357  76.374280  93.706024   1.088187\n",
      "two    99.823944  61.262178  89.062014  20.389827\n",
      "three  67.338613  34.793916   5.381340  51.612198\n",
      "four   44.020266  51.018470  79.526176  21.228311\n",
      "------\n",
      "a    60.495357\n",
      "b    76.374280\n",
      "c    93.706024\n",
      "d     1.088187\n",
      "Name: one, dtype: float64\n",
      "a    44.020266\n",
      "b    51.018470\n",
      "c    79.526176\n",
      "d    21.228311\n",
      "Name: four, dtype: float64\n",
      "单位置索引\n",
      "-----\n",
      "               a          b          c          d\n",
      "one    60.495357  76.374280  93.706024   1.088187\n",
      "three  67.338613  34.793916   5.381340  51.612198\n",
      "               a          b          c          d\n",
      "four   44.020266  51.018470  79.526176  21.228311\n",
      "three  67.338613  34.793916   5.381340  51.612198\n",
      "two    99.823944  61.262178  89.062014  20.389827\n",
      "多位置索引\n",
      "-----\n",
      "               a          b          c          d\n",
      "two    99.823944  61.262178  89.062014  20.389827\n",
      "three  67.338613  34.793916   5.381340  51.612198\n",
      "               a          b          c          d\n",
      "one    60.495357  76.374280  93.706024   1.088187\n",
      "three  67.338613  34.793916   5.381340  51.612198\n",
      "切片索引\n"
     ]
    }
   ],
   "source": [
    "# df.iloc[] - 按照整数位置（从轴的0到length-1）选择行\n",
    "# 类似list的索引，其顺序就是dataframe的整数位置，从0开始计\n",
    "\n",
    "df = pd.DataFrame(np.random.rand(16).reshape(4,4)*100,\n",
    "                   index = ['one','two','three','four'],\n",
    "                   columns = ['a','b','c','d'])\n",
    "print(df)\n",
    "print('------')\n",
    "\n",
    "print(df.iloc[0])\n",
    "print(df.iloc[-1])\n",
    "#print(df.iloc[4])\n",
    "print('单位置索引\\n-----')\n",
    "# 单位置索引\n",
    "# 和loc索引不同，不能索引超出数据行数的整数位置\n",
    "\n",
    "print(df.iloc[[0,2]])\n",
    "print(df.iloc[[3,2,1]])\n",
    "print('多位置索引\\n-----')\n",
    "# 多位置索引\n",
    "# 顺序可变\n",
    "\n",
    "print(df.iloc[1:3])\n",
    "print(df.iloc[::2])\n",
    "print('切片索引')\n",
    "# 切片索引和list类似\n",
    "# 末端不包含\n",
    " "
   ]
  },
  {
   "cell_type": "code",
   "execution_count": 184,
   "metadata": {},
   "outputs": [
    {
     "name": "stdout",
     "output_type": "stream",
     "text": [
      "               a          b          c          d\n",
      "one    75.627366  78.298639  59.986395  64.389241\n",
      "two    25.658058  95.175563  93.488743  77.191939\n",
      "three   1.262521   0.811204   1.993315  82.406668\n",
      "four   51.366625   9.850818  65.729447  97.170209\n",
      "------\n",
      "           a      b      c      d\n",
      "one    False  False  False  False\n",
      "two    False  False  False  False\n",
      "three   True   True   True  False\n",
      "four   False   True  False  False <class 'pandas.core.frame.DataFrame'>\n",
      "              a         b         c   d\n",
      "one         NaN       NaN       NaN NaN\n",
      "two         NaN       NaN       NaN NaN\n",
      "three  1.262521  0.811204  1.993315 NaN\n",
      "four        NaN  9.850818       NaN NaN\n",
      "------\n",
      "one       True\n",
      "two      False\n",
      "three    False\n",
      "four      True\n",
      "Name: a, dtype: bool <class 'pandas.core.series.Series'>\n",
      "              a          b          c          d\n",
      "one   75.627366  78.298639  59.986395  64.389241\n",
      "four  51.366625   9.850818  65.729447  97.170209\n",
      "------\n",
      "           a      b\n",
      "one     True   True\n",
      "two    False   True\n",
      "three  False  False\n",
      "four    True  False <class 'pandas.core.frame.DataFrame'>\n",
      "               a          b   c   d\n",
      "one    75.627366  78.298639 NaN NaN\n",
      "two          NaN  95.175563 NaN NaN\n",
      "three        NaN        NaN NaN NaN\n",
      "four   51.366625        NaN NaN NaN\n",
      "------\n",
      "           a      b      c      d\n",
      "one    False  False  False  False\n",
      "three   True   True   True  False <class 'pandas.core.frame.DataFrame'>\n",
      "              a         b         c   d\n",
      "one         NaN       NaN       NaN NaN\n",
      "two         NaN       NaN       NaN NaN\n",
      "three  1.262521  0.811204  1.993315 NaN\n",
      "four        NaN       NaN       NaN NaN\n",
      "------\n"
     ]
    }
   ],
   "source": [
    "# 布尔型索引\n",
    "# 和Series原理相同\n",
    "\n",
    "df = pd.DataFrame(np.random.rand(16).reshape(4,4)*100,\n",
    "                   index = ['one','two','three','four'],\n",
    "                   columns = ['a','b','c','d'])\n",
    "print(df)\n",
    "print('------')\n",
    "\n",
    "b1 = df < 20\n",
    "print(b1,type(b1))\n",
    "print(df[b1])  # 也可以书写为 df[df < 20]\n",
    "print('------')\n",
    "# 不做索引则会对数据每个值进行判断\n",
    "# 索引结果保留 所有数据：True返回原数据，False返回值为NaN\n",
    "\n",
    "\n",
    "\n",
    "b2 = df['a'] > 50\n",
    "print(b2,type(b2))\n",
    "print(df[b2])  # 也可以书写为 df[df['a'] > 50]\n",
    "print('------')\n",
    "# 单列做判断\n",
    "# 索引结果保留 单列判断为True的行数据，包括其他列\n",
    "\n",
    "b3 = df[['a','b']] > 50\n",
    "print(b3,type(b3))\n",
    "print(df[b3])  # 也可以书写为 df[df[['a','b']] > 50]\n",
    "print('------')\n",
    "# 多列做判断\n",
    "# 索引结果保留 所有数据：True返回原数据，False返回值为NaN\n",
    "\n",
    "b4 = df.loc[['one','three']] < 50\n",
    "print(b4,type(b4))\n",
    "print(df[b4])  # 也可以书写为 df[df.loc[['one','three']] < 50]\n",
    "print('------')\n",
    "# 多行做判断\n",
    "# 索引结果保留 所有数据：True返回原数据，False返回值为NaN\n"
   ]
  },
  {
   "cell_type": "code",
   "execution_count": 189,
   "metadata": {},
   "outputs": [
    {
     "name": "stdout",
     "output_type": "stream",
     "text": [
      "               a          b          c          d\n",
      "one    63.547237  42.944568  93.443924  25.009886\n",
      "two    60.651341  21.790149  98.932167  60.986251\n",
      "three  27.491644  27.654891   8.447121  70.035529\n",
      "four   69.784635  50.677180  44.866438  97.319755\n",
      "------\n",
      "one      63.547237\n",
      "three    27.491644\n",
      "Name: a, dtype: float64\n",
      "------\n",
      "               b          c          d\n",
      "one    42.944568  93.443924  25.009886\n",
      "three  27.654891   8.447121  70.035529\n",
      "------\n",
      "               a          b         c          d\n",
      "three  27.491644  27.654891  8.447121  70.035529\n",
      "------\n",
      "               a          c          d\n",
      "one          NaN        NaN  25.009886\n",
      "two          NaN        NaN        NaN\n",
      "three  27.491644   8.447121        NaN\n",
      "four         NaN  44.866438        NaN\n"
     ]
    }
   ],
   "source": [
    "# 多重索引：比如同时索引行和列\n",
    "# 先选择列再选择行 —— 相当于对于一个数据，先筛选字段，再选择数据量\n",
    "\n",
    "df = pd.DataFrame(np.random.rand(16).reshape(4,4)*100,\n",
    "                   index = ['one','two','three','four'],\n",
    "                   columns = ['a','b','c','d'])\n",
    "print(df)\n",
    "print('------')\n",
    "\n",
    "print(df['a'].loc[['one','three']])\n",
    "print('------')# 选择a列的one，three行\n",
    "print(df[['b','c','d']].iloc[::2]) \n",
    "print('------')# 选择b，c，d列的one，three行\n",
    "print(df[df['a'] < 50].iloc[:2])  \n",
    "print('------')# 选择满足判断索引的前两行数据\n",
    "print(df[df<50][['a','c','d']])\n",
    " "
   ]
  },
  {
   "cell_type": "code",
   "execution_count": 191,
   "metadata": {},
   "outputs": [
    {
     "ename": "TypeError",
     "evalue": "'type' object is not subscriptable",
     "output_type": "error",
     "traceback": [
      "\u001b[1;31m---------------------------------------------------------------------------\u001b[0m",
      "\u001b[1;31mTypeError\u001b[0m                                 Traceback (most recent call last)",
      "\u001b[1;32m<ipython-input-191-ce947e599535>\u001b[0m in \u001b[0;36m<module>\u001b[1;34m()\u001b[0m\n\u001b[0;32m      1\u001b[0m \u001b[1;31m#2.6作业\u001b[0m\u001b[1;33m\u001b[0m\u001b[1;33m\u001b[0m\u001b[0m\n\u001b[0;32m      2\u001b[0m \u001b[0mdata\u001b[0m \u001b[1;33m=\u001b[0m \u001b[0mnp\u001b[0m\u001b[1;33m.\u001b[0m\u001b[0mrandom\u001b[0m\u001b[1;33m.\u001b[0m\u001b[0mrand\u001b[0m\u001b[1;33m(\u001b[0m\u001b[1;36m16\u001b[0m\u001b[1;33m)\u001b[0m\u001b[1;33m.\u001b[0m\u001b[0mreshape\u001b[0m\u001b[1;33m(\u001b[0m\u001b[1;36m4\u001b[0m\u001b[1;33m,\u001b[0m\u001b[1;36m4\u001b[0m\u001b[1;33m)\u001b[0m\u001b[1;33m*\u001b[0m\u001b[1;36m100\u001b[0m\u001b[1;33m\u001b[0m\u001b[0m\n\u001b[1;32m----> 3\u001b[1;33m \u001b[0mdf\u001b[0m \u001b[1;33m=\u001b[0m \u001b[0mpd\u001b[0m\u001b[1;33m.\u001b[0m\u001b[0mDataFrame\u001b[0m\u001b[1;33m(\u001b[0m\u001b[0mdata\u001b[0m\u001b[1;33m,\u001b[0m\u001b[0mindex\u001b[0m\u001b[1;33m=\u001b[0m\u001b[1;33m[\u001b[0m\u001b[1;34m'one'\u001b[0m\u001b[1;33m,\u001b[0m\u001b[1;34m'two'\u001b[0m\u001b[1;33m,\u001b[0m\u001b[1;34m'three'\u001b[0m\u001b[1;33m,\u001b[0m\u001b[1;34m'four'\u001b[0m\u001b[1;33m]\u001b[0m\u001b[1;33m,\u001b[0m\u001b[0mcolumns\u001b[0m\u001b[1;33m=\u001b[0m\u001b[0mlist\u001b[0m\u001b[1;33m[\u001b[0m\u001b[1;34m'abcd'\u001b[0m\u001b[1;33m]\u001b[0m\u001b[1;33m)\u001b[0m\u001b[1;33m\u001b[0m\u001b[0m\n\u001b[0m\u001b[0;32m      4\u001b[0m \u001b[0mprint\u001b[0m\u001b[1;33m(\u001b[0m\u001b[0mdf\u001b[0m\u001b[1;33m)\u001b[0m\u001b[1;33m\u001b[0m\u001b[0m\n",
      "\u001b[1;31mTypeError\u001b[0m: 'type' object is not subscriptable"
     ]
    }
   ],
   "source": [
    "#2.6作业\n",
    "data = np.random.rand(16).reshape(4,4)*100\n",
    "df = pd.DataFrame(data,index=['one','two','three','four'],columns=list['abcd'])\n",
    "print(df)"
   ]
  }
 ],
 "metadata": {
  "kernelspec": {
   "display_name": "Python 3",
   "language": "python",
   "name": "python3"
  },
  "language_info": {
   "codemirror_mode": {
    "name": "ipython",
    "version": 3
   },
   "file_extension": ".py",
   "mimetype": "text/x-python",
   "name": "python",
   "nbconvert_exporter": "python",
   "pygments_lexer": "ipython3",
   "version": "3.6.5"
  }
 },
 "nbformat": 4,
 "nbformat_minor": 2
}
