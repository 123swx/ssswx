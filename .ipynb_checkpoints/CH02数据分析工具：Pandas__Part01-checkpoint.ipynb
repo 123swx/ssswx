{
 "cells": [
  {
   "cell_type": "markdown",
   "metadata": {},
   "source": [
    "# pandas的两个数据结构:series和dataframe,介绍了基本概念及创建,索引及技巧"
   ]
  },
  {
   "cell_type": "code",
   "execution_count": null,
   "metadata": {
    "collapsed": true
   },
   "outputs": [],
   "source": [
    "'''\n",
    "【课程2.2】  Pandas数据结构Series：基本概念及创建\n",
    "\n",
    "\"一维数组\"Serise\n",
    "\n",
    "'''"
   ]
  },
  {
   "cell_type": "code",
   "execution_count": 77,
   "metadata": {},
   "outputs": [
    {
     "name": "stdout",
     "output_type": "stream",
     "text": [
      "0    0.547366\n",
      "1    0.354786\n",
      "2    0.083981\n",
      "3    0.450052\n",
      "4    0.803259\n",
      "dtype: float64\n",
      "<class 'pandas.core.series.Series'>\n",
      "1\n",
      "RangeIndex(start=0, stop=5, step=1) <class 'pandas.core.indexes.range.RangeIndex'>\n",
      "[0.54736642 0.35478592 0.08398148 0.45005214 0.80325889] <class 'numpy.ndarray'>\n"
     ]
    }
   ],
   "source": [
    "# Series 数据结构\n",
    "# Series 是带有标签的一维数组，可以保存任何数据类型（整数，字符串，浮点数，Python对象等）,轴标签统称为索引\n",
    "\n",
    "import numpy as np\n",
    "import pandas as pd  \n",
    "# 导入numpy、pandas模块\n",
    "\n",
    "s = pd.Series(np.random.rand(5))\n",
    "print(s)\n",
    "print(type(s))\n",
    "# 查看数据、数据类型\n",
    " \n",
    "print(s.index,type(s.index))\n",
    "print(s.values,type(s.values))\n",
    "# .index查看series索引，类型为rangeindex\n",
    "# .values查看series值，类型是ndarray\n",
    "\n",
    "# 核心：series相比于ndarray，是一个自带索引index的数组 → 一维数组 + 对应索引\n",
    "# 所以当只看series的值的时候，就是一个ndarray\n",
    "# series和ndarray较相似，索引切片功能差别不大\n",
    "# series和dict相比，series更像一个有顺序的字典（dict本身不存在顺序），其索引原理与字典相似（一个用key，一个用index）"
   ]
  },
  {
   "cell_type": "markdown",
   "metadata": {},
   "source": [
    "## series的创建方法 1.用字典,key就相当于index,2.一维数组,然后指明index,3.用标量创建 "
   ]
  },
  {
   "cell_type": "code",
   "execution_count": 31,
   "metadata": {},
   "outputs": [
    {
     "name": "stdout",
     "output_type": "stream",
     "text": [
      "a    1\n",
      "b    2\n",
      "c    3\n",
      "4    4\n",
      "5    5\n",
      "dtype: int64\n"
     ]
    }
   ],
   "source": [
    "# Series 创建方法一：由字典创建，字典的key就是index，values就是values\n",
    "\n",
    "dic = {'a':1 ,'b':2 , 'c':3, '4':4, '5':5}\n",
    "s = pd.Series(dic)\n",
    "print(s)\n",
    "# 注意：key肯定是字符串，假如values类型不止一个会怎么样？ → dic = {'a':1 ,'b':'hello' , 'c':3, '4':4, '5':5}"
   ]
  },
  {
   "cell_type": "code",
   "execution_count": 75,
   "metadata": {},
   "outputs": [
    {
     "name": "stdout",
     "output_type": "stream",
     "text": [
      "[ 1.04413469 -0.04079185 -0.69534474  0.31560185 -1.48849384]\n",
      "0    1.044135\n",
      "1   -0.040792\n",
      "2   -0.695345\n",
      "3    0.315602\n",
      "4   -1.488494\n",
      "dtype: float64\n",
      "a      1.04413\n",
      "b   -0.0407919\n",
      "c    -0.695345\n",
      "d     0.315602\n",
      "e     -1.48849\n",
      "dtype: object\n",
      "e     -1.48849\n",
      "c    -0.695345\n",
      "b   -0.0407919\n",
      "d     0.315602\n",
      "a      1.04413\n",
      "dtype: object\n",
      "e     -1.48849\n",
      "c    -0.695345\n",
      "b   -0.0407919\n",
      "d     0.315602\n",
      "a      1.04413\n",
      "dtype: object\n"
     ]
    }
   ],
   "source": [
    "# Series 创建方法二：由数组创建(一维数组)\n",
    "\n",
    "arr = np.random.randn(5)\n",
    "s = pd.Series(arr)\n",
    "print(arr)\n",
    "print(s)\n",
    "# 默认index是从0开始，步长为1的数字\n",
    "\n",
    "s = pd.Series(arr, index = ['a','b','c','d','e'],dtype = np.object)\n",
    "print(s)\n",
    "print(s.sort_values())\n",
    "print(s.sort_values())\n",
    "# index参数：设置index，长度保持一致\n",
    "# dtype参数：设置数值类型"
   ]
  },
  {
   "cell_type": "code",
   "execution_count": 33,
   "metadata": {},
   "outputs": [
    {
     "name": "stdout",
     "output_type": "stream",
     "text": [
      "0    10\n",
      "1    10\n",
      "2    10\n",
      "3    10\n",
      "dtype: int64\n"
     ]
    }
   ],
   "source": [
    "# Series 创建方法三：由标量创建\n",
    "\n",
    "s = pd.Series(10, index = range(4))\n",
    "print(s)\n",
    "# 如果data是标量值，则必须提供索引。该值会重复，来匹配索引的长度"
   ]
  },
  {
   "cell_type": "code",
   "execution_count": 34,
   "metadata": {},
   "outputs": [
    {
     "name": "stdout",
     "output_type": "stream",
     "text": [
      "0   -1.596878\n",
      "1   -0.113787\n",
      "2    0.216119\n",
      "3   -0.702800\n",
      "4    3.093179\n",
      "dtype: float64\n",
      "-----\n",
      "0    0.297764\n",
      "1    0.211049\n",
      "2    0.530485\n",
      "3    0.227303\n",
      "4   -1.492148\n",
      "Name: test, dtype: float64\n",
      "-----\n",
      "None test <class 'str'>\n",
      "0    0.297764\n",
      "1    0.211049\n",
      "2    0.530485\n",
      "3    0.227303\n",
      "4   -1.492148\n",
      "Name: hehehe, dtype: float64\n",
      "--------\n",
      "hehehe test\n"
     ]
    }
   ],
   "source": [
    "# Series 名称属性：name\n",
    "\n",
    "s1 = pd.Series(np.random.randn(5))\n",
    "print(s1)\n",
    "print('-----')\n",
    "s2 = pd.Series(np.random.randn(5),name = 'test')\n",
    "print(s2)\n",
    "print('-----')\n",
    "print( s1.name,  s2.name,type(s2.name))\n",
    "# name为Series的一个参数，创建一个数组的 名称\n",
    "# .name方法：输出数组的名称，输出格式为str，如果没用定义输出名称，输出为None\n",
    "\n",
    "s3 = s2.rename('hehehe')\n",
    "print(s3)\n",
    "print(\"--------\")\n",
    "print(s3.name, s2.name)\n",
    "# .rename()重命名一个数组的名称，并且新指向一个数组，原数组不变"
   ]
  },
  {
   "cell_type": "code",
   "execution_count": 35,
   "metadata": {},
   "outputs": [
    {
     "data": {
      "text/plain": [
       "'\\n【课程2.3】  Pandas数据结构Series：索引\\n\\n位置下标 / 标签索引 / 切片索引 / 布尔型索引\\n\\n'"
      ]
     },
     "execution_count": 35,
     "metadata": {},
     "output_type": "execute_result"
    }
   ],
   "source": [
    "'''\n",
    "【课程2.3】  Pandas数据结构Series：索引\n",
    "\n",
    "位置下标 / 标签索引 / 切片索引 / 布尔型索引\n",
    "\n",
    "'''"
   ]
  },
  {
   "cell_type": "code",
   "execution_count": 36,
   "metadata": {},
   "outputs": [
    {
     "name": "stdout",
     "output_type": "stream",
     "text": [
      "0    0.407875\n",
      "1    0.713295\n",
      "2    0.217024\n",
      "3    0.799875\n",
      "4    0.312810\n",
      "dtype: float64\n",
      "0.40787532216058886 <class 'numpy.float64'> float64\n",
      "0.40787532216058886 <class 'float'>\n"
     ]
    }
   ],
   "source": [
    "# 位置下标，类似序列\n",
    "\n",
    "s = pd.Series(np.random.rand(5))\n",
    "print(s)\n",
    "print(s[0],type(s[0]),s[0].dtype)\n",
    "print(float(s[0]),type(float(s[0])))\n",
    "#print(s[-1])\n",
    "# 位置下标从0开始\n",
    "# 输出结果为numpy.float格式，\n",
    "# 可以通过float()函数转换为python float格式\n",
    "# numpy.float与float占用字节不同\n",
    "# s[-1]结果如何？"
   ]
  },
  {
   "cell_type": "markdown",
   "metadata": {},
   "source": [
    "## 多个标签的值,用[[]]来表示"
   ]
  },
  {
   "cell_type": "code",
   "execution_count": 37,
   "metadata": {},
   "outputs": [
    {
     "name": "stdout",
     "output_type": "stream",
     "text": [
      "a    0.700322\n",
      "b    0.159928\n",
      "c    0.371115\n",
      "d    0.916107\n",
      "e    0.972187\n",
      "dtype: float64\n",
      "0.7003218716797144 <class 'numpy.float64'> float64\n",
      "a    0.700322\n",
      "b    0.159928\n",
      "e    0.972187\n",
      "dtype: float64 <class 'pandas.core.series.Series'>\n"
     ]
    }
   ],
   "source": [
    "# 标签索引\n",
    "\n",
    "s = pd.Series(np.random.rand(5), index = ['a','b','c','d','e'])\n",
    "print(s)\n",
    "print(s['a'],type(s['a']),s['a'].dtype)\n",
    "# 方法类似下标索引，用[]表示，内写上index，注意index是字符串\n",
    "\n",
    "sci = s[['a','b','e']]\n",
    "print(sci,type(sci))\n",
    "# 如果需要选择多个标签的值，用[[]]来表示（相当于[]中包含一个列表）\n",
    "# 多标签索引结果是新的数组"
   ]
  },
  {
   "cell_type": "markdown",
   "metadata": {},
   "source": [
    "## 给index重新命名的在作切片时是左闭右闭 "
   ]
  },
  {
   "cell_type": "code",
   "execution_count": 38,
   "metadata": {},
   "outputs": [
    {
     "name": "stdout",
     "output_type": "stream",
     "text": [
      "1    0.492710\n",
      "2    0.688046\n",
      "3    0.610970\n",
      "dtype: float64 0.6504197823491108\n",
      "a    0.398915\n",
      "b    0.976626\n",
      "c    0.514661\n",
      "dtype: float64 0.514660590960404\n",
      "a    0.398915\n",
      "b    0.976626\n",
      "c    0.514661\n",
      "dtype: float64 0.2735599647908986\n",
      "-----\n",
      "a    0.398915\n",
      "b    0.976626\n",
      "c    0.514661\n",
      "dtype: float64\n",
      "a    0.398915\n",
      "c    0.514661\n",
      "e    0.188652\n",
      "dtype: float64\n"
     ]
    }
   ],
   "source": [
    "# 切片索引\n",
    "\n",
    "s1 = pd.Series(np.random.rand(5))\n",
    "s2 = pd.Series(np.random.rand(5), index = ['a','b','c','d','e'])\n",
    "print(s1[1:4],s1[4])\n",
    "print(s2['a':'c'],s2['c'])\n",
    "print(s2[0:3],s2[3])\n",
    "print('-----')\n",
    "# 注意：用index做切片是末端包含\n",
    "\n",
    "print(s2[:-2])\n",
    "print(s2[::2])\n",
    "# 下标索引做切片，和list写法一样"
   ]
  },
  {
   "cell_type": "code",
   "execution_count": 39,
   "metadata": {},
   "outputs": [
    {
     "name": "stdout",
     "output_type": "stream",
     "text": [
      "0    57.2812\n",
      "1    67.1929\n",
      "2    54.6504\n",
      "4       None\n",
      "dtype: object\n",
      "0     True\n",
      "1     True\n",
      "2     True\n",
      "4    False\n",
      "dtype: bool <class 'pandas.core.series.Series'> bool\n",
      "0    False\n",
      "1    False\n",
      "2    False\n",
      "4     True\n",
      "dtype: bool <class 'pandas.core.series.Series'> bool\n",
      "0     True\n",
      "1     True\n",
      "2     True\n",
      "4    False\n",
      "dtype: bool <class 'pandas.core.series.Series'> bool\n",
      "-----\n",
      "0    57.2812\n",
      "1    67.1929\n",
      "2    54.6504\n",
      "dtype: object\n",
      "-----\n",
      "0    57.2812\n",
      "1    67.1929\n",
      "2    54.6504\n",
      "dtype: object\n"
     ]
    }
   ],
   "source": [
    "# 布尔型索引\n",
    "\n",
    "s = pd.Series(np.random.rand(3)*100)\n",
    "s[4] = None  # 添加一个空值\n",
    "print(s)\n",
    "bs1 = s > 50\n",
    "bs2 = s.isnull()\n",
    "bs3 = s.notnull()\n",
    "print(bs1, type(bs1), bs1.dtype)\n",
    "print(bs2, type(bs2), bs2.dtype)\n",
    "print(bs3, type(bs3), bs3.dtype)\n",
    "print('-----')\n",
    "# 数组做判断之后，返回的是一个由布尔值组成的新的数组\n",
    "# .isnull() / .notnull() 判断是否为空值 (None代表空值，NaN代表有问题的数值，两个都会识别为空值)\n",
    "\n",
    "print(s[s > 50]) \n",
    "print('-----')\n",
    "print(s[bs3])\n",
    "# 布尔型索引方法：用[判断条件]表示，其中判断条件可以是 一个语句，或者是 一个布尔型数组！"
   ]
  },
  {
   "cell_type": "code",
   "execution_count": 40,
   "metadata": {},
   "outputs": [
    {
     "data": {
      "text/plain": [
       "'\\n【课程2.4】  Pandas数据结构Series：基本技巧\\n\\n数据查看 / 重新索引 / 对齐 / 添加、修改、删除值\\n\\n'"
      ]
     },
     "execution_count": 40,
     "metadata": {},
     "output_type": "execute_result"
    }
   ],
   "source": [
    "'''\n",
    "【课程2.4】  Pandas数据结构Series：基本技巧\n",
    "\n",
    "数据查看 / 重新索引 / 对齐 / 添加、修改、删除值\n",
    "\n",
    "'''"
   ]
  },
  {
   "cell_type": "code",
   "execution_count": 41,
   "metadata": {},
   "outputs": [
    {
     "name": "stdout",
     "output_type": "stream",
     "text": [
      "0    0.444360\n",
      "1    0.624907\n",
      "2    0.391572\n",
      "3    0.082999\n",
      "4    0.579609\n",
      "5    0.672636\n",
      "6    0.849014\n",
      "7    0.850837\n",
      "8    0.009294\n",
      "9    0.933189\n",
      "dtype: float64\n",
      "45    0.803811\n",
      "46    0.660573\n",
      "47    0.060398\n",
      "48    0.111076\n",
      "49    0.677149\n",
      "dtype: float64\n"
     ]
    }
   ],
   "source": [
    "# 数据查看\n",
    "\n",
    "s = pd.Series(np.random.rand(50))\n",
    "print(s.head(10))\n",
    "print(s.tail())\n",
    "# .head()查看头部数据\n",
    "# .tail()查看尾部数据\n",
    "# 默认查看5条"
   ]
  },
  {
   "cell_type": "code",
   "execution_count": 42,
   "metadata": {},
   "outputs": [
    {
     "name": "stdout",
     "output_type": "stream",
     "text": [
      "a    0.981354\n",
      "b    0.476651\n",
      "c    0.134725\n",
      "dtype: float64\n",
      "c    0.134725\n",
      "b    0.476651\n",
      "a    0.981354\n",
      "d         NaN\n",
      "dtype: float64\n",
      "c    0.134725\n",
      "b    0.476651\n",
      "a    0.981354\n",
      "d    0.000000\n",
      "dtype: float64\n"
     ]
    }
   ],
   "source": [
    "# 重新索引reindex\n",
    "# .reindex将会根据索引重新排序，如果当前索引不存在，则引入缺失值\n",
    "\n",
    "s = pd.Series(np.random.rand(3), index = ['a','b','c'])\n",
    "print(s)\n",
    "s1 = s.reindex(['c','b','a','d'])\n",
    "print(s1)\n",
    "# .reindex()中也是写列表\n",
    "# 这里'd'索引不存在，所以值为NaN\n",
    "\n",
    "s2 = s.reindex(['c','b','a','d'], fill_value = 0)\n",
    "print(s2)\n",
    "# fill_value参数：填充缺失值的值"
   ]
  },
  {
   "cell_type": "code",
   "execution_count": 43,
   "metadata": {},
   "outputs": [
    {
     "name": "stdout",
     "output_type": "stream",
     "text": [
      "Jack     0.231960\n",
      "Marry    0.128019\n",
      "Tom      0.152017\n",
      "dtype: float64\n",
      "Wang     0.283823\n",
      "Jack     0.225515\n",
      "Marry    0.796002\n",
      "dtype: float64\n",
      "Jack     0.457475\n",
      "Marry    0.924021\n",
      "Tom           NaN\n",
      "Wang          NaN\n",
      "dtype: float64\n"
     ]
    }
   ],
   "source": [
    "# Series对齐\n",
    "\n",
    "s1 = pd.Series(np.random.rand(3), index = ['Jack','Marry','Tom'])\n",
    "s2 = pd.Series(np.random.rand(3), index = ['Wang','Jack','Marry'])\n",
    "print(s1)\n",
    "print(s2)\n",
    "print(s1+s2)\n",
    "# Series 和 ndarray 之间的主要区别是，Series 上的操作会根据标签自动对齐\n",
    "# index顺序不会影响数值计算，以标签来计算\n",
    "# 空值和任何值计算结果扔为空值"
   ]
  },
  {
   "cell_type": "code",
   "execution_count": 44,
   "metadata": {},
   "outputs": [
    {
     "name": "stdout",
     "output_type": "stream",
     "text": [
      "n    0.972377\n",
      "g    0.082733\n",
      "j    0.499275\n",
      "u    0.096777\n",
      "r    0.899115\n",
      "dtype: float64\n",
      "g    0.082733\n",
      "j    0.499275\n",
      "u    0.096777\n",
      "r    0.899115\n",
      "dtype: float64\n",
      "n    0.972377\n",
      "u    0.096777\n",
      "r    0.899115\n",
      "dtype: float64\n",
      "*************88\n",
      "n    0.972377\n",
      "g    0.082733\n",
      "j    0.499275\n",
      "u    0.096777\n",
      "r    0.899115\n",
      "dtype: float64\n"
     ]
    }
   ],
   "source": [
    "# 删除：.drop\n",
    "\n",
    "s = pd.Series(np.random.rand(5), index = list('ngjur'))\n",
    "print(s)\n",
    "s1 = s.drop('n')\n",
    "s2 = s.drop(['g','j'])#默认是false\n",
    "print(s1)\n",
    "print(s2)\n",
    "print('*************88')\n",
    "print(s)\n",
    "# drop 删除元素之后返回副本(inplace=False),"
   ]
  },
  {
   "cell_type": "code",
   "execution_count": 45,
   "metadata": {},
   "outputs": [
    {
     "name": "stdout",
     "output_type": "stream",
     "text": [
      "0    0.626081\n",
      "1    0.731389\n",
      "2    0.657689\n",
      "3    0.036014\n",
      "4    0.320763\n",
      "dtype: float64\n",
      "n    0.576852\n",
      "g    0.427132\n",
      "j    0.771007\n",
      "u    0.879990\n",
      "r    0.728510\n",
      "dtype: float64\n",
      "0      0.626081\n",
      "1      0.731389\n",
      "2      0.657689\n",
      "3      0.036014\n",
      "4      0.320763\n",
      "5    100.000000\n",
      "dtype: float64\n",
      "n      0.576852\n",
      "g      0.427132\n",
      "j      0.771007\n",
      "u      0.879990\n",
      "r      0.728510\n",
      "a    100.000000\n",
      "dtype: float64\n",
      "-----\n",
      "0      0.626081\n",
      "1      0.731389\n",
      "2      0.657689\n",
      "3      0.036014\n",
      "4      0.320763\n",
      "5    100.000000\n",
      "n      0.576852\n",
      "g      0.427132\n",
      "j      0.771007\n",
      "u      0.879990\n",
      "r      0.728510\n",
      "a    100.000000\n",
      "dtype: float64\n",
      "0      0.626081\n",
      "1      0.731389\n",
      "2      0.657689\n",
      "3      0.036014\n",
      "4      0.320763\n",
      "5    100.000000\n",
      "dtype: float64\n"
     ]
    }
   ],
   "source": [
    "# 添加\n",
    "\n",
    "s1 = pd.Series(np.random.rand(5))\n",
    "s2 = pd.Series(np.random.rand(5), index = list('ngjur'))\n",
    "print(s1)\n",
    "print(s2)\n",
    "s1[5] = 100\n",
    "s2['a'] = 100\n",
    "print(s1)\n",
    "print(s2)\n",
    "print('-----')\n",
    "# 直接通过下标索引/标签index添加值\n",
    "\n",
    "s3 = s1.append(s2)\n",
    "print(s3)\n",
    "print(s1)\n",
    "# 通过.append方法，直接添加一个数组\n",
    "# .append方法生成一个新的数组，不改变之前的数组"
   ]
  },
  {
   "cell_type": "code",
   "execution_count": 46,
   "metadata": {},
   "outputs": [
    {
     "name": "stdout",
     "output_type": "stream",
     "text": [
      "a    0.287592\n",
      "b    0.436215\n",
      "c    0.660569\n",
      "dtype: float64\n",
      "a    100.0\n",
      "b    200.0\n",
      "c    200.0\n",
      "dtype: float64\n"
     ]
    }
   ],
   "source": [
    "# 修改\n",
    "\n",
    "s = pd.Series(np.random.rand(3), index = ['a','b','c'])\n",
    "print(s)\n",
    "s['a'] = 100\n",
    "s[['b','c']] = 200\n",
    "print(s)\n",
    "# 通过索引直接修改，类似序列"
   ]
  },
  {
   "cell_type": "code",
   "execution_count": 47,
   "metadata": {},
   "outputs": [
    {
     "data": {
      "text/plain": [
       "'\\n【课程2.5】  Pandas数据结构Dataframe：基本概念及创建\\n\\n\"二维数组\"Dataframe：是一个表格型的数据结构，包含一组有序的列，其列的值类型可以是数值、字符串、布尔值等。\\n\\nDataframe中的数据以一个或多个二维块存放，不是列表、字典或一维数组结构。\\n\\n'"
      ]
     },
     "execution_count": 47,
     "metadata": {},
     "output_type": "execute_result"
    }
   ],
   "source": [
    "'''\n",
    "【课程2.5】  Pandas数据结构Dataframe：基本概念及创建\n",
    "\n",
    "\"二维数组\"Dataframe：是一个表格型的数据结构，包含一组有序的列，其列的值类型可以是数值、字符串、布尔值等。\n",
    "\n",
    "Dataframe中的数据以一个或多个二维块存放，不是列表、字典或一维数组结构。\n",
    "\n",
    "'''"
   ]
  },
  {
   "cell_type": "markdown",
   "metadata": {},
   "source": [
    "## dataframe的5种创建方法 1. 由数组/list组成的字典,columns为字典key,index为默认数字,且index不能超出数组的行数,但是columns可以超过,会将其置为nan,都需要pd.dataframe()来转化\n",
    "## 2.由series组成的字典,series是有索引的一维数组\n",
    "## 3.reshape(3,3)转成二维数组\n",
    "## 4.由字典组成的字典,{{}}\n",
    "## 5.由字典组成的列表,都需要pd.dataframe()来转化"
   ]
  },
  {
   "cell_type": "code",
   "execution_count": 48,
   "metadata": {},
   "outputs": [
    {
     "name": "stdout",
     "output_type": "stream",
     "text": [
      "   name  age gender\n",
      "0  Jack   18      m\n",
      "1   Tom   19      m\n",
      "2  Mary   20      w\n",
      "<class 'pandas.core.frame.DataFrame'>\n",
      "RangeIndex(start=0, stop=3, step=1) \n",
      "该数据类型为： <class 'pandas.core.indexes.range.RangeIndex'>\n",
      "Index(['name', 'age', 'gender'], dtype='object') \n",
      "该数据类型为： <class 'pandas.core.indexes.base.Index'>\n",
      "[['Jack' 18 'm']\n",
      " ['Tom' 19 'm']\n",
      " ['Mary' 20 'w']] \n",
      "该数据类型为： <class 'numpy.ndarray'>\n"
     ]
    }
   ],
   "source": [
    "# Dataframe 数据结构\n",
    "# Dataframe是一个表格型的数据结构，“带有标签的二维数组”。\n",
    "# Dataframe带有index（行标签）和columns（列标签）\n",
    "\n",
    "data = {'name':['Jack','Tom','Mary'],\n",
    "        'age':[18,19,20],\n",
    "       'gender':['m','m','w']}\n",
    "frame = pd.DataFrame(data)\n",
    "print(frame)  \n",
    "print(type(frame))\n",
    "print(frame.index,'\\n该数据类型为：',type(frame.index))\n",
    "print(frame.columns,'\\n该数据类型为：',type(frame.columns))\n",
    "print(frame.values,'\\n该数据类型为：',type(frame.values))\n",
    "# 查看数据，数据类型为dataframe\n",
    "# .index查看行标签\n",
    "# .columns查看列标签\n",
    "# .values查看值，数据类型为ndarray,比series多了一个columns属性"
   ]
  },
  {
   "cell_type": "code",
   "execution_count": 49,
   "metadata": {},
   "outputs": [
    {
     "name": "stdout",
     "output_type": "stream",
     "text": [
      "{'a': [1, 2, 3], 'b': [3, 4, 5], 'c': [5, 6, 7]}\n",
      "{'one': array([0.8229894 , 0.41646624, 0.35443787]), 'two': array([0.34323657, 0.04408151, 0.38417871])}\n",
      "   a  b  c\n",
      "0  1  3  5\n",
      "1  2  4  6\n",
      "2  3  5  7\n",
      "        one       two\n",
      "0  0.822989  0.343237\n",
      "1  0.416466  0.044082\n",
      "2  0.354438  0.384179\n",
      "   b  c  a    d\n",
      "0  3  5  1  NaN\n",
      "1  4  6  2  NaN\n",
      "2  5  7  3  NaN\n",
      "   b  c\n",
      "0  3  5\n",
      "1  4  6\n",
      "2  5  7\n",
      "         one       two\n",
      "f1  0.822989  0.343237\n",
      "f2  0.416466  0.044082\n",
      "f3  0.354438  0.384179\n"
     ]
    }
   ],
   "source": [
    "# Dataframe 创建方法一：由数组/list组成的字典\n",
    "# 创建方法:pandas.Dataframe()\n",
    "\n",
    "data1 = {'a':[1,2,3],\n",
    "        'b':[3,4,5],\n",
    "        'c':[5,6,7]}\n",
    "data2 = {'one':np.random.rand(3),\n",
    "        'two':np.random.rand(3)}   # 这里如果尝试  'two':np.random.rand(4) 会怎么样？\n",
    "print(data1)\n",
    "print(data2)\n",
    "df1 = pd.DataFrame(data1)\n",
    "df2 = pd.DataFrame(data2)\n",
    "print(df1)\n",
    "print(df2)\n",
    "# 由数组/list组成的字典 创建Dataframe，columns为字典key，index为默认数字标签\n",
    "# 字典的值的长度必须保持一致！\n",
    "\n",
    "df1 = pd.DataFrame(data1, columns = ['b','c','a','d'])\n",
    "print(df1)\n",
    "df1 = pd.DataFrame(data1, columns = ['b','c'])\n",
    "print(df1)\n",
    "# columns参数：可以重新指定列的顺序，格式为list，如果现有数据中没有该列（比如'd'），则产生NaN值\n",
    "# 如果columns重新指定时候，列的数量可以少于原数据\n",
    "\n",
    "df2 = pd.DataFrame(data2, index = ['f1','f2','f3'])  # 这里如果尝试  index = ['f1','f2','f3','f4'] 会怎么样？\n",
    "print(df2)\n",
    "# index参数：重新定义index，格式为list，长度必须保持一致"
   ]
  },
  {
   "cell_type": "code",
   "execution_count": 79,
   "metadata": {},
   "outputs": [
    {
     "name": "stdout",
     "output_type": "stream",
     "text": [
      "{'one': 0    0.294484\n",
      "1    0.351004\n",
      "dtype: float64, 'two': 0    0.894893\n",
      "1    0.525370\n",
      "2    0.968565\n",
      "dtype: float64}\n",
      "{'one': a    0.510262\n",
      "b    0.612364\n",
      "dtype: float64, 'two': a    0.306744\n",
      "b    0.031040\n",
      "c    0.978980\n",
      "dtype: float64}\n",
      "        one       two\n",
      "0  0.294484  0.894893\n",
      "1  0.351004  0.525370\n",
      "2       NaN  0.968565\n",
      "        one       two\n",
      "a  0.510262  0.306744\n",
      "b  0.612364  0.031040\n",
      "c       NaN  0.978980\n"
     ]
    }
   ],
   "source": [
    "# Dataframe 创建方法二：由Series组成的字典\n",
    "\n",
    "data1 = {'one':pd.Series(np.random.rand(2)),\n",
    "        'two':pd.Series(np.random.rand(3))}  # 没有设置index的Series\n",
    "data2 = {'one':pd.Series(np.random.rand(2), index = ['a','b']),\n",
    "        'two':pd.Series(np.random.rand(3),index = ['a','b','c'])}# 设置了index的Series\n",
    " \n",
    "print(data1)\n",
    "print(data2)\n",
    " \n",
    "df1 = pd.DataFrame(data1)\n",
    "df2 = pd.DataFrame(data2)\n",
    "print(df1)\n",
    "print(df2)\n",
    "# 由Seris组成的字典 创建Dataframe，columns为字典key，index为Series的标签（如果Series没有指定标签，则是默认数字标签）\n",
    "# Series可以长度不一样，生成的Dataframe会出现NaN值"
   ]
  },
  {
   "cell_type": "code",
   "execution_count": 51,
   "metadata": {},
   "outputs": [
    {
     "name": "stdout",
     "output_type": "stream",
     "text": [
      "[[0.64849389 0.13198011 0.59662649]\n",
      " [0.61336185 0.66395749 0.93257913]\n",
      " [0.58764659 0.04831163 0.06987778]]\n",
      "          0         1         2\n",
      "0  0.648494  0.131980  0.596626\n",
      "1  0.613362  0.663957  0.932579\n",
      "2  0.587647  0.048312  0.069878\n",
      "        one       two     three\n",
      "a  0.648494  0.131980  0.596626\n",
      "b  0.613362  0.663957  0.932579\n",
      "c  0.587647  0.048312  0.069878\n"
     ]
    }
   ],
   "source": [
    "# Dataframe 创建方法三：通过二维数组直接创建\n",
    "\n",
    "ar = np.random.rand(9).reshape(3,3)\n",
    "print(ar)\n",
    "df1 = pd.DataFrame(ar)\n",
    "df2 = pd.DataFrame(ar, index = ['a', 'b', 'c'], columns = ['one','two','three'])  # 可以尝试一下index或columns长度不等于已有数组的情况\n",
    "print(df1)\n",
    "print(df2)\n",
    "# 通过二维数组直接创建Dataframe，得到一样形状的结果数据，如果不指定index和columns，两者均返回默认数字格式\n",
    "# index和colunms指定长度与原数组保持一致"
   ]
  },
  {
   "cell_type": "code",
   "execution_count": 52,
   "metadata": {},
   "outputs": [
    {
     "name": "stdout",
     "output_type": "stream",
     "text": [
      "[{'one': 1, 'two': 2}, {'one': 5, 'two': 10, 'three': 20}]\n",
      "   one  three  two\n",
      "0    1    NaN    2\n",
      "1    5   20.0   10\n",
      "   one  three  two\n",
      "a    1    NaN    2\n",
      "b    5   20.0   10\n",
      "   one  two  four\n",
      "0    1    2   NaN\n",
      "1    5   10   NaN\n"
     ]
    }
   ],
   "source": [
    "# Dataframe 创建方法四：由字典组成的列表\n",
    "\n",
    "data = [{'one': 1, 'two': 2}, {'one': 5, 'two': 10, 'three': 20}]\n",
    "print(data)\n",
    "df1 = pd.DataFrame(data)\n",
    "df2 = pd.DataFrame(data, index = ['a','b'])\n",
    "df3 = pd.DataFrame(data, columns = ['one','two','four'])\n",
    "print(df1)\n",
    "print(df2)\n",
    "print(df3)\n",
    "# 由字典组成的列表创建Dataframe，columns为字典的key，index不做指定则为默认数组标签\n",
    "# colunms和index参数分别重新指定相应列及行标签"
   ]
  },
  {
   "cell_type": "code",
   "execution_count": 58,
   "metadata": {},
   "outputs": [
    {
     "name": "stdout",
     "output_type": "stream",
     "text": [
      "         Jack  Marry   Tom\n",
      "art        78     92   NaN\n",
      "english    89     95  67.0\n",
      "math       90     82  78.0\n",
      "         Jack   Tom  Bob\n",
      "art        78   NaN  NaN\n",
      "english    89  67.0  NaN\n",
      "math       90  78.0  NaN\n",
      "   one  two  four\n",
      "0    1    2   NaN\n",
      "1    5   10   NaN\n"
     ]
    }
   ],
   "source": [
    "# Dataframe 创建方法五：由字典组成的字典\n",
    "\n",
    "data = {'Jack':{'math':90,'english':89,'art':78},\n",
    "       'Marry':{'math':82,'english':95,'art':92},\n",
    "       'Tom':{'math':78,'english':67}}\n",
    "df1 = pd.DataFrame(data)\n",
    "print(df1)\n",
    "# 由字典组成的字典创建Dataframe，columns为字典的key，index为子字典的key\n",
    "\n",
    "df2 = pd.DataFrame(data, columns = ['Jack','Tom','Bob'])\n",
    "#df3 = pd.DataFrame(data, index = ['a','b','c'])# index在这里和之前不同，并不能改变原有index，如果指向新的标签，值为NaN （非常重要！）\n",
    "print(df2)\n",
    "print(df3)\n",
    "# columns参数可以增加和减少现有列，如出现新的列，值为NaN\n",
    "# index在这里和之前不同，并不能改变原有index，如果指向新的标签，值为NaN （非常重要！）"
   ]
  },
  {
   "cell_type": "code",
   "execution_count": 59,
   "metadata": {},
   "outputs": [
    {
     "data": {
      "text/plain": [
       "'\\n【课程2.6】  Pandas数据结构Dataframe：索引\\n\\nDataframe既有行索引也有列索引，可以被看做由Series组成的字典（共用一个索引）\\n\\n选择列 / 选择行 / 切片 / 布尔判断\\n\\n'"
      ]
     },
     "execution_count": 59,
     "metadata": {},
     "output_type": "execute_result"
    }
   ],
   "source": [
    "'''\n",
    "【课程2.6】  Pandas数据结构Dataframe：索引\n",
    "\n",
    "Dataframe既有行索引也有列索引，可以被看做由Series组成的字典（共用一个索引）\n",
    "\n",
    "选择列 / 选择行 / 切片 / 布尔判断\n",
    "\n",
    "'''"
   ]
  },
  {
   "cell_type": "markdown",
   "metadata": {},
   "source": [
    "##  切片df[ ]:一般用于选择列(指定列名),也可以选择行,df[:1]选择第一行\n",
    "## loc():选择行,如果搜索索引不存在，则返回NaN,左闭右闭,不能为[-1]\n",
    "## iloc():选择行,如果搜索索引不存在，则会报错,左闭右开,能为[-1],表示选最后一行\n",
    "## 多重索引,先选择列再选择行 ,写的顺序也是先列后行"
   ]
  },
  {
   "cell_type": "code",
   "execution_count": 60,
   "metadata": {},
   "outputs": [
    {
     "name": "stdout",
     "output_type": "stream",
     "text": [
      "               a          b          c          d\n",
      "one    69.071834  41.614739  45.015699  49.719703\n",
      "two    67.728924  88.761731  22.468932  50.512609\n",
      "three  30.317909  51.850919  90.386782  81.696522\n",
      "one      69.071834\n",
      "two      67.728924\n",
      "three    30.317909\n",
      "Name: a, dtype: float64 <class 'pandas.core.series.Series'>\n",
      "               a          c\n",
      "one    69.071834  45.015699\n",
      "two    67.728924  22.468932\n",
      "three  30.317909  90.386782 <class 'pandas.core.frame.DataFrame'>\n",
      "-----\n",
      "a    69.071834\n",
      "b    41.614739\n",
      "c    45.015699\n",
      "d    49.719703\n",
      "Name: one, dtype: float64 <class 'pandas.core.frame.DataFrame'>\n"
     ]
    }
   ],
   "source": [
    "# 选择行与列\n",
    "\n",
    "df = pd.DataFrame(np.random.rand(12).reshape(3,4)*100,\n",
    "                   index = ['one','two','three'],\n",
    "                   columns = ['a','b','c','d'])\n",
    "print(df)\n",
    "\n",
    "data1 = df['a']\n",
    "data2 = df[['a','c']]\n",
    "print(data1,type(data1))\n",
    "print(data2,type(data2))\n",
    "print('-----')\n",
    "# 按照列名选择列，只选择一列输出Series，选择多列输出Dataframe\n",
    "\n",
    "data3 = df.loc['one']\n",
    "data4 = df.loc[['one','two']]\n",
    " \n",
    "print(data3,type(data4))\n",
    "# 按照index选择行，只选择一行输出Series，选择多行输出Dataframe"
   ]
  },
  {
   "cell_type": "code",
   "execution_count": 61,
   "metadata": {},
   "outputs": [
    {
     "name": "stdout",
     "output_type": "stream",
     "text": [
      "               a          b          c          d\n",
      "one     4.705285  61.690690  31.005674  17.696729\n",
      "two     1.704362   9.936759  78.195875  33.075001\n",
      "three  60.826061  47.969847  21.705432  50.205917\n",
      "-----\n",
      "one       4.705285\n",
      "two       1.704362\n",
      "three    60.826061\n",
      "Name: a, dtype: float64\n",
      "               b          c\n",
      "one    61.690690  31.005674\n",
      "two     9.936759  78.195875\n",
      "three  47.969847  21.705432\n",
      "            a         b          c          d\n",
      "one  4.705285  61.69069  31.005674  17.696729 <class 'pandas.core.frame.DataFrame'>\n"
     ]
    }
   ],
   "source": [
    "# df[] - 选择列\n",
    "# 一般用于选择列，也可以选择行\n",
    "\n",
    "df = pd.DataFrame(np.random.rand(12).reshape(3,4)*100,\n",
    "                   index = ['one','two','three'],\n",
    "                   columns = ['a','b','c','d'])\n",
    "print(df)\n",
    "print('-----')\n",
    "\n",
    "data1 = df['a']\n",
    "data2 = df[['b','c']]  # 尝试输入 data2 = df[['b','c','e']]\n",
    "print(data1)\n",
    "print(data2)\n",
    "# df[]默认选择列，[]中写列名（所以一般数据colunms都会单独制定，不会用默认数字列名，以免和index冲突）\n",
    "# 单选列为Series，print结果为Series格式\n",
    "# 多选列为Dataframe，print结果为Dataframe格式\n",
    "\n",
    "data3 = df[:1]\n",
    "#data3 = df[0]\n",
    "#data3 = df['one']\n",
    "print(data3,type(data3))\n",
    "# df[]中为数字时，默认选择行，且只能进行切片的选择，不能单独选择（df[0]）\n",
    "# 输出结果为Dataframe，即便只选择一行\n",
    "# df[]不能通过索引标签名来选择行(df['one'])\n",
    "\n",
    "# 核心笔记：df[col]一般用于选择列，[]中写列名"
   ]
  },
  {
   "cell_type": "code",
   "execution_count": 68,
   "metadata": {},
   "outputs": [
    {
     "name": "stdout",
     "output_type": "stream",
     "text": [
      "               a          b          c          d\n",
      "one    61.267396  10.529937   7.906734  42.442430\n",
      "two    69.964014  58.094703   8.424717  71.585530\n",
      "three  52.616516  37.473122  28.539249  57.287641\n",
      "four   82.395535  36.865054  25.722721  92.658660\n",
      "           a          b          c          d\n",
      "0  56.508845  20.791358  89.900211  62.435207\n",
      "1  61.071161  80.231192   7.675678  89.609934\n",
      "2  64.846437  68.530433  10.467451  65.400592\n",
      "3  11.358075  36.555088   3.546311  53.963895\n",
      "-----\n",
      "a    61.267396\n",
      "b    10.529937\n",
      "c     7.906734\n",
      "d    42.442430\n",
      "Name: one, dtype: float64\n",
      "a    61.071161\n",
      "b    80.231192\n",
      "c     7.675678\n",
      "d    89.609934\n",
      "Name: 1, dtype: float64\n",
      "单标签索引\n",
      "-----\n",
      "               a          b          c          d\n",
      "two    69.964014  58.094703   8.424717  71.585530\n",
      "three  52.616516  37.473122  28.539249  57.287641\n",
      "five         NaN        NaN        NaN        NaN\n",
      "           a          b          c          d\n",
      "3  11.358075  36.555088   3.546311  53.963895\n",
      "2  64.846437  68.530433  10.467451  65.400592\n",
      "1  61.071161  80.231192   7.675678  89.609934\n",
      "多标签索引\n",
      "-----\n",
      "               a          b          c          d\n",
      "one    61.267396  10.529937   7.906734  42.442430\n",
      "two    69.964014  58.094703   8.424717  71.585530\n",
      "three  52.616516  37.473122  28.539249  57.287641\n",
      "           a          b          c          d\n",
      "1  61.071161  80.231192   7.675678  89.609934\n",
      "2  64.846437  68.530433  10.467451  65.400592\n",
      "3  11.358075  36.555088   3.546311  53.963895\n",
      "切片索引\n"
     ]
    },
    {
     "name": "stderr",
     "output_type": "stream",
     "text": [
      "D:\\ANA\\lib\\site-packages\\ipykernel_launcher.py:20: FutureWarning: \n",
      "Passing list-likes to .loc or [] with any missing label will raise\n",
      "KeyError in the future, you can use .reindex() as an alternative.\n",
      "\n",
      "See the documentation here:\n",
      "https://pandas.pydata.org/pandas-docs/stable/indexing.html#deprecate-loc-reindex-listlike\n"
     ]
    }
   ],
   "source": [
    "# df.loc[] - 按index选择行\n",
    "\n",
    "df1 = pd.DataFrame(np.random.rand(16).reshape(4,4)*100,\n",
    "                   index = ['one','two','three','four'],\n",
    "                   columns = ['a','b','c','d'])\n",
    "df2 = pd.DataFrame(np.random.rand(16).reshape(4,4)*100,\n",
    "                   columns = ['a','b','c','d'])\n",
    "print(df1)\n",
    "print(df2)\n",
    "print('-----')\n",
    "\n",
    "data1 = df1.loc['one']\n",
    "data2 = df2.loc[1]\n",
    " \n",
    "print(data1)\n",
    "print(data2)\n",
    "print('单标签索引\\n-----')\n",
    "# 单个标签索引，返回Series\n",
    "\n",
    "data3 = df1.loc[['two','three','five']]\n",
    "data4 = df2.loc[[3,2,1]]\n",
    "print(data3)\n",
    "print(data4)\n",
    "print('多标签索引\\n-----')\n",
    "# 多个标签索引，如果标签不存在，则返回NaN\n",
    "# 顺序可变\n",
    "\n",
    "data5 = df1.loc['one':'three']\n",
    "data6 = df2.loc[1:3]\n",
    "print(data5)\n",
    "print(data6)\n",
    "print('切片索引')\n",
    "# 可以做切片对象\n",
    "# 末端包含\n",
    "\n",
    "# 核心笔记：df.loc[label]主要针对index选择行，同时支持指定index，及默认数字index"
   ]
  },
  {
   "cell_type": "code",
   "execution_count": 71,
   "metadata": {},
   "outputs": [
    {
     "name": "stdout",
     "output_type": "stream",
     "text": [
      "               a          b          c          d\n",
      "one    29.374659   6.459866  42.596044  62.127140\n",
      "two    97.941234  55.123078  26.832678  72.785103\n",
      "three  10.416397  20.379897  94.827060  50.731544\n",
      "four   70.271645  17.940315  27.546324   9.029726\n",
      "------\n",
      "a    29.374659\n",
      "b     6.459866\n",
      "c    42.596044\n",
      "d    62.127140\n",
      "Name: one, dtype: float64\n",
      "a    70.271645\n",
      "b    17.940315\n",
      "c    27.546324\n",
      "d     9.029726\n",
      "Name: four, dtype: float64\n",
      "单位置索引\n",
      "-----\n",
      "               a          b          c          d\n",
      "one    29.374659   6.459866  42.596044  62.127140\n",
      "three  10.416397  20.379897  94.827060  50.731544\n",
      "               a          b          c          d\n",
      "four   70.271645  17.940315  27.546324   9.029726\n",
      "three  10.416397  20.379897  94.827060  50.731544\n",
      "two    97.941234  55.123078  26.832678  72.785103\n",
      "多位置索引\n",
      "-----\n",
      "               a          b          c          d\n",
      "two    97.941234  55.123078  26.832678  72.785103\n",
      "three  10.416397  20.379897  94.827060  50.731544\n",
      "               a          b          c          d\n",
      "one    29.374659   6.459866  42.596044  62.127140\n",
      "three  10.416397  20.379897  94.827060  50.731544\n",
      "切片索引\n"
     ]
    }
   ],
   "source": [
    "# df.iloc[] - 按照整数位置（从轴的0到length-1）选择行\n",
    "# 类似list的索引，其顺序就是dataframe的整数位置，从0开始计\n",
    "\n",
    "df = pd.DataFrame(np.random.rand(16).reshape(4,4)*100,\n",
    "                   index = ['one','two','three','four'],\n",
    "                   columns = ['a','b','c','d'])\n",
    "print(df)\n",
    "print('------')\n",
    "\n",
    "print(df.iloc[0])\n",
    "print(df.iloc[-1])\n",
    "#print(df.iloc[['one','two','five']])#会报错\n",
    "print('单位置索引\\n-----')\n",
    "# 单位置索引\n",
    "# 和loc索引不同，不能索引超出数据行数的整数位置\n",
    "\n",
    "print(df.iloc[[0,2]])\n",
    "print(df.iloc[[3,2,1]])\n",
    "print('多位置索引\\n-----')\n",
    "# 多位置索引\n",
    "# 顺序可变\n",
    "\n",
    "print(df.iloc[1:3])\n",
    "print(df.iloc[::2])\n",
    "print('切片索引')\n",
    "# 切片索引\n",
    "# 末端不包含"
   ]
  },
  {
   "cell_type": "code",
   "execution_count": 64,
   "metadata": {},
   "outputs": [
    {
     "name": "stdout",
     "output_type": "stream",
     "text": [
      "               a          b          c          d\n",
      "one    52.266039  29.935850  72.976165  90.012140\n",
      "two    78.865035  43.292091  55.959992  17.596644\n",
      "three  68.903904  23.508627   3.609586   0.108185\n",
      "four   47.890352  95.789244  92.467488  33.313346\n",
      "------\n",
      "           a      b      c      d\n",
      "one    False  False  False  False\n",
      "two    False  False  False   True\n",
      "three  False  False   True   True\n",
      "four   False  False  False  False <class 'pandas.core.frame.DataFrame'>\n",
      "        a   b         c          d\n",
      "one   NaN NaN       NaN        NaN\n",
      "two   NaN NaN       NaN  17.596644\n",
      "three NaN NaN  3.609586   0.108185\n",
      "four  NaN NaN       NaN        NaN\n",
      "------\n",
      "one       True\n",
      "two       True\n",
      "three     True\n",
      "four     False\n",
      "Name: a, dtype: bool <class 'pandas.core.series.Series'>\n",
      "               a          b          c          d\n",
      "one    52.266039  29.935850  72.976165  90.012140\n",
      "two    78.865035  43.292091  55.959992  17.596644\n",
      "three  68.903904  23.508627   3.609586   0.108185\n",
      "------\n",
      "           a      b\n",
      "one     True  False\n",
      "two     True  False\n",
      "three   True  False\n",
      "four   False   True <class 'pandas.core.frame.DataFrame'>\n",
      "               a          b   c   d\n",
      "one    52.266039        NaN NaN NaN\n",
      "two    78.865035        NaN NaN NaN\n",
      "three  68.903904        NaN NaN NaN\n",
      "four         NaN  95.789244 NaN NaN\n",
      "------\n",
      "           a     b      c      d\n",
      "one    False  True  False  False\n",
      "three  False  True   True   True <class 'pandas.core.frame.DataFrame'>\n",
      "        a          b         c         d\n",
      "one   NaN  29.935850       NaN       NaN\n",
      "two   NaN        NaN       NaN       NaN\n",
      "three NaN  23.508627  3.609586  0.108185\n",
      "four  NaN        NaN       NaN       NaN\n",
      "------\n"
     ]
    }
   ],
   "source": [
    "# 布尔型索引\n",
    "# 和Series原理相同\n",
    "\n",
    "df = pd.DataFrame(np.random.rand(16).reshape(4,4)*100,\n",
    "                   index = ['one','two','three','four'],\n",
    "                   columns = ['a','b','c','d'])\n",
    "print(df)\n",
    "print('------')\n",
    "\n",
    "b1 = df < 20\n",
    "print(b1,type(b1))\n",
    "print(df[b1])  # 也可以书写为 df[df < 20]\n",
    "print('------')\n",
    "# 不做索引则会对数据每个值进行判断\n",
    "# 索引结果保留 所有数据：True返回原数据，False返回值为NaN\n",
    "\n",
    "b2 = df['a'] > 50\n",
    "print(b2,type(b2))\n",
    "print(df[b2])  # 也可以书写为 df[df['a'] > 50]\n",
    "print('------')\n",
    "# 单列做判断\n",
    "# 索引结果保留 单列判断为True的行数据，包括其他列\n",
    "\n",
    "b3 = df[['a','b']] > 50\n",
    "print(b3,type(b3))\n",
    "print(df[b3])  # 也可以书写为 df[df[['a','b']] > 50]\n",
    "print('------')\n",
    "# 多列做判断\n",
    "# 索引结果保留 所有数据：True返回原数据，False返回值为NaN\n",
    "\n",
    "b4 = df.loc[['one','three']] < 50\n",
    "print(b4,type(b4))\n",
    "print(df[b4])  # 也可以书写为 df[df.loc[['one','three']] < 50]\n",
    "print('------')\n",
    "# 多行做判断\n",
    "# 索引结果保留 所有数据：True返回原数据，False返回值为NaN"
   ]
  },
  {
   "cell_type": "code",
   "execution_count": 65,
   "metadata": {},
   "outputs": [
    {
     "name": "stdout",
     "output_type": "stream",
     "text": [
      "               a          b          c          d\n",
      "one    88.036973  88.319328  37.754358  96.139051\n",
      "two    61.524351  63.125442  22.474122  64.680912\n",
      "three  38.454111  51.258737  52.355176  85.056166\n",
      "four   97.235493  93.514354   8.894871  18.709153\n",
      "------\n",
      "one      88.036973\n",
      "three    38.454111\n",
      "Name: a, dtype: float64\n",
      "               b          c          d\n",
      "one    88.319328  37.754358  96.139051\n",
      "three  51.258737  52.355176  85.056166\n",
      "               a          b          c          d\n",
      "three  38.454111  51.258737  52.355176  85.056166\n"
     ]
    }
   ],
   "source": [
    "# 多重索引：比如同时索引行和列\n",
    "# 先选择列再选择行 —— 相当于对于一个数据，先筛选字段，再选择数据量\n",
    "\n",
    "df = pd.DataFrame(np.random.rand(16).reshape(4,4)*100,\n",
    "                   index = ['one','two','three','four'],\n",
    "                   columns = ['a','b','c','d'])\n",
    "print(df)\n",
    "print('------')\n",
    "\n",
    "print(df['a'].loc[['one','three']])   # 选择a列的one，three行\n",
    "print(df[['b','c','d']].iloc[::2])   # 选择b，c，d列的one，three行\n",
    "print(df[df['a'] < 50].iloc[:2])   # 选择满足判断索引的前两行数据"
   ]
  },
  {
   "cell_type": "code",
   "execution_count": null,
   "metadata": {
    "collapsed": true
   },
   "outputs": [],
   "source": [
    "'''\n",
    "【课程2.7】  Pandas数据结构Dataframe：基本技巧\n",
    "\n",
    "数据查看、转置 / 添加、修改、删除值 / 对齐 / 排序\n",
    "\n",
    "'''"
   ]
  },
  {
   "cell_type": "markdown",
   "metadata": {},
   "source": [
    "## del():删除列,drop():删除行 ,也可以删除列,不过要加axis=1,按值排序,sort_values,适用于series,sort_index,按索引排序"
   ]
  },
  {
   "cell_type": "code",
   "execution_count": 28,
   "metadata": {},
   "outputs": [
    {
     "name": "stdout",
     "output_type": "stream",
     "text": [
      "           a          b\n",
      "0   5.777208  18.374283\n",
      "1  85.961515  55.120036\n",
      "           a          b\n",
      "3  21.236577  15.902872\n",
      "4  46.137564  29.350647\n",
      "5  70.157709  58.972728\n",
      "6   8.368292  42.011356\n",
      "7  29.824574  87.062295\n",
      "           0          1          2          3          4          5  \\\n",
      "a   5.777208  85.961515  11.005284  21.236577  46.137564  70.157709   \n",
      "b  18.374283  55.120036  35.595598  15.902872  29.350647  58.972728   \n",
      "\n",
      "           6          7  \n",
      "a   8.368292  29.824574  \n",
      "b  42.011356  87.062295  \n"
     ]
    }
   ],
   "source": [
    "# 数据查看、转置\n",
    "\n",
    "df = pd.DataFrame(np.random.rand(16).reshape(8,2)*100,\n",
    "                   columns = ['a','b'])\n",
    "print(df.head(2))\n",
    "print(df.tail())\n",
    "# .head()查看头部数据\n",
    "# .tail()查看尾部数据\n",
    "# 默认查看5条\n",
    "\n",
    "print(df.T)\n",
    "# .T 转置"
   ]
  },
  {
   "cell_type": "code",
   "execution_count": 29,
   "metadata": {},
   "outputs": [
    {
     "name": "stdout",
     "output_type": "stream",
     "text": [
      "           a          b          c          d\n",
      "0  17.148791  73.833921  39.069417   5.675815\n",
      "1  91.572695  66.851601  60.320698  92.071097\n",
      "2  79.377105  24.314520  44.406357  57.313429\n",
      "3  84.599206  61.310945   3.916679  30.076458\n",
      "           a          b          c          d   e\n",
      "0  17.148791  73.833921  39.069417   5.675815  10\n",
      "1  91.572695  66.851601  60.320698  92.071097  10\n",
      "2  79.377105  24.314520  44.406357  57.313429  10\n",
      "3  84.599206  61.310945   3.916679  30.076458  10\n",
      "4  20.000000  20.000000  20.000000  20.000000  20\n",
      "     a          b    c          d   e\n",
      "0  100  73.833921  100   5.675815  20\n",
      "1  100  66.851601  100  92.071097  20\n",
      "2  100  24.314520  100  57.313429  20\n",
      "3  100  61.310945  100  30.076458  20\n",
      "4  100  20.000000  100  20.000000  20\n"
     ]
    }
   ],
   "source": [
    "# 添加与修改\n",
    "\n",
    "df = pd.DataFrame(np.random.rand(16).reshape(4,4)*100,\n",
    "                   columns = ['a','b','c','d'])\n",
    "print(df)\n",
    "\n",
    "df['e'] = 10\n",
    "df.loc[4] = 20\n",
    "print(df)\n",
    "# 新增列/行并赋值\n",
    "\n",
    "df['e'] = 20\n",
    "df[['a','c']] = 100\n",
    "print(df)\n",
    "# 索引后直接修改值"
   ]
  },
  {
   "cell_type": "code",
   "execution_count": 30,
   "metadata": {},
   "outputs": [
    {
     "name": "stdout",
     "output_type": "stream",
     "text": [
      "           a          b          c          d\n",
      "0  91.866806  88.753655  18.469852  71.651277\n",
      "1  64.835568  33.844967   6.391246  54.916094\n",
      "2  75.930985  19.169862  91.042457  43.648258\n",
      "3  15.863853  24.788866  10.625684  82.135316\n",
      "           b          c          d\n",
      "0  88.753655  18.469852  71.651277\n",
      "1  33.844967   6.391246  54.916094\n",
      "2  19.169862  91.042457  43.648258\n",
      "3  24.788866  10.625684  82.135316\n",
      "-----\n",
      "           b          c          d\n",
      "1  33.844967   6.391246  54.916094\n",
      "2  19.169862  91.042457  43.648258\n",
      "3  24.788866  10.625684  82.135316\n",
      "           b          c          d\n",
      "0  88.753655  18.469852  71.651277\n",
      "3  24.788866  10.625684  82.135316\n",
      "           b          c          d\n",
      "0  88.753655  18.469852  71.651277\n",
      "1  33.844967   6.391246  54.916094\n",
      "2  19.169862  91.042457  43.648258\n",
      "3  24.788866  10.625684  82.135316\n",
      "-----\n",
      "           b          c\n",
      "0  88.753655  18.469852\n",
      "1  33.844967   6.391246\n",
      "2  19.169862  91.042457\n",
      "3  24.788866  10.625684\n",
      "           b          c          d\n",
      "0  88.753655  18.469852  71.651277\n",
      "1  33.844967   6.391246  54.916094\n",
      "2  19.169862  91.042457  43.648258\n",
      "3  24.788866  10.625684  82.135316\n"
     ]
    }
   ],
   "source": [
    "# 删除  del / drop()\n",
    "\n",
    "df = pd.DataFrame(np.random.rand(16).reshape(4,4)*100,\n",
    "                   columns = ['a','b','c','d'])\n",
    "print(df)\n",
    "\n",
    "del df['a']\n",
    "print(df)\n",
    "print('-----')\n",
    "# del语句 - 删除列\n",
    "\n",
    "print(df.drop(0))\n",
    "print(df.drop([1,2]))\n",
    "print(df)\n",
    "print('-----')\n",
    "# drop()删除行，inplace=False → 删除后生成新的数据，不改变原数据\n",
    "\n",
    "print(df.drop(['d'], axis = 1))\n",
    "print(df)\n",
    "# drop()删除列，需要加上axis = 1，inplace=False → 删除后生成新的数据，不改变原数据"
   ]
  },
  {
   "cell_type": "code",
   "execution_count": 31,
   "metadata": {},
   "outputs": [
    {
     "name": "stdout",
     "output_type": "stream",
     "text": [
      "          A         B         C   D\n",
      "0 -0.281123 -2.529461  1.325663 NaN\n",
      "1 -0.310514 -0.408225 -0.760986 NaN\n",
      "2 -0.172169 -2.355042  1.521342 NaN\n",
      "3  1.113505  0.325933  3.689586 NaN\n",
      "4  0.107513 -0.503907 -1.010349 NaN\n",
      "5 -0.845676 -2.410537 -1.406071 NaN\n",
      "6  1.682854 -0.576620 -0.981622 NaN\n",
      "7       NaN       NaN       NaN NaN\n",
      "8       NaN       NaN       NaN NaN\n",
      "9       NaN       NaN       NaN NaN\n"
     ]
    }
   ],
   "source": [
    "# 对齐\n",
    "\n",
    "df1 = pd.DataFrame(np.random.randn(10, 4), columns=['A', 'B', 'C', 'D'])\n",
    "df2 = pd.DataFrame(np.random.randn(7, 3), columns=['A', 'B', 'C'])\n",
    "print(df1 + df2)\n",
    "# DataFrame对象之间的数据自动按照列和索引（行标签）对齐"
   ]
  },
  {
   "cell_type": "code",
   "execution_count": 72,
   "metadata": {},
   "outputs": [
    {
     "name": "stdout",
     "output_type": "stream",
     "text": [
      "           a          b          c          d\n",
      "0   4.682022  41.870747  55.556818  26.015880\n",
      "1  44.954221  94.385124  79.688267  21.210340\n",
      "2  37.992016  27.974444  27.602192  32.670169\n",
      "3  91.441140  90.115202  80.077002  31.341469\n",
      "           a          b          c          d\n",
      "0   4.682022  41.870747  55.556818  26.015880\n",
      "2  37.992016  27.974444  27.602192  32.670169\n",
      "1  44.954221  94.385124  79.688267  21.210340\n",
      "3  91.441140  90.115202  80.077002  31.341469\n",
      "           a          b          c          d\n",
      "3  91.441140  90.115202  80.077002  31.341469\n",
      "1  44.954221  94.385124  79.688267  21.210340\n",
      "2  37.992016  27.974444  27.602192  32.670169\n",
      "0   4.682022  41.870747  55.556818  26.015880\n",
      "------\n",
      "   a  b  c\n",
      "0  1  0  8\n",
      "1  1  1  7\n",
      "2  1  2  6\n",
      "3  1  3  5\n",
      "4  2  4  4\n",
      "5  2  5  3\n",
      "6  2  6  2\n",
      "7  2  7  1\n",
      "   a  b  c\n",
      "3  1  3  5\n",
      "2  1  2  6\n",
      "1  1  1  7\n",
      "0  1  0  8\n",
      "7  2  7  1\n",
      "6  2  6  2\n",
      "5  2  5  3\n",
      "4  2  4  4\n"
     ]
    }
   ],
   "source": [
    "# 排序1 - 按值排序 .sort_values\n",
    "# 同样适用于Series\n",
    "\n",
    "df1 = pd.DataFrame(np.random.rand(16).reshape(4,4)*100,\n",
    "                   columns = ['a','b','c','d'])\n",
    "print(df1)\n",
    "print(df1.sort_values(['a'], ascending = True))  # 升序\n",
    "print(df1.sort_values(['a'], ascending = False))  # 降序\n",
    "print('------')\n",
    "# ascending参数：设置升序降序，默认升序\n",
    "# 单列排序\n",
    "\n",
    "df2 = pd.DataFrame({'a':[1,1,1,1,2,2,2,2],\n",
    "                  'b':list(range(8)),\n",
    "                  'c':list(range(8,0,-1))})\n",
    "print(df2)\n",
    "print(df2.sort_values(['a','c']))\n",
    "# 多列排序，按列顺序排序"
   ]
  },
  {
   "cell_type": "code",
   "execution_count": 33,
   "metadata": {},
   "outputs": [
    {
     "name": "stdout",
     "output_type": "stream",
     "text": [
      "           a          b          c          d\n",
      "5  57.327269  87.623119  93.655538   5.859571\n",
      "4  69.739134  80.084366  89.005538  56.825475\n",
      "3  88.148296   6.211556  68.938504  41.542563\n",
      "2  29.248036  72.005306  57.855365  45.931715\n",
      "           a          b          c          d\n",
      "2  29.248036  72.005306  57.855365  45.931715\n",
      "3  88.148296   6.211556  68.938504  41.542563\n",
      "4  69.739134  80.084366  89.005538  56.825475\n",
      "5  57.327269  87.623119  93.655538   5.859571\n",
      "           a          b          c          d\n",
      "h  50.579469  80.239138  24.085110  39.443600\n",
      "s  30.906725  39.175302  11.161542  81.010205\n",
      "x  19.900056  18.421110   4.995141  12.605395\n",
      "g  67.760755  72.573568  33.507090  69.854906\n",
      "           a          b          c          d\n",
      "g  67.760755  72.573568  33.507090  69.854906\n",
      "h  50.579469  80.239138  24.085110  39.443600\n",
      "s  30.906725  39.175302  11.161542  81.010205\n",
      "x  19.900056  18.421110   4.995141  12.605395\n"
     ]
    }
   ],
   "source": [
    "# 排序2 - 索引排序 .sort_index\n",
    "\n",
    "df1 = pd.DataFrame(np.random.rand(16).reshape(4,4)*100,\n",
    "                  index = [5,4,3,2],\n",
    "                   columns = ['a','b','c','d'])\n",
    "df2 = pd.DataFrame(np.random.rand(16).reshape(4,4)*100,\n",
    "                  index = ['h','s','x','g'],\n",
    "                   columns = ['a','b','c','d'])\n",
    "print(df1)\n",
    "print(df1.sort_index())\n",
    "print(df2)\n",
    "print(df2.sort_index())\n",
    "# 按照index排序\n",
    "# 默认 ascending=True, inplace=False"
   ]
  }
 ],
 "metadata": {
  "anaconda-cloud": {},
  "kernelspec": {
   "display_name": "Python 3",
   "language": "python",
   "name": "python3"
  },
  "language_info": {
   "codemirror_mode": {
    "name": "ipython",
    "version": 3
   },
   "file_extension": ".py",
   "mimetype": "text/x-python",
   "name": "python",
   "nbconvert_exporter": "python",
   "pygments_lexer": "ipython3",
   "version": "3.6.5"
  }
 },
 "nbformat": 4,
 "nbformat_minor": 1
}
