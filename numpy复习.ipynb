{
 "cells": [
  {
   "cell_type": "code",
   "execution_count": 2,
   "metadata": {},
   "outputs": [
    {
     "name": "stdout",
     "output_type": "stream",
     "text": [
      "[89.   56.34 76.   89.   98.  ]\n",
      "float64\n"
     ]
    }
   ],
   "source": [
    "import numpy as np # I am importing numpy as np\n",
    "\n",
    "scores = [89,56.34, 76,89, 98]\n",
    "first_arr =np.array(scores)\n",
    "print (first_arr)\n",
    "print (first_arr.dtype)"
   ]
  },
  {
   "cell_type": "code",
   "execution_count": 9,
   "metadata": {},
   "outputs": [
    {
     "name": "stdout",
     "output_type": "stream",
     "text": [
      "[[ 42  64 745  23]\n",
      " [ 53  73  23  87]]\n",
      "(2, 4)\n",
      "2\n",
      "int32\n",
      "4\n"
     ]
    }
   ],
   "source": [
    "score1 = [[42,64,745,23],[53,73,23,87]]\n",
    "arr = np.array(score1)\n",
    "print(arr)\n",
    "print(arr.shape)\n",
    "print(arr.ndim)\n",
    "print(arr.dtype)\n",
    "print(arr.itemsize)"
   ]
  },
  {
   "cell_type": "code",
   "execution_count": 12,
   "metadata": {},
   "outputs": [
    {
     "data": {
      "text/plain": [
       "array([0., 0., 0., 0., 0., 0., 0., 0., 0., 0.])"
      ]
     },
     "execution_count": 12,
     "metadata": {},
     "output_type": "execute_result"
    }
   ],
   "source": [
    "x = np.zeros(10)\n",
    "x"
   ]
  },
  {
   "cell_type": "code",
   "execution_count": 18,
   "metadata": {},
   "outputs": [
    {
     "data": {
      "text/plain": [
       "array([[0., 0., 0.],\n",
       "       [0., 0., 0.],\n",
       "       [0., 0., 0.],\n",
       "       [0., 0., 0.]])"
      ]
     },
     "execution_count": 18,
     "metadata": {},
     "output_type": "execute_result"
    }
   ],
   "source": [
    "np.zeros((4,3))\n",
    " "
   ]
  },
  {
   "cell_type": "code",
   "execution_count": 19,
   "metadata": {},
   "outputs": [
    {
     "data": {
      "text/plain": [
       "array([[0, 0, 0, 0],\n",
       "       [0, 0, 0, 0]])"
      ]
     },
     "execution_count": 19,
     "metadata": {},
     "output_type": "execute_result"
    }
   ],
   "source": [
    "x = np.zeros_like(arr)\n",
    "x"
   ]
  },
  {
   "cell_type": "code",
   "execution_count": 14,
   "metadata": {},
   "outputs": [
    {
     "data": {
      "text/plain": [
       "array([0, 1, 2, 3, 4, 5, 6, 7, 8, 9])"
      ]
     },
     "execution_count": 14,
     "metadata": {},
     "output_type": "execute_result"
    }
   ],
   "source": [
    "np.arange(10)"
   ]
  },
  {
   "cell_type": "code",
   "execution_count": 16,
   "metadata": {},
   "outputs": [
    {
     "data": {
      "text/plain": [
       "array([[1., 0., 0., 0.],\n",
       "       [0., 1., 0., 0.],\n",
       "       [0., 0., 1., 0.],\n",
       "       [0., 0., 0., 1.]])"
      ]
     },
     "execution_count": 16,
     "metadata": {},
     "output_type": "execute_result"
    }
   ],
   "source": [
    "np.eye(4)"
   ]
  },
  {
   "cell_type": "code",
   "execution_count": 21,
   "metadata": {},
   "outputs": [
    {
     "name": "stdout",
     "output_type": "stream",
     "text": [
      "[89.   56.34 76.   89.   98.  ]\n",
      "[7921.     3174.1956 5776.     7921.     9604.    ]\n",
      "[0. 0. 0. 0. 0.]\n",
      "[0.01123596 0.01774938 0.01315789 0.01123596 0.01020408]\n",
      "[9.43398113 7.5059976  8.71779789 9.43398113 9.89949494]\n"
     ]
    }
   ],
   "source": [
    "scores = [89,56.34, 76,89, 98]\n",
    "first_arr =np.array(scores)\n",
    "print (first_arr)\n",
    "print (first_arr * first_arr)\n",
    "print (first_arr - first_arr)\n",
    "print (1/(first_arr))\n",
    "print (first_arr ** 0.5)"
   ]
  },
  {
   "cell_type": "code",
   "execution_count": 22,
   "metadata": {},
   "outputs": [
    {
     "name": "stdout",
     "output_type": "stream",
     "text": [
      "[2 3 4]\n"
     ]
    }
   ],
   "source": [
    "arr = np.arange(12)\n",
    "print(arr[2:5])"
   ]
  },
  {
   "cell_type": "code",
   "execution_count": 31,
   "metadata": {},
   "outputs": [
    {
     "name": "stdout",
     "output_type": "stream",
     "text": [
      "[3 7 5 8]\n",
      "8\n",
      "8\n"
     ]
    },
    {
     "data": {
      "image/png": "[encoded data removed]",
      "text/plain": [
       "<IPython.core.display.Image object>"
      ]
     },
     "execution_count": 31,
     "metadata": {},
     "output_type": "execute_result"
    }
   ],
   "source": [
    "ar1 = np.array([[4,1,5,1],[5,26,2,6],[3,7,5,8]])\n",
    "print(ar1[2])\n",
    "print(ar1[2][3])\n",
    "print(ar1[2,3])\n",
    "ar2 = ar1[:]\n",
    "ar2\n",
    "import os\n",
    "os.chdir('C:/Users/SWX/Desktop/')\n",
    "from IPython.display import Image\n",
    "i = Image(filename='1.png')\n",
    "i # Blue print of a matrix "
   ]
  },
  {
   "cell_type": "code",
   "execution_count": 41,
   "metadata": {},
   "outputs": [
    {
     "name": "stdout",
     "output_type": "stream",
     "text": [
      "[[[ 1  2  3]\n",
      "  [ 4  5  6]]\n",
      "\n",
      " [[ 7  8  9]\n",
      "  [10 11 12]]]\n",
      "returns the second list inside first list[4 5 6]\n",
      "returns the second list inside second list[10 11 12]\n",
      "returns the second list\n",
      "[[ 7  8  9]\n",
      " [10 11 12]] \n",
      "returns the second list\n",
      "11 \n"
     ]
    }
   ],
   "source": [
    "three_d_arr = np.array([[[1,2,3],[4,5,6]],[[7,8,9],[10,11,12]]])\n",
    "print(three_d_arr)\n",
    "print('returns the second list inside first list{}'.format(three_d_arr[0,1]))\n",
    "print('returns the second list inside second list{}'.format(three_d_arr[1,1]))\n",
    "print('returns the second list\\n{} '.format(three_d_arr[1]))\n",
    "print('returns the second list\\n{} '.format(three_d_arr[1,1,1]))"
   ]
  },
  {
   "cell_type": "code",
   "execution_count": 42,
   "metadata": {},
   "outputs": [
    {
     "name": "stdout",
     "output_type": "stream",
     "text": [
      "[ True False False  True False False False]\n"
     ]
    }
   ],
   "source": [
    "personals = np.array(['Manu', 'Jeevan', 'Prakash', 'Manu', 'Prakash', 'Jeevan', 'Prakash'])\n",
    "print (personals == 'Manu')#逻辑表达式"
   ]
  },
  {
   "cell_type": "code",
   "execution_count": 44,
   "metadata": {
    "scrolled": true
   },
   "outputs": [
    {
     "name": "stdout",
     "output_type": "stream",
     "text": [
      "[[ 0.91233425  0.15035233 -1.36526509 -1.4118602 ]\n",
      " [ 0.80293414  0.5059814  -1.57157795 -0.27767928]\n",
      " [-0.23314875  1.20605687 -0.59280482  1.57967224]\n",
      " [-1.28299124  0.38032192  0.26736238 -0.61986449]\n",
      " [-1.02488591 -0.84682501 -1.8256872  -0.65987509]\n",
      " [ 0.27029704  0.18913212  0.06987146 -0.80723691]\n",
      " [ 0.33650527 -0.74573286  0.16702655 -0.51298011]]\n"
     ]
    },
    {
     "data": {
      "text/plain": [
       "array([[ 0.91233425,  0.15035233, -1.36526509, -1.4118602 ],\n",
       "       [-1.28299124,  0.38032192,  0.26736238, -0.61986449]])"
      ]
     },
     "execution_count": 44,
     "metadata": {},
     "output_type": "execute_result"
    }
   ],
   "source": [
    "from numpy import random \n",
    "random_no = random.randn(7,4)\n",
    "print (random_no)\n",
    "random_no[personals =='Manu']#"
   ]
  },
  {
   "cell_type": "code",
   "execution_count": 54,
   "metadata": {},
   "outputs": [
    {
     "name": "stdout",
     "output_type": "stream",
     "text": [
      "[False  True  True False  True  True  True]\n"
     ]
    },
    {
     "ename": "TypeError",
     "evalue": "The numpy boolean negative, the `-` operator, is not supported, use the `~` operator or the logical_not function instead.",
     "output_type": "error",
     "traceback": [
      "\u001b[1;31m---------------------------------------------------------------------------\u001b[0m",
      "\u001b[1;31mTypeError\u001b[0m                                 Traceback (most recent call last)",
      "\u001b[1;32m<ipython-input-54-e74bd252a9bd>\u001b[0m in \u001b[0;36m<module>\u001b[1;34m()\u001b[0m\n\u001b[0;32m      1\u001b[0m \u001b[0mprint\u001b[0m \u001b[1;33m(\u001b[0m\u001b[0mpersonals\u001b[0m \u001b[1;33m!=\u001b[0m \u001b[1;34m'Manu'\u001b[0m\u001b[1;33m)\u001b[0m\u001b[1;33m\u001b[0m\u001b[0m\n\u001b[1;32m----> 2\u001b[1;33m \u001b[0mrandom_no\u001b[0m\u001b[1;33m[\u001b[0m\u001b[1;33m-\u001b[0m\u001b[1;33m(\u001b[0m\u001b[0mpersonals\u001b[0m \u001b[1;33m==\u001b[0m \u001b[1;34m'Manu'\u001b[0m\u001b[1;33m)\u001b[0m\u001b[1;33m]\u001b[0m\u001b[1;33m\u001b[0m\u001b[0m\n\u001b[0m",
      "\u001b[1;31mTypeError\u001b[0m: The numpy boolean negative, the `-` operator, is not supported, use the `~` operator or the logical_not function instead."
     ]
    }
   ],
   "source": [
    "print (personals != 'Manu')\n",
    "random_no[-(personals == 'Manu')]"
   ]
  },
  {
   "cell_type": "code",
   "execution_count": 48,
   "metadata": {},
   "outputs": [
    {
     "name": "stdout",
     "output_type": "stream",
     "text": [
      "[[ 0.91233425  0.15035233 -1.36526509 -1.4118602 ]\n",
      " [-1.28299124  0.38032192  0.26736238 -0.61986449]]\n",
      "[[ 0.91233425 -1.4118602 ]\n",
      " [ 0.80293414 -0.27767928]\n",
      " [-0.23314875  1.57967224]\n",
      " [-1.28299124 -0.61986449]\n",
      " [-1.02488591 -0.65987509]\n",
      " [ 0.27029704 -0.80723691]\n",
      " [ 0.33650527 -0.51298011]]\n"
     ]
    }
   ],
   "source": [
    "a = np.array([True, False, False, True, False, False, False])\n",
    "print (random_no[a,:]) #第二,四行\n",
    "b = np.array([True, False, False, True])\n",
    "print(random_no[:,b])#第一,四列"
   ]
  },
  {
   "cell_type": "code",
   "execution_count": 55,
   "metadata": {},
   "outputs": [
    {
     "name": "stdout",
     "output_type": "stream",
     "text": [
      "[ True  True False  True False  True False]\n"
     ]
    },
    {
     "data": {
      "text/plain": [
       "array([[ 0.91233425,  0.15035233, -1.36526509, -1.4118602 ],\n",
       "       [ 0.80293414,  0.5059814 , -1.57157795, -0.27767928],\n",
       "       [-1.28299124,  0.38032192,  0.26736238, -0.61986449],\n",
       "       [ 0.27029704,  0.18913212,  0.06987146, -0.80723691]])"
      ]
     },
     "execution_count": 55,
     "metadata": {},
     "output_type": "execute_result"
    }
   ],
   "source": [
    "new_variable = (personals == 'Manu') | (personals == 'Jeevan')\n",
    "print (new_variable)\n",
    "random_no[new_variable] "
   ]
  },
  {
   "cell_type": "code",
   "execution_count": 56,
   "metadata": {},
   "outputs": [
    {
     "data": {
      "text/plain": [
       "array([[0.91233425, 0.15035233, 0.        , 0.        ],\n",
       "       [0.80293414, 0.5059814 , 0.        , 0.        ],\n",
       "       [0.        , 1.20605687, 0.        , 1.57967224],\n",
       "       [0.        , 0.38032192, 0.26736238, 0.        ],\n",
       "       [0.        , 0.        , 0.        , 0.        ],\n",
       "       [0.27029704, 0.18913212, 0.06987146, 0.        ],\n",
       "       [0.33650527, 0.        , 0.16702655, 0.        ]])"
      ]
     },
     "execution_count": 56,
     "metadata": {},
     "output_type": "execute_result"
    }
   ],
   "source": [
    "random_no[random_no < 0] =0 \n",
    "random_no "
   ]
  },
  {
   "cell_type": "code",
   "execution_count": 57,
   "metadata": {},
   "outputs": [
    {
     "data": {
      "text/plain": [
       "array([[0.91233425, 0.15035233, 0.        , 0.        ],\n",
       "       [9.        , 9.        , 9.        , 9.        ],\n",
       "       [9.        , 9.        , 9.        , 9.        ],\n",
       "       [0.        , 0.38032192, 0.26736238, 0.        ],\n",
       "       [9.        , 9.        , 9.        , 9.        ],\n",
       "       [9.        , 9.        , 9.        , 9.        ],\n",
       "       [9.        , 9.        , 9.        , 9.        ]])"
      ]
     },
     "execution_count": 57,
     "metadata": {},
     "output_type": "execute_result"
    }
   ],
   "source": [
    "random_no[ personals != 'Manu'] = 9 # This will set all rows except 1 and 4 to 9. \n",
    "random_no"
   ]
  },
  {
   "cell_type": "code",
   "execution_count": 58,
   "metadata": {},
   "outputs": [
    {
     "data": {
      "text/plain": [
       "array([[0., 0., 0., 0.],\n",
       "       [1., 1., 1., 1.],\n",
       "       [2., 2., 2., 2.],\n",
       "       [3., 3., 3., 3.],\n",
       "       [4., 4., 4., 4.],\n",
       "       [5., 5., 5., 5.],\n",
       "       [6., 6., 6., 6.]])"
      ]
     },
     "execution_count": 58,
     "metadata": {},
     "output_type": "execute_result"
    }
   ],
   "source": [
    "from numpy import random\n",
    "a = random.randn(7,4)\n",
    "for j in range(7):\n",
    "    a[j] = j\n",
    "a    "
   ]
  },
  {
   "cell_type": "code",
   "execution_count": 59,
   "metadata": {},
   "outputs": [
    {
     "data": {
      "text/plain": [
       "array([[4., 4., 4., 4.],\n",
       "       [5., 5., 5., 5.],\n",
       "       [1., 1., 1., 1.]])"
      ]
     },
     "execution_count": 59,
     "metadata": {},
     "output_type": "execute_result"
    }
   ],
   "source": [
    "a[[4,5,1]]"
   ]
  },
  {
   "cell_type": "markdown",
   "metadata": {},
   "source": [
    "# 注意这个用法"
   ]
  },
  {
   "cell_type": "code",
   "execution_count": 60,
   "metadata": {},
   "outputs": [
    {
     "name": "stdout",
     "output_type": "stream",
     "text": [
      "[[ 0  1  2  3]\n",
      " [ 4  5  6  7]\n",
      " [ 8  9 10 11]\n",
      " [12 13 14 15]\n",
      " [16 17 18 19]\n",
      " [20 21 22 23]\n",
      " [24 25 26 27]\n",
      " [28 29 30 31]\n",
      " [32 33 34 35]]\n"
     ]
    },
    {
     "data": {
      "text/plain": [
       "array([ 7, 18, 13,  8])"
      ]
     },
     "execution_count": 60,
     "metadata": {},
     "output_type": "execute_result"
    }
   ],
   "source": [
    "fancy = np.arange(36).reshape(9,4) #reshape is to reshape an array\n",
    "print (fancy)\n",
    "fancy[[1,4,3,2],[3,2,1,0]] #得到的是(1,3),(4,2),(3,1),(2,0)这四个点"
   ]
  },
  {
   "cell_type": "code",
   "execution_count": 61,
   "metadata": {},
   "outputs": [
    {
     "data": {
      "text/plain": [
       "array([[ 4,  7,  5,  6],\n",
       "       [16, 19, 17, 18],\n",
       "       [32, 35, 33, 34],\n",
       "       [ 8, 11,  9, 10]])"
      ]
     },
     "execution_count": 61,
     "metadata": {},
     "output_type": "execute_result"
    }
   ],
   "source": [
    "fancy[[1, 4, 8, 2]][:, [0, 3, 1, 2]] # 行的顺序是第2,5,9,3行,列的顺序是1,4,2,3列"
   ]
  },
  {
   "cell_type": "code",
   "execution_count": 62,
   "metadata": {},
   "outputs": [
    {
     "data": {
      "text/plain": [
       "array([[ 4,  7,  5,  6],\n",
       "       [16, 19, 17, 18],\n",
       "       [32, 35, 33, 34],\n",
       "       [ 8, 11,  9, 10]])"
      ]
     },
     "execution_count": 62,
     "metadata": {},
     "output_type": "execute_result"
    }
   ],
   "source": [
    "fancy[np.ix_([1,4,8,2],[0,3,1,2])]#和上面一样的"
   ]
  },
  {
   "cell_type": "code",
   "execution_count": 63,
   "metadata": {},
   "outputs": [
    {
     "data": {
      "text/plain": [
       "array([[ 0,  4,  8],\n",
       "       [ 1,  5,  9],\n",
       "       [ 2,  6, 10],\n",
       "       [ 3,  7, 11]])"
      ]
     },
     "execution_count": 63,
     "metadata": {},
     "output_type": "execute_result"
    }
   ],
   "source": [
    "t = np.arange(12).reshape(3,4)\n",
    "t.T"
   ]
  },
  {
   "cell_type": "code",
   "execution_count": 64,
   "metadata": {},
   "outputs": [
    {
     "data": {
      "text/plain": [
       "array([[ 14,  38,  62],\n",
       "       [ 38, 126, 214],\n",
       "       [ 62, 214, 366]])"
      ]
     },
     "execution_count": 64,
     "metadata": {},
     "output_type": "execute_result"
    }
   ],
   "source": [
    "np.dot(t,t.T)"
   ]
  },
  {
   "cell_type": "code",
   "execution_count": 65,
   "metadata": {},
   "outputs": [
    {
     "name": "stdout",
     "output_type": "stream",
     "text": [
      "[0.         1.         1.41421356 1.73205081 2.         2.23606798\n",
      " 2.44948974 2.64575131]\n",
      "[1.00000000e+00 2.71828183e+00 7.38905610e+00 2.00855369e+01\n",
      " 5.45981500e+01 1.48413159e+02 4.03428793e+02 1.09663316e+03]\n"
     ]
    }
   ],
   "source": [
    "f = np.arange(8)\n",
    "print(np.sqrt(f))\n",
    "print(np.exp(f))"
   ]
  },
  {
   "cell_type": "markdown",
   "metadata": {},
   "source": [
    "# maximum,modf的用法"
   ]
  },
  {
   "cell_type": "code",
   "execution_count": 67,
   "metadata": {},
   "outputs": [
    {
     "name": "stdout",
     "output_type": "stream",
     "text": [
      "[ 0.48947701  0.41477226 -0.09329751  0.41084723  2.19441003  0.56128456\n",
      "  1.41891669 -0.56277499]\n",
      "[-0.20077142 -0.29364493  1.92029761 -1.26724982  1.13601886 -0.12921872\n",
      "  1.56565525 -0.86102945]\n",
      "[ 0.48947701  0.41477226  1.92029761  0.41084723  2.19441003  0.56128456\n",
      "  1.56565525 -0.56277499]\n",
      "(array([ 0.48947701,  0.41477226, -0.09329751,  0.41084723,  0.19441003,\n",
      "        0.56128456,  0.41891669, -0.56277499]), array([ 0.,  0., -0.,  0.,  2.,  0.,  1., -0.]))\n"
     ]
    }
   ],
   "source": [
    "x = random.randn(8)\n",
    "y = random.randn(8)\n",
    "print (x)\n",
    "print (y)\n",
    "print (np.maximum(x,y))# 每个元素比较取较大的那个\n",
    "print (np.modf(x))#返回浮点数组的小数部分和整数部分,浮点带符号"
   ]
  },
  {
   "cell_type": "code",
   "execution_count": 69,
   "metadata": {},
   "outputs": [
    {
     "name": "stdout",
     "output_type": "stream",
     "text": [
      "Matrix values of y:\n",
      " [[-5 -5 -5 -5 -5 -5 -5 -5 -5 -5]\n",
      " [-4 -4 -4 -4 -4 -4 -4 -4 -4 -4]\n",
      " [-3 -3 -3 -3 -3 -3 -3 -3 -3 -3]\n",
      " [-2 -2 -2 -2 -2 -2 -2 -2 -2 -2]\n",
      " [-1 -1 -1 -1 -1 -1 -1 -1 -1 -1]\n",
      " [ 0  0  0  0  0  0  0  0  0  0]\n",
      " [ 1  1  1  1  1  1  1  1  1  1]\n",
      " [ 2  2  2  2  2  2  2  2  2  2]\n",
      " [ 3  3  3  3  3  3  3  3  3  3]\n",
      " [ 4  4  4  4  4  4  4  4  4  4]]\n",
      "Matrix values of x:\n",
      " [[-5 -4 -3 -2 -1  0  1  2  3  4]\n",
      " [-5 -4 -3 -2 -1  0  1  2  3  4]\n",
      " [-5 -4 -3 -2 -1  0  1  2  3  4]\n",
      " [-5 -4 -3 -2 -1  0  1  2  3  4]\n",
      " [-5 -4 -3 -2 -1  0  1  2  3  4]\n",
      " [-5 -4 -3 -2 -1  0  1  2  3  4]\n",
      " [-5 -4 -3 -2 -1  0  1  2  3  4]\n",
      " [-5 -4 -3 -2 -1  0  1  2  3  4]\n",
      " [-5 -4 -3 -2 -1  0  1  2  3  4]\n",
      " [-5 -4 -3 -2 -1  0  1  2  3  4]]\n"
     ]
    }
   ],
   "source": [
    "mtrices =np.arange(-5,5,1)\n",
    "x, y = np.meshgrid(mtrices, mtrices) #网格函数需要两个1 d数组并生成两个2d数组 \n",
    "print (\"Matrix values of y:\\n {}\".format(y))\n",
    "print (\"Matrix values of x:\\n {}\".format(x))"
   ]
  },
  {
   "cell_type": "code",
   "execution_count": 70,
   "metadata": {},
   "outputs": [
    {
     "name": "stdout",
     "output_type": "stream",
     "text": [
      "[(1, 6, True), (2, 7, False), (3, 8, True), (4, 9, True), (5, 10, False)]\n"
     ]
    }
   ],
   "source": [
    "x1= np.array([1,2,3,4,5])\n",
    "y1 = np.array([6,7,8,9,10])\n",
    "cond =[True, False, True, True, False]\n",
    "z1 = [(x,y,z) for x,y,z in zip(x1,y1,cond)]\n",
    "print(z1)"
   ]
  },
  {
   "cell_type": "markdown",
   "metadata": {},
   "source": [
    "# np.where()用法"
   ]
  },
  {
   "cell_type": "code",
   "execution_count": 72,
   "metadata": {
    "scrolled": true
   },
   "outputs": [
    {
     "data": {
      "text/plain": [
       "array([ 1,  7,  3,  4, 10])"
      ]
     },
     "execution_count": 72,
     "metadata": {},
     "output_type": "execute_result"
    }
   ],
   "source": [
    "np.where(cond,x1,y1)#如果coud为真,返回x1内容,否则返回y1内容,1,7,3,4,10"
   ]
  },
  {
   "cell_type": "code",
   "execution_count": 75,
   "metadata": {},
   "outputs": [
    {
     "name": "stdout",
     "output_type": "stream",
     "text": [
      "[[ 0.08229326 -2.11374728  0.58014191 -0.08770217  1.06764228]\n",
      " [ 0.76464306  0.93200839 -0.71882863 -0.06798984 -0.79187823]\n",
      " [-0.66270123 -0.119346    0.35524989 -0.70854102  1.08609747]\n",
      " [ 1.96554513 -0.3142512  -0.06440436  1.22149343  0.52557141]\n",
      " [-0.70998718 -1.54101745  0.63817352  1.93039699 -1.01370262]]\n",
      "[[ 1 -1  1 -1  1]\n",
      " [ 1  1 -1 -1 -1]\n",
      " [-1 -1  1 -1  1]\n",
      " [ 1 -1 -1  1  1]\n",
      " [-1 -1  1  1 -1]]\n"
     ]
    }
   ],
   "source": [
    "ra = np.random.randn(5,5)\n",
    "print(ra)\n",
    "print(np.where(ra>0,1,-1))"
   ]
  },
  {
   "cell_type": "code",
   "execution_count": 78,
   "metadata": {},
   "outputs": [
    {
     "name": "stdout",
     "output_type": "stream",
     "text": [
      "The arrays are: \n",
      "[[ 0  1  2]\n",
      " [ 3  4  5]\n",
      " [ 6  7  8]\n",
      " [ 9 10 11]]\n",
      "The sum of rows are :[18 22 26]\n",
      "The sum of cols are :[ 3 12 21 30]\n"
     ]
    }
   ],
   "source": [
    "jp =np.arange(12).reshape(4,3)\n",
    "print(\"The arrays are: \\n{}\".format(jp))\n",
    "print (\"The sum of rows are :{}\".format(np.sum(jp, axis =0)))\n",
    "print (\"The sum of cols are :{}\".format(np.sum(jp, axis =1)))"
   ]
  },
  {
   "cell_type": "code",
   "execution_count": 80,
   "metadata": {},
   "outputs": [
    {
     "name": "stdout",
     "output_type": "stream",
     "text": [
      "[ 3 12 21 30]\n",
      "[18 22 26]\n"
     ]
    }
   ],
   "source": [
    "print (jp.sum(1))\n",
    "print (jp.sum(0))"
   ]
  },
  {
   "cell_type": "code",
   "execution_count": 81,
   "metadata": {},
   "outputs": [
    {
     "data": {
      "text/plain": [
       "array([[ 0,  1,  2],\n",
       "       [ 3,  5,  7],\n",
       "       [ 9, 12, 15],\n",
       "       [18, 22, 26]], dtype=int32)"
      ]
     },
     "execution_count": 81,
     "metadata": {},
     "output_type": "execute_result"
    }
   ],
   "source": [
    "jp.cumsum(0)#行累加和"
   ]
  },
  {
   "cell_type": "code",
   "execution_count": 82,
   "metadata": {},
   "outputs": [
    {
     "data": {
      "text/plain": [
       "array([[ 0,  1,  3],\n",
       "       [ 3,  7, 12],\n",
       "       [ 6, 13, 21],\n",
       "       [ 9, 19, 30]], dtype=int32)"
      ]
     },
     "execution_count": 82,
     "metadata": {},
     "output_type": "execute_result"
    }
   ],
   "source": [
    "jp.cumsum(1)#列累加和"
   ]
  },
  {
   "cell_type": "code",
   "execution_count": 89,
   "metadata": {},
   "outputs": [
    {
     "name": "stdout",
     "output_type": "stream",
     "text": [
      "53\n",
      "True\n",
      "False\n"
     ]
    }
   ],
   "source": [
    "xp =np.random.randn(100)\n",
    "print((xp>0).sum())\n",
    "tandf =np.array([True,False,True,False,True,False])\n",
    "print(tandf.any())\n",
    "print(tandf.all())"
   ]
  },
  {
   "cell_type": "code",
   "execution_count": 90,
   "metadata": {},
   "outputs": [
    {
     "name": "stdout",
     "output_type": "stream",
     "text": [
      "[ 0.51233381  1.22259457 -2.07327136  1.74756161 -0.83226178  0.41163277\n",
      "  0.16012619 -0.46226801]\n"
     ]
    },
    {
     "data": {
      "text/plain": [
       "array([-2.07327136, -0.83226178, -0.46226801,  0.16012619,  0.41163277,\n",
       "        0.51233381,  1.22259457,  1.74756161])"
      ]
     },
     "execution_count": 90,
     "metadata": {},
     "output_type": "execute_result"
    }
   ],
   "source": [
    "lp = np.random.randn(8)\n",
    "print (lp)\n",
    "lp.sort()\n",
    "lp"
   ]
  },
  {
   "cell_type": "code",
   "execution_count": 91,
   "metadata": {},
   "outputs": [
    {
     "data": {
      "text/plain": [
       "array([[-0.76558399,  0.72985358,  0.03062867, -1.11256782],\n",
       "       [-0.09714548,  2.50346496, -0.07630973, -1.37743693],\n",
       "       [ 0.19321209, -0.10468288, -0.20097724,  0.54250209],\n",
       "       [-1.05533132, -1.70058477, -0.79955972,  0.81642611]])"
      ]
     },
     "execution_count": 91,
     "metadata": {},
     "output_type": "execute_result"
    }
   ],
   "source": [
    "tp = np.random.randn(4,4)\n",
    "tp"
   ]
  },
  {
   "cell_type": "code",
   "execution_count": 92,
   "metadata": {},
   "outputs": [
    {
     "data": {
      "text/plain": [
       "array([[-1.11256782, -0.76558399,  0.03062867,  0.72985358],\n",
       "       [-1.37743693, -0.09714548, -0.07630973,  2.50346496],\n",
       "       [-0.20097724, -0.10468288,  0.19321209,  0.54250209],\n",
       "       [-1.70058477, -1.05533132, -0.79955972,  0.81642611]])"
      ]
     },
     "execution_count": 92,
     "metadata": {},
     "output_type": "execute_result"
    }
   ],
   "source": [
    "tp.sort(1) #check the cols are sorted\n",
    "tp"
   ]
  },
  {
   "cell_type": "code",
   "execution_count": null,
   "metadata": {},
   "outputs": [],
   "source": [
    "sp = np.random.randn(5,5)\n",
    "print inv(sp)\n",
    "rt = inv(sp) #inv求逆"
   ]
  }
 ],
 "metadata": {
  "kernelspec": {
   "display_name": "Python 3",
   "language": "python",
   "name": "python3"
  },
  "language_info": {
   "codemirror_mode": {
    "name": "ipython",
    "version": 3
   },
   "file_extension": ".py",
   "mimetype": "text/x-python",
   "name": "python",
   "nbconvert_exporter": "python",
   "pygments_lexer": "ipython3",
   "version": "3.6.5"
  }
 },
 "nbformat": 4,
 "nbformat_minor": 2
}
